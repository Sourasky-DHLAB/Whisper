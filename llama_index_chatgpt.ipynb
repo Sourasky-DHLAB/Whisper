{
  "nbformat": 4,
  "nbformat_minor": 0,
  "metadata": {
    "colab": {
      "provenance": [],
      "include_colab_link": true
    },
    "kernelspec": {
      "name": "python3",
      "display_name": "Python 3"
    },
    "language_info": {
      "name": "python"
    }
  },
  "cells": [
    {
      "cell_type": "markdown",
      "metadata": {
        "id": "view-in-github",
        "colab_type": "text"
      },
      "source": [
        "<a href=\"https://colab.research.google.com/github/Sourasky-DHLAB/Whisper/blob/main/llama_index_chatgpt.ipynb\" target=\"_parent\"><img src=\"https://colab.research.google.com/assets/colab-badge.svg\" alt=\"Open In Colab\"/></a>"
      ]
    },
    {
      "cell_type": "markdown",
      "source": [
        "<div style=\"direction:rtl\" dir=\"rtl\">\n",
        "    <img src=\"http://drive.google.com/uc?export=view&id=1FnLVIqEV1Tt5rCEOIk5OxihO6xdZgTMe\"><br>\n",
        "<div style=\"direction:rtl\" dir=\"rtl\">\n",
        "  <p style=\"text-align: right; direction: rtl; float: right;\">    נכתב על ידי <a href=\"mailto:odedzarchia@tauex.tau.ac.il\">עודד זרחיה</a> | <a href=\"https://github.com/Sourasky-DHLAB\">Github</a><br>\n",
        "    <a href=\"https://cenlib.tau.ac.il/\">הספרייה המרכזית ע\"ש סוראסקי</a> | <a href=\"https://tau.ac.il/\">אוניברסיטת תל אביב</a>\n",
        "</div></p>"
      ],
      "metadata": {
        "id": "vU2j2zGydhuT"
      }
    },
    {
      "cell_type": "markdown",
      "source": [
        "<div dir=\"rtl\">\n",
        "<h1><strong>1. מודלי שפה גדולים לשימוש אקדמי - בעיות נפוצות</strong></h1>\n",
        "<div dir=\"rtl\" style=\"direction: rtl;\">\n",
        "<p style=\"text-align: right; direction: rtl; float: right;\">מודל שפה גדול (באנגלית: Large Language Model; ראשי תיבות: LLM) הוא אלגוריתם למידה עמוקה שיכול לזהות, לסכם, לתרגם, לחזות ולייצר טקסט וצורות אחרות של תוכן בהתבסס על ידע שנרכש ממערכי נתונים אדירי מימדים.</p>\n",
        "<p style=\"text-align: right; direction: rtl; float: right;\">בעוד מודלי שפה גדולים הם טכנולוגיה יוצאת מגדר הרגיל ליצירת טקסט, הם עדיין סובלים משורה של מגבלות משמעותיות שמקשות על ניצולם לצרכים אקדמיים:</p>\n",
        "</div>\n",
        "<ol>\n",
        "<li dir=\"rtl\" style=\"direction: rtl;\">תלות הפלט בעדכניות נתוני האימון (knowledge cutoff) - אימון של מודלי שפה גדולים צורך כמויות משמעותיות של זמן ומשאבים. לפיכך, מודלי אימון מכילים מידע עד לנקודת הזמן בה החלו לאמנם. כך, לדוגמה, GPT-4 של חברת OpenAI לא יוכל בדרך כלל להתייחס לארועים שקרו לאחר חודש ספטמבר בשנת 2021.</li>\n",
        "<li dir=\"rtl\" style=\"direction: rtl;\">הזיות (hallucinations) - באופן כללי, מודלי שפה גדולים אומנו לענות בביטחון על מגוון רחב של שאלות. עם זאת, לעתים מודלים אלו מספקים תגובות שאינן נראות מוצדקות על ידי נתוני האימון שלהן. בקצרה, למשתמש הקצה נדמה כי מודל השפה \"משקר\" או \"ממציא\".</li>\n",
        "<li dir=\"rtl\" style=\"direction: rtl;\">שקיפות (Transparency) - הואיל ומודלי שפה מאומנים על מידע שמכיל מאות מיליארדי מילים ממקורות שונים, קשה עד בלתי אפשרי להצביע על מקורות הידע המרכיבים תגובה מסוימת של מודל זה או אחר.\n",
        "<p style=\"text-align: right; direction: rtl; float: right;\">&nbsp;</p>\n",
        "</li>\n",
        "</ol>\n",
        "</div>"
      ],
      "metadata": {
        "id": "V9jx8PbvdtQU"
      }
    },
    {
      "cell_type": "markdown",
      "source": [
        "<div dir=\"rtl\">\n",
        "<h1><strong>2. מודלי שפה גדולים לשימוש אקדמי - פתרונות אפשריים</strong></h1>\n",
        "<div dir=\"rtl\" style=\"direction: rtl;\">\n",
        "<p style=\"text-align: right; direction: rtl; float: right;\">קיימות מספר גישות להתמודדות עם הבעיות שפורטו לעיל:<br>------------------------------------------------------------------------------------------------------------------------------------------------------------------------------------------------------------------------------------------------------------------------------------------------------------</p>\n",
        "</div>\n",
        "<ol>\n",
        "<li dir=\"rtl\" style=\"direction: rtl;\">Fine-Tuning - כפתרון לבעית ה-knoweldge cutoff ניתן לאמן את מודל השפה על מערך נתונים מתאים למשימה שעליו לבצע. עם זאת, פעולה זו, המכונה fine-tuning, אפשרית רק בחלק ממודלי השפה, ומצריכה בדרך כלל, הן זמן רב והן משאבי מחשוב מרובים. בנוסף, פעולה זו מצריכה ידע טכני נרחב ומחייבת הכנה של מערך נתונים בפורמט מתאים.</li>\n",
        "<li dir=\"rtl\" style=\"direction: rtl;\">למידה בהקשר (In-context learning) - הכנסת הקשר (context) מתאים אל תוך שורת הפקודה (prompt) של מודל השפה. כך, לדוגמה, ניתן, תיאורטית, להעתיק את תוכנו של מאמר אל שורת הפקודה של מודל השפה ולבקשו לענות לשאלות בהקשר זה בלבד. עם זאת, שורת הפקודה מוגבלת מבחינה אורכה המקסימלי. כך, לדוגמה, אל שורת הפקודה של ChatGPT ניתן להכניס עד 4096 טוקנים (בממוצע, ChatGPT מפרק 1,500 מילים ל-2048 טוקנים). על מגבלה זו ניתן להתגבר באמצעות אימון המודל דרך שורת הפקודה (prompt engineering), אולם זהו תהליך מורכב שאף הוא מצריך זמן רב.</li>\n",
        "</div>"
      ],
      "metadata": {
        "id": "DqWDbLsTNMYA"
      }
    },
    {
      "cell_type": "markdown",
      "source": [
        "<div dir=\"rtl\">\n",
        "<h1><strong>3. מודלי שפה גדולים לשימוש אקדמי - Llama index</strong></h1>\n",
        "<div dir=\"rtl\" style=\"direction: rtl;\">\n",
        "<p style=\"text-align: right; direction: rtl; float: right;\">Llama index היא מסגרת פיתוח (data framework) שמטרתה לשמש כממשק בין מודל השפה לבין המידע שנמצא ברשותך. מטרה זו מושגת באמצעות שלושה מרכיבים עיקריים:</p>\n",
        "</div>\n",
        "<ol>\n",
        "<li dir=\"rtl\" style=\"direction: rtl;\">מַחְבֵּר נתונים (data connector)- מסגרת הפיתוח מציעה מגוון של מחברי נתונים המאפשרים למשתמשים לחבר את מקורות המידע שברשותם (מסמכים, בסיסי נתונים, קבצי PDF וכולי) אל מודל השפה.</li>\n",
        "<li dir=\"rtl\" style=\"direction: rtl;\">אינדקסי-מידע (data indices) - מסגרת הפיתוח מאפשרת צורות שונות להבניית המידע שברשות המשתמשים (אינדקסים, גרפים וכולי) כך שניתן יהיה להשתמש בו בקלות עם מודל השפה.</li>\n",
        "<li dir=\"rtl\" style=\"direction: rtl;\">ממשק אחזור/שאילתה (retrieval/query interface) - מסגרת הפיתוח מאפשרת למשתמשים לתשאל את מודל השפה ולקבל תגובה שמתייחסת למידע שהזינו לו.&nbsp;\n",
        "<p style=\"text-align: right; direction: rtl; float: right;\">&nbsp;</p>\n",
        "</li>\n",
        "</ol>\n",
        "</div>"
      ],
      "metadata": {
        "id": "7KQjplW-bIAN"
      }
    },
    {
      "cell_type": "markdown",
      "source": [
        "<div dir=\"rtl\" style=\"direction: rtl;\">\n",
        "<h1><strong>4. התקנת ספריות</strong></h1>\n",
        "<div dir=\"rtl\" style=\"direction: rtl;\">\n",
        "<p style=\"text-align: right; direction: rtl; float: right;\">הריצו את התא הבא כדי להוריד ולהתקין את מסגרת הפיתוח של Llama index ואת ספריית openai המאפשרת גישה בפייתון אל מִנְשַׁק תִּכְנוּת היִשּׂוּמִים (API) של חברת OpenAI.</p>\n",
        "</div>\n",
        "</div>"
      ],
      "metadata": {
        "id": "rJUAoskkfzNZ"
      }
    },
    {
      "cell_type": "code",
      "execution_count": null,
      "metadata": {
        "id": "8GOnj-uNwte0"
      },
      "outputs": [],
      "source": [
        "!pip install llama-index\n",
        "!pip install openai"
      ]
    },
    {
      "cell_type": "markdown",
      "source": [
        "<h1><strong><div style=\"direction:rtl\" dir=\"rtl\">5. הגדרת מפתח API </div></h1></strong>\n",
        "<div style=\"direction:rtl\" dir=\"rtl\">\n",
        "  <p style=\"text-align: right; direction: rtl; float: right;\">\n",
        "הכניסו את מפתח ה-API שלכם במקום המתאים לכך בשורות 3 ו-4 (<code>INSERT_OPENAI_API_KEY_HERE</code>). לאחר מכן הריצו את התא.</p>"
      ],
      "metadata": {
        "id": "jkayya3ohbmJ"
      }
    },
    {
      "cell_type": "code",
      "source": [
        "import os\n",
        "import openai\n",
        "openai.api_key = 'INSERT_OPENAI_API_KEY_HERE'\n",
        "os.environ['OPENAI_API_KEY'] = 'INSERT_OPENAI_API_KEY_HERE'"
      ],
      "metadata": {
        "id": "Hm9ik6kwU0i5"
      },
      "execution_count": 11,
      "outputs": []
    },
    {
      "cell_type": "markdown",
      "source": [
        "<h1><strong><div style=\"direction:rtl\" dir=\"rtl\">6. ייבוא ספריות וטעינת קבצים  </div></h1></strong>\n",
        "<div style=\"direction:rtl\" dir=\"rtl\">\n",
        "  <p style=\"text-align: right; direction: rtl; float: right;\">\n",
        "הריצו את התא הבא כדי לייבא את הספריות הנחוצות על מנת לטעון קובץ PDF ולייצר \n",
        "עבורו אינדקס מתאים. הדוגמה במחברת זו מבוססת על דו\"ח של מרכז אדוה בשם <a href = https://adva.org/wp-content/uploads/2022/05/Israel-SocialReport2022.pdf>ISRAEL: A SOCIAL REPORT – 2022 </a> שפורסם בחודש מאי של שנת 2022 בפורמט PDF. </p> "
      ],
      "metadata": {
        "id": "lLCPj-Iyyg1D"
      }
    },
    {
      "cell_type": "code",
      "source": [
        "from llama_index import VectorStoreIndex, SimpleDirectoryReader, ListIndex, download_loader, GPTVectorStoreIndex\n",
        "\n",
        "PyMuPDFReader = download_loader(\"PyMuPDFReader\")\n",
        "documents = PyMuPDFReader().load(file_path='/content/sample_data/Israel-SocialReport2022.pdf', metadata=True)\n",
        "# ensure document texts are not bytes objects\n",
        "for doc in documents:\n",
        "    doc.text = doc.text.decode()"
      ],
      "metadata": {
        "id": "sIPBL1Y4km1y"
      },
      "execution_count": 77,
      "outputs": []
    },
    {
      "cell_type": "markdown",
      "source": [
        "<h1><strong><div style=\"direction:rtl\" dir=\"rtl\">7. בדיקת קבצים ותצוגה מקדימה </div></h1></strong>\n",
        "<div style=\"direction:rtl\" dir=\"rtl\">\n",
        "  <p style=\"text-align: right; direction: rtl; float: right;\">\n",
        "הריצו את התא הבא כדי לוודא שהקובץ נטען כראוי עם ה-metadata הרלבנטי.</p>"
      ],
      "metadata": {
        "id": "X21I-aTfz37T"
      }
    },
    {
      "cell_type": "code",
      "source": [
        "# print a document to test. Each document is a single page from the pdf, with appropriate metadata\n",
        "documents[11]"
      ],
      "metadata": {
        "colab": {
          "base_uri": "https://localhost:8080/"
        },
        "id": "DHOu9ZI4uLA1",
        "outputId": "ddf51d4a-82e6-47e5-ed13-d3339ea6203a"
      },
      "execution_count": 70,
      "outputs": [
        {
          "output_type": "execute_result",
          "data": {
            "text/plain": [
              "Document(text='Israel: A Social Report – 2022\\n12\\nThe outstanding success of the hi-tech sector \\nin Israel – its centrality in economic growth and \\nexport, the exits that have created a stratum of \\nnouveau riche with high salaries – have led to the \\nadoption of a social vision on the part of numerous \\nIsraelis, including senior politicians, whose essence \\nis to transfer more and more employees from other \\neconomic sectors to hi-tech.\\nThis is a very problematic vision, for the economy \\nrequires activity on all fronts. However, if we ignore \\nthis truth for the moment and focus on hi-tech, \\nwe cannot ignore the fact that the hi-tech vision, \\nincomplete as it is, requires first and foremost \\neducated workers.\\nHowever, Israel’s educational system is far from up \\nto the challenge. Although over the past 15 years \\nthe number of students among the age cohort \\nenrolled in twelfth grade has grown somewhat, \\nand the percentage of seniors matriculating has \\nalso increased, at the same time, the percentage of \\nhigh school graduates continuing on to academic \\nstudies has remained low.\\nThis fact is based on a follow-up study of high \\nschool graduates eight years after graduation, \\ncarried out by the Central Bureau of Statistics. The \\nlast class for which data was published was the \\nclass of 2012.\\nEducational Pyramid – Fewer \\nthan One-Third of the Age Cohort \\nContinue on to Higher Education\\nThere is a social \\nvision on the part of \\nnumerous Israelis, \\nincluding senior \\npoliticians, whose \\nessence is to \\ntransfer more and \\nmore employees \\nfrom other economic \\nsectors to hi-tech.\\n', doc_id='3738c18f-b27b-4af1-b8ca-8e0b4ee270fb', embedding=None, doc_hash='083aaaa280e2f1d8431ba8ffbb5d1ce05698b73c07a01ce6db7309b00de4df07', extra_info={'total_pages': 44, 'file_path': '/content/sample_data/Israel-SocialReport2022.pdf', 'source': '12'})"
            ]
          },
          "metadata": {},
          "execution_count": 70
        }
      ]
    },
    {
      "cell_type": "markdown",
      "source": [
        "<h1><strong><div style=\"direction:rtl\" dir=\"rtl\">8. יצירת אינדקס </div></h1></strong>\n",
        "<div style=\"direction:rtl\" dir=\"rtl\">\n",
        "  <p style=\"text-align: right; direction: rtl; float: right;\">\n",
        "הריצו את התא הבא כדי ליצור את האינדקס עבור הקובץ שטענו.</p>"
      ],
      "metadata": {
        "id": "XrkQe2Ze0Nsp"
      }
    },
    {
      "cell_type": "code",
      "source": [
        "index = GPTVectorStoreIndex.from_documents(documents)\n",
        "index.storage_context.persist(persist_dir=\"./storage\")"
      ],
      "metadata": {
        "id": "u40vgkT3uY5X"
      },
      "execution_count": 78,
      "outputs": []
    },
    {
      "cell_type": "markdown",
      "source": [
        "<h1><strong><div style=\"direction:rtl\" dir=\"rtl\">9. תשאול </div></h1></strong>\n",
        "<div style=\"direction:rtl\" dir=\"rtl\">\n",
        "  <p style=\"text-align: right; direction: rtl; float: right;\">\n",
        "הריצו את התאים הבאים כדי לתשאל את הקובץ. ניתן לשנות את השאלה בתוך משתנה <code>response</code> .</p>"
      ],
      "metadata": {
        "id": "LOwkYTu603Yo"
      }
    },
    {
      "cell_type": "code",
      "source": [
        "query_engine = index.as_query_engine()\n",
        "response = query_engine.query(\"given the context information, what was the percentage of 17 year olds enrolled in twelfth grade in 2012?\")\n",
        "print(response)"
      ],
      "metadata": {
        "colab": {
          "base_uri": "https://localhost:8080/"
        },
        "id": "USVIvzsAkuv1",
        "outputId": "44000374-efca-492c-85d3-7583383f51e5"
      },
      "execution_count": 74,
      "outputs": [
        {
          "output_type": "stream",
          "name": "stdout",
          "text": [
            "\n",
            "79.7%\n"
          ]
        }
      ]
    },
    {
      "cell_type": "code",
      "source": [
        "query_engine = index.as_query_engine()\n",
        "response = query_engine.query(\"given the context information, what is the National Health Insurance Law of 1994?\")\n",
        "print(response)"
      ],
      "metadata": {
        "colab": {
          "base_uri": "https://localhost:8080/"
        },
        "id": "hikp68qyxXMk",
        "outputId": "b7b8175b-f06f-4c58-cd14-9d1a0d896744"
      },
      "execution_count": 75,
      "outputs": [
        {
          "output_type": "stream",
          "name": "stdout",
          "text": [
            "\n",
            "The National Health Insurance Law of 1994 is a law that purports to provide all Israeli residents full access to health care services.\n"
          ]
        }
      ]
    },
    {
      "cell_type": "code",
      "source": [
        "query_engine = index.as_query_engine()\n",
        "response = query_engine.query(\"given the context information, why is the vision of Israel as a startup nation is problematic?\")\n",
        "print(response)"
      ],
      "metadata": {
        "colab": {
          "base_uri": "https://localhost:8080/"
        },
        "id": "Y9Nj4Ykmxkmr",
        "outputId": "8bba367e-bf42-464c-83a8-af93459c6569"
      },
      "execution_count": 76,
      "outputs": [
        {
          "output_type": "stream",
          "name": "stdout",
          "text": [
            "\n",
            "The vision of Israel as a startup nation is problematic because the educational system is not equipped to provide the educated workers needed to support the hi-tech sector. Additionally, the public health system, public education system, and housing policy lack sufficient resources and personnel to provide quality services to all Israelis. Furthermore, the social expenditure as a percentage of GDP is lower than the average of OECD countries, meaning that the state is not able to adequately cope with socio-economic inequality.\n"
          ]
        }
      ]
    },
    {
      "cell_type": "code",
      "source": [
        "query_engine = index.as_query_engine()\n",
        "response = query_engine.query(\"given the context information, what is the status of higher education in Israel?\")\n",
        "print(response)"
      ],
      "metadata": {
        "colab": {
          "base_uri": "https://localhost:8080/"
        },
        "id": "MURtwbK_1PmD",
        "outputId": "8ff60fdb-54ce-46bb-aef9-cbe84289c6ea"
      },
      "execution_count": 79,
      "outputs": [
        {
          "output_type": "stream",
          "name": "stdout",
          "text": [
            "\n",
            "The status of higher education in Israel is that the percentage of Jews and Arabs enrolled in institutes of higher learning has increased over the past decade, with the number of Arab students growing by 122%. However, the percentage of high school graduates continuing on to academic studies has remained low.\n"
          ]
        }
      ]
    }
  ]
}