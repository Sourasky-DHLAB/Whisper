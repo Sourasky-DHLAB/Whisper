{
  "nbformat": 4,
  "nbformat_minor": 0,
  "metadata": {
    "colab": {
      "provenance": [],
      "include_colab_link": true
    },
    "kernelspec": {
      "name": "python3",
      "display_name": "Python 3"
    },
    "language_info": {
      "name": "python"
    },
    "accelerator": "GPU",
    "gpuClass": "standard"
  },
  "cells": [
    {
      "cell_type": "markdown",
      "metadata": {
        "id": "view-in-github",
        "colab_type": "text"
      },
      "source": [
        "<a href=\"https://colab.research.google.com/github/Sourasky-DHLAB/Whisper/blob/main/llama_index_chatgpt.ipynb\" target=\"_parent\"><img src=\"https://colab.research.google.com/assets/colab-badge.svg\" alt=\"Open In Colab\"/></a>"
      ]
    },
    {
      "cell_type": "markdown",
      "source": [
        "<div style=\"direction:rtl\" dir=\"rtl\">\n",
        "    <img src=\"http://drive.google.com/uc?export=view&id=1FnLVIqEV1Tt5rCEOIk5OxihO6xdZgTMe\"><br>\n",
        "<div style=\"direction:rtl\" dir=\"rtl\">\n",
        "  <p style=\"text-align: right; direction: rtl; float: right;\">    נכתב על ידי <a href=\"mailto:odedzarchia@tauex.tau.ac.il\">עודד זרחיה</a> | <a href=\"https://github.com/Sourasky-DHLAB\">Github</a><br>\n",
        "    <a href=\"https://cenlib.tau.ac.il/\">הספרייה המרכזית ע\"ש סוראסקי</a> | <a href=\"https://tau.ac.il/\">אוניברסיטת תל אביב</a>\n",
        "</div></p>"
      ],
      "metadata": {
        "id": "vU2j2zGydhuT"
      }
    },
    {
      "cell_type": "markdown",
      "source": [
        "<div dir=\"rtl\">\n",
        "<h1><strong>1. מודלי שפה גדולים לשימוש אקדמי - בעיות</strong></h1>\n",
        "<div dir=\"rtl\" style=\"direction: rtl;\">\n",
        "<p style=\"text-align: right; direction: rtl; float: right;\">מודל שפה גדול (באנגלית: Large Language Model; ראשי תיבות: LLM) הוא אלגוריתם למידה עמוקה שיכול לזהות, לסכם, לתרגם, לחזות ולייצר טקסט וצורות אחרות של תוכן בהתבסס על ידע שנרכש ממערכי נתונים אדירי מימדים.</p>\n",
        "<p style=\"text-align: right; direction: rtl; float: right;\">בעוד מודלי שפה גדולים הם טכנולוגיה יוצאת מגדר הרגיל ליצירת טקסט, הם עדיין סובלים משורה של מגבלות משמעותיות שמקשות על ניצולם לצרכים אקדמיים:</p>\n",
        "</div>\n",
        "<ol>\n",
        "<li dir=\"rtl\" style=\"direction: rtl;\">תלות הפלט בעדכניות נתוני האימון (knowledge cutoff) - אימון של מודלי שפה גדולים צורך כמויות משמעותיות של זמן ומשאבים. לפיכך, מודלי אימון מכילים מידע עד לנקודת הזמן בה החלו לאמנם. כך, לדוגמה, GPT-4 של חברת OpenAI לא יוכל בדרך כלל להתייחס לארועים שקרו לאחר חודש ספטמבר בשנת 2021.</li>\n",
        "<li dir=\"rtl\" style=\"direction: rtl;\">הזיות (hallucinations) - באופן כללי, מודלי שפה גדולים אומנו לענות בביטחון על מגוון רחב של שאלות. עם זאת, לעתים מודלים אלו מספקים תגובות שאינן נראות מוצדקות על ידי נתוני האימון שלהן. בקצרה, למשתמש הקצה נדמה כי מודל השפה \"משקר\" או \"ממציא\".</li>\n",
        "<li dir=\"rtl\" style=\"direction: rtl;\">שקיפות (Transparency) - הואיל ומודלי שפה מאומנים על מידע שמכיל מאות מיליארדי מילים ממקורות שונים, קשה עד בלתי אפשרי להצביע על מקורות הידע המרכיבים תגובה מסוימת של מודל זה או אחר.\n",
        "<p style=\"text-align: right; direction: rtl; float: right;\">&nbsp;</p>\n",
        "</li>\n",
        "</ol>\n",
        "</div>"
      ],
      "metadata": {
        "id": "V9jx8PbvdtQU"
      }
    },
    {
      "cell_type": "markdown",
      "source": [
        "<div dir=\"rtl\">\n",
        "<h1><strong>2. מודלי שפה גדולים לשימוש אקדמי - פתרונות</strong></h1>\n",
        "<div dir=\"rtl\" style=\"direction: rtl;\">\n",
        "<p style=\"text-align: right; direction: rtl; float: right;\">קיימות מספר גישות להתמודדות עם הבעיות שפורטו לעיל:</p>\n",
        "<ol>\n",
        "<li>Fine-Tuning - כפתרון לבעית ה-knoweldge cutoff ניתן לאמן את מודל השפה על מערך נתונים מתאים למשימה שעליו לבצע. עם זאת, פעולה זו, המכונה fine-tuning, אפשרית רק בחלק ממודלי השפה, ומצריכה בדרך כלל, הן זמן רב והן משאבי מחשוב מרובים. בנוסף, פעולה זו מצריכה ידע טכני נרחב ומחייבת הכנה של מערך נתונים בפורמט מתאים.</li>\n",
        "<li>למידה בהקשר (In-context learning) - הכנסת הקשר (context) מתאים אל תוך שורת הפקודה (prompt) של מודל השפה. כך, לדוגמה, ניתן, תיאורטית, להעתיק את תוכנו של מאמר אל שורת הפקודה של מודל השפה ולבקשו לענות לשאלות בהקשר זה בלבד. עם זאת, שורת הפקודה מוגבלת מבחינה אורכה המקסימלי. כך, לדוגמה, אל שורת הפקודה של ChatGPT ניתן להכניס עד 4096 טוקנים (בממוצע, ChatGPT מפרק 1,500 מילים ל-2048 טוקנים). על מגבלה זו ניתן להתגבר באמצעות אימון המודל דרך שורת הפקודה (prompt engineering), אולם זהו תהליך מורכב שאף הוא מצריך זמן רב.</li>\n",
        "</ol>\n",
        "</div>"
      ],
      "metadata": {
        "id": "DqWDbLsTNMYA"
      }
    },
    {
      "cell_type": "code",
      "execution_count": null,
      "metadata": {
        "id": "8GOnj-uNwte0"
      },
      "outputs": [],
      "source": [
        "!pip install llama-index\n",
        "!pip install openai"
      ]
    },
    {
      "cell_type": "code",
      "source": [
        "import os\n",
        "import openai\n",
        "openai.api_key = ''\n",
        "os.environ['OPENAI_API_KEY'] = ''"
      ],
      "metadata": {
        "id": "Hm9ik6kwU0i5"
      },
      "execution_count": null,
      "outputs": []
    },
    {
      "cell_type": "code",
      "source": [
        "from llama_index import VectorStoreIndex, SimpleDirectoryReader\n",
        "documents = SimpleDirectoryReader('/content/sample_data/data').load_data()\n",
        "index = VectorStoreIndex.from_documents(documents)"
      ],
      "metadata": {
        "id": "-BE8KmzlzSjR"
      },
      "execution_count": null,
      "outputs": []
    },
    {
      "cell_type": "code",
      "source": [
        "query_engine = index.as_query_engine()\n",
        "response = query_engine.query(\"what are these documents about?\")\n",
        "print(response)"
      ],
      "metadata": {
        "id": "tsvxmLRvzJ6U",
        "colab": {
          "base_uri": "https://localhost:8080/"
        },
        "outputId": "50019443-f252-430d-8ab5-7f27fc9b0f20"
      },
      "execution_count": null,
      "outputs": [
        {
          "output_type": "stream",
          "name": "stdout",
          "text": [
            "\n",
            "המסמך מדבר על עוורת שנעצרה בעיירה בדרך לביתה. היא מתחילה להבין שהיא נסעה מתחום הישוב ועוברת דרך הרחובות של הערלים. בסוף, העגלה עומדת לפני ביתה שלה והיא מחכה עד שאנשי הבית יעורו אותה.\n"
          ]
        }
      ]
    },
    {
      "cell_type": "code",
      "source": [
        "from llama_index import ListIndex\n",
        "index = ListIndex.from_documents(documents)"
      ],
      "metadata": {
        "id": "Wi6nVQ0h0DDo"
      },
      "execution_count": null,
      "outputs": []
    },
    {
      "cell_type": "code",
      "source": [
        "query_engine = index.as_query_engine(\n",
        "    response_mode=\"tree_summarize\"\n",
        ")\n",
        "response = query_engine.query(\"what are these documents about?\")\n",
        "print(response)"
      ],
      "metadata": {
        "colab": {
          "base_uri": "https://localhost:8080/"
        },
        "id": "ngps0jzqVSTB",
        "outputId": "1c97645f-25d7-40d9-e837-46f2df13b122"
      },
      "execution_count": null,
      "outputs": [
        {
          "output_type": "stream",
          "name": "stdout",
          "text": [
            "\n",
            "הטקסט מספר את הסיפור של חנה, העוורת מאת יעקב שטיינברג. הסיפור מתחיל בחתונתה ומתמשך עד לרגע שהיא מגלה את המקום שבו היא נמצאת. הסיפור מספר על החלום שלה של הבית המרווח שלה, על הבעל שלה שהוא איש אלמן ועל הנער שלה שהוא כבד-פה. הסיפור מספר גם על החלום שלה שהבעל ש\n"
          ]
        }
      ]
    },
    {
      "cell_type": "code",
      "source": [
        "from llama_index import download_loader\n",
        "\n",
        "PyMuPDFReader = download_loader(\"PyMuPDFReader\")"
      ],
      "metadata": {
        "id": "YhGYiFXQli3S"
      },
      "execution_count": null,
      "outputs": []
    },
    {
      "cell_type": "code",
      "source": [
        "documents = PyMuPDFReader().load(file_path='/content/sample_data/data/moretti.pdf', metadata=True)"
      ],
      "metadata": {
        "id": "78oNkF-GltDX"
      },
      "execution_count": null,
      "outputs": []
    },
    {
      "cell_type": "code",
      "source": [
        "documents = PyMuPDFReader().load(file_path='/content/sample_data/data/moretti.pdf', metadata=True)\n",
        "# ensure document texts are not bytes objects\n",
        "for doc in documents:\n",
        "    doc.text = doc.text.decode(\"UTF-8\")"
      ],
      "metadata": {
        "id": "Eog_429V7lsQ"
      },
      "execution_count": null,
      "outputs": []
    },
    {
      "cell_type": "code",
      "source": [
        "# print a document to test. Each document is a single page from the pdf, with appropriate metadata\n",
        "documents[10]"
      ],
      "metadata": {
        "colab": {
          "base_uri": "https://localhost:8080/"
        },
        "id": "DXhZjmLt71Md",
        "outputId": "96c3a6c3-3383-4180-c6a8-46a699f9f1b5"
      },
      "execution_count": null,
      "outputs": [
        {
          "output_type": "execute_result",
          "data": {
            "text/plain": [
              "Document(text='PC\\nDGGQ\\nSN[\\nCKCG\\\\,\\nCZ,[BET21\\nBGVQ\\nBKEKB\\nNK,\\nFKSFNM\\nJGZKF\\nVSF\\nZG\\\\K\\\\\\n\\\\MFGV\\nN[FZGMB\\\\Z[Z[N\\nRKSKGRG\\\\\\n[YF\\nGZKO\\nHF\\nEKB\":CHF\\nNGD\\nCKQ\\nTGC\\nEG\\\\\\nEN\\nPKGQ\",\\nVKM\\nE@P&ZVKJ[\\nBG@GZ\\nMRFP(Medawar)\\n:\\\\HB\\nEKB\\nNGD\\nCKQ\"\\nNGK[T[FP\\nFKG\\\\\\nRMGQ\\nGCKQ\\nFP\\n22.\"\\\\PBCFYGZ[\\n\\\\KBGZ\\nHF\\nZYIPF\\\\BOFGN\\nFRGM\\nIK,\\nMG,NFPC[\\nC\\nTGEK\\n\\\\BBYGZ\\nT\\nCGEG\\\\KF\\nFKSFZ#KCIN[O\\nJGZKGRKO\\nZZC\\\\F\\n[VDPF[NK\\nCKQ\\nXGZG\\\\\\nZTP\\nCKG\\\\\\nPN\\nXKBG\\\\\\nP\\nYGPK\\\\\\nB\\nMQKX\\nYGOPNMCZ\\nZGYJSFZ[V\\nJGZNK\\\\\\nIGYF[VKM=\\nDONCB=FZKY[FVX\\nF[CNFPXTHGFZ[V[\\nXGZG\\\\\\n[\\nGRG\\\\.\\nTN\\n\\\\KO,\\nCKKIGE\\nXK\\\\IPC\\nRKKF[F\\nFBPFN[\\nF,Z[TT[\\\\F\\nBGC\\nSKF,\\nFKB\\nBGEPF\\\\RJ\\nN\\nBK-KXKCG\\\\\\n\"23:\\n\\\\GMRK\\\\\\nZK\\\\[VB\\\\KNC\\nM\",\\nVK\\nF\\nBRNKHF\\nNFZKMX\\nFKG\\\\\\nJRFY\\nKG\\\\\\nZ:\\n[FZYP)CD[PG\\nNRG(,\\nTK,XPB\\nJ\\nZfo,\\nKIKE\\nRZF\\nJKCK\\\\\\nPGDC\\nTKQPFG[P=\\\\N\\nNG.B\\nZPBPC\\nURGS\\nBRK\\nP\\nYGGF\\nJG\\\\[V\\\\F\\\\BJJZ[N\\n\"ZF\\nXKRG\\\\\\n\"\\nF\\nSDRGRK\\\\\\n)PKN\\nZGVSCLCBGZBNXBI\\\\VPF\\\\\\nPKP\\nHKS(\\nC\\nZGPQ\\nBG\\\\PFN[\\nFZ[TT[\\\\F\\n[TGF\\nZKO.\\nEDOP\\\\IKZC.21\\nC=PKQB\\nPKNKO\\nIB\\nZG\\\\,\\nBKHG\\nVSN[FEZS\\nZGKG\\\\\\nN\\nBGPKG\\\\\\nGBKNG\\nZGPRKO\\nZKO[VBP\\nNYVSPIQCP\\nIKHGKKO\\nFXKTP[\\n\\\\KBGZKF\\n=\\nFKB,\\nM\\nPGCQ,\\nSGDKF\\nPGZM\\nJGJZ[C\\\\.C\\n\\\\KNI\\\\F\\nHF,\\nEDOPF\\nNK[\\nEX)GF\\nYG\\\\KG(\\nPG\\\\KZKO\\nYGOP\\n[N\\nKVGZ.\\n.22\\nE@GP&\\nBG@GZ\\nPGSKU:\\nIKN\\\\P\"TKEPZYIP\\nM\\nSKVGZ\\nNT\\n[VBOTGN\\nZK,GP\\nS\\n\\\\KKO,\\n[NMM\\nKERG\\nDTP\\n\\\\,\\nM\\nSKVGZ\\nNT\\nBOTGN\\nPK\\\\K\".\\nZKGCE\\nXGJPFNB\\nJKO\\nJames Bird, The Changing WorldNXB\\n.of Geography, Oxford 1993, p. 5\\nCKZE\\nXKTPPGXT\\nBFSDZZVSC\\nNDRJK\\\\\\nBGEP\\nN[\\nNPGEF\\nFRKSGKK.\\n.23\\nZKOYIPFNTURGS\\nN[\\nJRKZGYK[PKG\\nN)T\\nKVQ(,\\nN[\\nFPGY\\nZD\\'K\\nN)T\\nFGEG(\\nN)TWGGZ[N[G\\nC\\nZHKN(,\\nVF\\nZEGY\\nSKO\\nYGPFN[\\nVGHKXKF\\nGIGS\\nZ\\nFKXKCG\\\\\\nFRDHZKO\\nFFZ[o^FPQ\\nXGZRK\\\\\\nPGHMZKO\\n\\\\KOTN\\nY\\nZGCG\\\\\\nDO\\nZKOYIPC\\nFNT\\nZGPQ\\nF\\n\\\\GZMK,\\nF\\nSKRK\\nYP&RBN[ZGVSNTZGCECCK.ZTGF\\nP,IntibahN,BPM\\nXKKQ\\nJPIB\\nBGGKQ\\n[F\"MK\\nKNGC\\n\\\\\\\\K[N[\\nPG\\\\,\\nNT\\\\SCGSP\\\\IBF\\nIBGZ\\nF\\nIKKO\\nSGZPF\\\\KIV[PF\\n\\\\K\\nNT\\\\ZIBGF\\nMKSGVKF\\nN[\\nHGRF,\\nP\\nMGRQ\\n\\\\B\\nFRKSKGQ\\nGQ[BZF\\nZG\\\\VSC\\nF\\n\\\\GZMK\\\\\\nVEPPCXTN\\nSKMGNGDK\\nSGDFPQ\\nXGKPF\\nC\\nZGPQ\\nF\\nBKZGVK,\\n\\\\GLC\\n\\\\SDZP\\nJK\\\\BP\\\\\\nFNT\\\\SCGSPF\\nIKKO\\nC\\n\\\\GZMKF.\\nHBOTEKI\\nPG\\\\\\\\F\\\\K[[ZIBP\\\\,\\nNGBF\\nBKRQ\\nCG\\\\[\\\\KKP\\nOTHG\\nHG,\\nGRF[FNY[PFN[GC\\nFRK\\\\Q\\nFQ,P\\\\IBNMN\\nIB\\nEG\\\\G\\nFN[\\nZGPQ\\nRVDT\\n\\\\.\\nVDF\\nPKO\\nPF\\nCRKKO\\nIntibahN[\\nJGPVSKP\\nJKKO\\nNKOECFN\\nCKQ\\nPF\\n\\\\GEGNGDKF\\nGTRKKRKF\\nN[\\nVSF\\\\SGZPF\\nZG\\\\K\\\\\\nF\\n\\\\GZMK\\\\\\nFN[NGBCKQNEIBEXP\\nZGPQ\\nF\\nBKZGVK\\nZ\"IBFEXFPQ\\n)BGGKQ,\\nTKNN\\n[F[EDFF;68P\\'T,15FZTF\\nNK(.\\nZN@o@FD@\\'N&\\nTFCF,\\nZG\\\\KF\\nF\\\\YGV\\\\NT\\n\\\\RHKP\\n\\\\,B\\nZG\\\\TFFTKZP\\nEGPG\\\\:\\nBP\"\\nIGZK\\nFRJKKF\\nG\\\\[EI\\\\FN\\nFEPT\\nBKEKBGNGDKF\\nTG\\\\\\'P\\nBRK\\\\\\nEGPKRRJK\\\\\\nZF\\\\B[EIPFCTKX[\\\\JGN[G\\nTKGRG\\\\\\n\\\\GLNKO[EIF\\n\\\\\\nCRK\\\\\\nFZCI\\\\B\\\\PFGNF\\nF\\nTG\\\\\\'P\\nBRK\\\\\\nSGZPF\\n\\\\K\\\\.\\n\\\\[BNB\\nCRK\\\\\\nHG\\nFKK\\\\\\nMKNFNFPGZBF\\n\\\\\\\\K[\\nVKSG\\\\\\nJVKSB\\nPGNGDKG\\\\\\n[\\nGRG\\\\\\nYBNTFSSC\\\\FFQP\\\\IBNM[\\nSKGPG\\\\\\nSG\\\\F\\nZG\\\\\\n[FN[NGB\\\\B\\nRKKF.\\n\\\\\\nCRK\\\\\\nHG\\nFKK\\\\\\nF\\nY,EFKSN\\\\EPeT\\nVSGF\\nZG\\\\,\\nC\\nBGVQ\\nMHF\\n)V\"YKOESF\\\\B\\\\VY[PZ,IBBG\\nZN\\nTKNNF,\\nFZTF\\n[F[EDFF;15\\nNK(.\\nC\\nEKGRG\\nN[\\nZGD\\'Z\\nFNTNQB\\nZGPQ\\nHKRB\\nC\\\\M[C\\nIGSKKQ\\nFKKM\\nN\\n1913C-\\nEKOFEFP\\nWGGZ[N[OZKFCE\\nGPGY\\nF\\nZD\\'K:\\nBGEPNY\"\\nNHFG\\\\\\nBQM\\nC\\\\B\\nTKG\\\\\\nN[MF\\nVF\\nSKMGNGDK,\\nI@Z[BM\\nPKE,\\nSF\\nJGERJ\\nYP\\nFKZ,\\nMKZP[\\nCKO\\\\M\\nZTP\\nCKKO\\nNT\\nIKZG\\\\\\nY,EGX\\nMDGQ\\nN[NGB\\nD\\'GQ\\nS\\nJKGB\\nJZ\\nPKN\\nVRSSJZCZGF\\nZ,\\nVGRF\\nEGQN\\nOT\\nFGZKG\\n\\\\NB[C\\n[FRK\\nGBKQ\\nFZCIC\\nZK\\\\XPF\\n=FB[RKFEPTP\\nOBG\\\\\\nFGZKO\\nPIKG[\\nBHGP\\nPKE\\\\\\nPGYT\\nC\\nBHGZ\\nZK\"XPFZVMF\\n)B\\nNQ,\\n235\\nV\\nZRYG\\nPGZ\\nJK\\n', doc_id='18ee00dc-1d3c-4b02-9f16-55b9c115eaf5', embedding=None, doc_hash='51680bd6435945972652e15e95d4563b40540fc759c2e74ef6aa56243f6bcec2', extra_info={'total_pages': 17, 'file_path': '/content/sample_data/data/moretti.pdf', 'source': '11'})"
            ]
          },
          "metadata": {},
          "execution_count": 13
        }
      ]
    },
    {
      "cell_type": "code",
      "source": [
        "from llama_index import ListIndex\n",
        "index = ListIndex.from_documents(documents)\n",
        "\n",
        "query_engine = index.as_query_engine(\n",
        "    response_mode=\"tree_summarize\"\n",
        ")\n",
        "response = query_engine.query(\"given the context information, what is distant reading?\")\n",
        "print(response)"
      ],
      "metadata": {
        "colab": {
          "base_uri": "https://localhost:8080/"
        },
        "id": "25o4-wd9l3Qd",
        "outputId": "67e11faa-ad8c-46a4-aa03-3c811dc3f2dd"
      },
      "execution_count": null,
      "outputs": [
        {
          "output_type": "stream",
          "name": "stdout",
          "text": [
            "\n",
            "Distant reading is a method of literary analysis that uses computational techniques to analyze large amounts of text. It is used to identify patterns and trends in texts that would be difficult to detect through traditional close reading methods.\n"
          ]
        }
      ]
    },
    {
      "cell_type": "code",
      "source": [
        "from llama_index import SimpleDirectoryReader, VectorStoreIndex, download_loader, RAKEKeywordTableIndex\n"
      ],
      "metadata": {
        "id": "iXY0uz419Ln6"
      },
      "execution_count": null,
      "outputs": []
    },
    {
      "cell_type": "code",
      "source": [
        "!pip install pypdf"
      ],
      "metadata": {
        "colab": {
          "base_uri": "https://localhost:8080/"
        },
        "id": "vNDyP2-29P4h",
        "outputId": "47c9e4a1-c28c-4458-c0de-65e2e9cee633"
      },
      "execution_count": null,
      "outputs": [
        {
          "output_type": "stream",
          "name": "stdout",
          "text": [
            "Looking in indexes: https://pypi.org/simple, https://us-python.pkg.dev/colab-wheels/public/simple/\n",
            "Collecting pypdf\n",
            "  Downloading pypdf-3.9.1-py3-none-any.whl (249 kB)\n",
            "\u001b[2K     \u001b[90m━━━━━━━━━━━━━━━━━━━━━━━━━━━━━━━━━━━━━━━\u001b[0m \u001b[32m249.3/249.3 kB\u001b[0m \u001b[31m8.3 MB/s\u001b[0m eta \u001b[36m0:00:00\u001b[0m\n",
            "\u001b[?25hInstalling collected packages: pypdf\n",
            "Successfully installed pypdf-3.9.1\n"
          ]
        }
      ]
    },
    {
      "cell_type": "code",
      "source": [
        "from llama_index import LLMPredictor, ServiceContext, VectorStoreIndex\n",
        "from langchain import OpenAI\n",
        "\n",
        "service_context = ServiceContext.from_defaults(\n",
        "    llm_predictor=LLMPredictor(\n",
        "        llm=OpenAI(temperature=0, model_name=\"text-davinci-003\", streaming=True)\n",
        "    )\n",
        ")"
      ],
      "metadata": {
        "id": "_zEDQ_sw8f5l"
      },
      "execution_count": null,
      "outputs": []
    },
    {
      "cell_type": "code",
      "source": [
        "reader = SimpleDirectoryReader(input_files=['/content/sample_data/data/moretti.pdf'])\n",
        "data = reader.load_data()"
      ],
      "metadata": {
        "id": "v88dUOo09A-t"
      },
      "execution_count": null,
      "outputs": []
    },
    {
      "cell_type": "code",
      "source": [
        "index = VectorStoreIndex.from_documents(data, service_context=service_context)\n"
      ],
      "metadata": {
        "id": "YQSPZQWg8lyi"
      },
      "execution_count": null,
      "outputs": []
    },
    {
      "cell_type": "code",
      "source": [
        "query_engine = index.as_query_engine(\n",
        "    streaming=True, \n",
        "    similarity_top_k=3,\n",
        "    response_mode=\"tree_summarize\"\n",
        ")"
      ],
      "metadata": {
        "id": "hhOgNDWY8zaj"
      },
      "execution_count": null,
      "outputs": []
    },
    {
      "cell_type": "code",
      "source": [
        "response = query_engine.query(\"given the context information, what is this document about?\")\n",
        "response.print_response_stream()"
      ],
      "metadata": {
        "colab": {
          "base_uri": "https://localhost:8080/"
        },
        "id": "L-xvUBRm80VQ",
        "outputId": "20337f14-8121-4baa-f47e-d2408929e7f8"
      },
      "execution_count": null,
      "outputs": [
        {
          "output_type": "stream",
          "name": "stdout",
          "text": [
            "\n",
            "This document appears to be about the literary and theoretical research conducted by the Kipp Center for Hebrew Literature and Culture at Tel Aviv University. It includes information about copyright, the publication of the document, and various literary references."
          ]
        }
      ]
    }
  ]
}