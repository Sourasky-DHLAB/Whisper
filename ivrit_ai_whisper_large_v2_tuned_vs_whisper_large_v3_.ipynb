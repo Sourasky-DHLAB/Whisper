{
  "nbformat": 4,
  "nbformat_minor": 0,
  "metadata": {
    "colab": {
      "provenance": [],
      "gpuType": "V100",
      "authorship_tag": "ABX9TyNh8qRM4edv6WhzZli20QUW",
      "include_colab_link": true
    },
    "kernelspec": {
      "name": "python3",
      "display_name": "Python 3"
    },
    "language_info": {
      "name": "python"
    },
    "accelerator": "GPU"
  },
  "cells": [
    {
      "cell_type": "markdown",
      "metadata": {
        "id": "view-in-github",
        "colab_type": "text"
      },
      "source": [
        "<a href=\"https://colab.research.google.com/github/Sourasky-DHLAB/Whisper/blob/main/ivrit_ai_whisper_large_v2_tuned_vs_whisper_large_v3_.ipynb\" target=\"_parent\"><img src=\"https://colab.research.google.com/assets/colab-badge.svg\" alt=\"Open In Colab\"/></a>"
      ]
    },
    {
      "cell_type": "code",
      "source": [
        "!nvidia-smi -L\n",
        "!nvidia-smi"
      ],
      "metadata": {
        "id": "U1lkWY8xkwkk"
      },
      "execution_count": null,
      "outputs": []
    },
    {
      "cell_type": "code",
      "source": [
        "!pip install jiwer"
      ],
      "metadata": {
        "id": "Sxuo7WzQcqOp"
      },
      "execution_count": null,
      "outputs": []
    },
    {
      "cell_type": "markdown",
      "source": [
        "**With ivrit-ai / whisper-large-v2-tuned**"
      ],
      "metadata": {
        "id": "ViLV9owhh1GP"
      }
    },
    {
      "cell_type": "code",
      "execution_count": 3,
      "metadata": {
        "id": "KodDrDslkkQ0"
      },
      "outputs": [],
      "source": [
        "import torch\n",
        "from transformers import pipeline"
      ]
    },
    {
      "cell_type": "code",
      "source": [
        "device = \"cuda:0\" if torch.cuda.is_available() else \"cpu\""
      ],
      "metadata": {
        "id": "4PUB0LXpk6HI"
      },
      "execution_count": 4,
      "outputs": []
    },
    {
      "cell_type": "code",
      "source": [
        "pipe = pipeline(\n",
        "  \"automatic-speech-recognition\",\n",
        "  model=\"ivrit-ai/whisper-large-v2-tuned\",\n",
        "  chunk_length_s=10,\n",
        "  device=device,\n",
        "  generate_kwargs={\"language\": \"hebrew\"}\n",
        ")"
      ],
      "metadata": {
        "id": "WOLIT7FIlDlI"
      },
      "execution_count": null,
      "outputs": []
    },
    {
      "cell_type": "code",
      "source": [
        "# mount google drive\n",
        "from google.colab import drive\n",
        "drive.mount(\"/content/drive\", force_remount=True) # This will prompt for authorization."
      ],
      "metadata": {
        "id": "rW5fOJILlop7"
      },
      "execution_count": null,
      "outputs": []
    },
    {
      "cell_type": "code",
      "source": [
        "!ffmpeg -i '/content/drive/MyDrive/Whisper/Audio/H1.mp4' -vn -acodec pcm_s16le -ar 44100 -ac 2 '/content/drive/MyDrive/Whisper/Audio/H1.wav'"
      ],
      "metadata": {
        "id": "zEPlYC8fnRsj"
      },
      "execution_count": null,
      "outputs": []
    },
    {
      "cell_type": "code",
      "source": [
        "audio = '/content/drive/MyDrive/Whisper/Audio/H1.wav'\n",
        "prediction = pipe(audio, batch_size=10, generate_kwargs={\"language\": \"hebrew\"})[\"text\"]"
      ],
      "metadata": {
        "id": "BkTqDo5Al4ES"
      },
      "execution_count": 8,
      "outputs": []
    },
    {
      "cell_type": "code",
      "source": [
        "print(prediction)"
      ],
      "metadata": {
        "colab": {
          "base_uri": "https://localhost:8080/"
        },
        "id": "ryVVTpzYcc_w",
        "outputId": "6191c7a2-6699-4314-bca2-6f1a95c96ace"
      },
      "execution_count": 9,
      "outputs": [
        {
          "output_type": "stream",
          "name": "stdout",
          "text": [
            "ערב טוב לכולם לפני ימים אחדים הציג שר המשפטים החדש, תוכנית בזק לשינויים מרחיקי לכת במערכת המשפט. למעשה מדובר במתקפה, שלוחת רסל על מערכת המשפט. למשל הייתה אויב שיש להסתער עליו ולהכניעו. למרבה הציניות הוגה התוכנית, מכנים אותה, תוכנית לתיקון מערכת המשפט ואני אומרת, זו תוכנית לריסוק מערכת המשפט. היא מיועדת להנחית מכה אנושה על עצמאותה ואיתלותה של הרשות השופטת ולהפוך אותה לרשות שותקת. מסקנה זו עולה הן מן הדרך שבה בחר השר להציג את תוכניתו והן מתוכנה וממהותה לא ניתן להבין אחרת את מסיבת העיתונאים הדרמטית שאותה בחר השר לכנס ימים ספורים בלבד לאחר כניסתו לתפקיד בהציג לראשונה את תוכניתו. כפי שציינתי לא אחת, העצמאות ואי התלות השיפוטית הן נשמת אפו של בית המשפט, ובלעדיהן לא יוכלו שופטי ישראל למלא את תפקידם, כי משרתי הציבור וכנאמניו.\n"
          ]
        }
      ]
    },
    {
      "cell_type": "code",
      "source": [
        "import string\n",
        "whisper_output = prediction\n",
        "whisper_output_norm = whisper_output.lower().translate(str.maketrans('', '', string.punctuation)).replace('\\n', ' ')\n",
        "print(whisper_output_norm)"
      ],
      "metadata": {
        "colab": {
          "base_uri": "https://localhost:8080/"
        },
        "id": "RCulpzJddHci",
        "outputId": "7893b2e5-808e-468e-bc24-defb4de74e42"
      },
      "execution_count": 10,
      "outputs": [
        {
          "output_type": "stream",
          "name": "stdout",
          "text": [
            "ערב טוב לכולם לפני ימים אחדים הציג שר המשפטים החדש תוכנית בזק לשינויים מרחיקי לכת במערכת המשפט למעשה מדובר במתקפה שלוחת רסל על מערכת המשפט למשל הייתה אויב שיש להסתער עליו ולהכניעו למרבה הציניות הוגה התוכנית מכנים אותה תוכנית לתיקון מערכת המשפט ואני אומרת זו תוכנית לריסוק מערכת המשפט היא מיועדת להנחית מכה אנושה על עצמאותה ואיתלותה של הרשות השופטת ולהפוך אותה לרשות שותקת מסקנה זו עולה הן מן הדרך שבה בחר השר להציג את תוכניתו והן מתוכנה וממהותה לא ניתן להבין אחרת את מסיבת העיתונאים הדרמטית שאותה בחר השר לכנס ימים ספורים בלבד לאחר כניסתו לתפקיד בהציג לראשונה את תוכניתו כפי שציינתי לא אחת העצמאות ואי התלות השיפוטית הן נשמת אפו של בית המשפט ובלעדיהן לא יוכלו שופטי ישראל למלא את תפקידם כי משרתי הציבור וכנאמניו\n"
          ]
        }
      ]
    },
    {
      "cell_type": "code",
      "source": [
        "ground_truth = '/content/drive/MyDrive/Whisper/GT/H1_GT.txt'\n",
        "with open(ground_truth, 'r', encoding='utf-8') as file:\n",
        "    ground_truth_norm = file.read().lower().translate(str.maketrans('', '', string.punctuation)).replace('\\n', ' ')\n",
        "print(ground_truth_norm)"
      ],
      "metadata": {
        "colab": {
          "base_uri": "https://localhost:8080/"
        },
        "id": "PLTa4mhedm9K",
        "outputId": "a2b62b7c-d540-42b0-cbf0-7e1fe7b074d2"
      },
      "execution_count": 11,
      "outputs": [
        {
          "output_type": "stream",
          "name": "stdout",
          "text": [
            "ערב טוב לכולם לפני ימים אחדים הציג שר המשפטים החדש תוכנית בזק לשינויים מרחיקי לכת במערכת המשפט למעשה מדובר במתקפה שלוחת רסן על מערכת המשפט משל הייתה אויב שיש להסתער עליו ולהכניעו למרבה הציניות הוגי התוכנית מכנים אותה תוכנית לתיקון מערכת המשפט ואני אומרת זו תוכנית לריסוק מערכת המשפט היא מיועדת להנחית מכה אנושה על עצמאותה ואי תלותה של הרשות השופטת ולהפוך אותה לרשות שותקת מסקנה זו עולה הן מן הדרך שבה בחר השר להציג את תוכניתו והן מתוכנה וממהותה לא ניתן להבין אחרת את מסיבת העיתונאים הדרמטית שאותה בחר השר לכנס ימים ספורים בלבד לאחר כניסתו לתפקיד בה הציג לראשונה את תוכניתו כפי שציינתי לא אחת העצמאות ואי התלות השיפוטית הן נשמת אפו של בית המשפט ובלעדיהן לא יוכלו שופטי ישראל למלא את תפקידם כמשרתי הציבור וכנאמניו \n"
          ]
        }
      ]
    },
    {
      "cell_type": "code",
      "source": [
        "from jiwer import wer\n",
        "reference = ground_truth_norm\n",
        "hypothesis = whisper_output_norm\n",
        "error = wer(reference, hypothesis)\n",
        "error_percentage = \"{:.0%}\".format(error)\n",
        "print(error_percentage)"
      ],
      "metadata": {
        "colab": {
          "base_uri": "https://localhost:8080/"
        },
        "id": "JVx9I6jZee0A",
        "outputId": "1235ebc1-c0ee-4622-9cb6-5d78995a4d04"
      },
      "execution_count": 12,
      "outputs": [
        {
          "output_type": "stream",
          "name": "stdout",
          "text": [
            "7%\n"
          ]
        }
      ]
    },
    {
      "cell_type": "markdown",
      "source": [
        "**With Whisper large-v3**"
      ],
      "metadata": {
        "id": "VBSGseE2iEJ3"
      }
    },
    {
      "cell_type": "code",
      "source": [
        "import locale\n",
        "locale.getpreferredencoding = lambda: \"UTF-8\""
      ],
      "metadata": {
        "id": "Lw2z8FC-DuhX"
      },
      "execution_count": 14,
      "outputs": []
    },
    {
      "cell_type": "code",
      "source": [
        "!pip install git+https://github.com/openai/whisper.git"
      ],
      "metadata": {
        "id": "SLGRb6u2epPJ"
      },
      "execution_count": null,
      "outputs": []
    },
    {
      "cell_type": "code",
      "source": [
        "import whisper\n",
        "from whisper.utils import get_writer"
      ],
      "metadata": {
        "id": "TQxweeqS-df-"
      },
      "execution_count": 16,
      "outputs": []
    },
    {
      "cell_type": "code",
      "source": [
        "model = whisper.load_model(\"large\")"
      ],
      "metadata": {
        "id": "AzyX7huF-i_9",
        "colab": {
          "base_uri": "https://localhost:8080/"
        },
        "outputId": "d0746479-5dc5-433f-c7dd-0e6d6da2ce44"
      },
      "execution_count": 17,
      "outputs": [
        {
          "output_type": "stream",
          "name": "stderr",
          "text": [
            "100%|█████████████████████████████████████| 2.88G/2.88G [00:54<00:00, 57.1MiB/s]\n"
          ]
        }
      ]
    },
    {
      "cell_type": "code",
      "source": [
        "result = model.transcribe(audio, verbose = False, language = 'he')[\"text\"]"
      ],
      "metadata": {
        "colab": {
          "base_uri": "https://localhost:8080/"
        },
        "id": "DGHudfyw-mOf",
        "outputId": "ea592d8e-5501-403f-b407-d33630a27b65"
      },
      "execution_count": 18,
      "outputs": [
        {
          "output_type": "stream",
          "name": "stderr",
          "text": [
            "100%|██████████| 9371/9371 [00:27<00:00, 337.26frames/s]\n"
          ]
        }
      ]
    },
    {
      "cell_type": "code",
      "source": [
        "print(result)"
      ],
      "metadata": {
        "colab": {
          "base_uri": "https://localhost:8080/"
        },
        "id": "ghYEYNaT_SQu",
        "outputId": "09fdebf0-9f1b-4e2a-d537-1ac7d0021ee9"
      },
      "execution_count": 19,
      "outputs": [
        {
          "output_type": "stream",
          "name": "stdout",
          "text": [
            " ערב טוב לכולם. לפני ימים אחדים הציג שר המשפטים החדש תוכנית בזק לשינויים מרחיקי לכת במערכת המשפט. למעשה מדובר במתקפה, שלוחת רסל על מערכת המשפט. משל הייתה אויב שיש להסתער עליו ולהכניעו. למעשה, למרבה הציניות הוגה התוכנית מכנים אותה תוכנית לתיקון מערכת המשפט. ואני אומרת, זו תוכנית לריסוק מערכת המשפט. היא מיועדת להנחית מכה אנושה על עצמאותה והתלותה של הרשות השופטת ולהפוך אותה לרשות שותקת. מסקנה זו עולה הן מן הדרך. שבה בחר השר להציג את תוכניתו. והן מתוכנה וממהותה. לא ניתן להבין אחרת את מסיבת העיתונאים הדרמטית שאותה בחר השר לכנס ימים ספורים בלבד. לאחר כניסתו לתפקיד, בה הציג לראשונה את תוכניתו. כפי שציינתי לא אחת, העצמאות ואי התלות השיפוטית הן נשמת אפו של בית המשפט. ובלעדיהן לאהבת. לא יוכלו שופטי ישראל למלא את תפקידם כמשרתי הציבור וכנאמניו.\n"
          ]
        }
      ]
    },
    {
      "cell_type": "code",
      "source": [
        "import string\n",
        "whisper_v3_output = result\n",
        "whisper_v3_output_norm = whisper_v3_output.lower().translate(str.maketrans('', '', string.punctuation)).replace('\\n', ' ')\n",
        "print(whisper_v3_output_norm)"
      ],
      "metadata": {
        "colab": {
          "base_uri": "https://localhost:8080/"
        },
        "id": "nMUDnhOu_opz",
        "outputId": "3be75a86-f596-4aaa-9dbf-380480132fc7"
      },
      "execution_count": 20,
      "outputs": [
        {
          "output_type": "stream",
          "name": "stdout",
          "text": [
            " ערב טוב לכולם לפני ימים אחדים הציג שר המשפטים החדש תוכנית בזק לשינויים מרחיקי לכת במערכת המשפט למעשה מדובר במתקפה שלוחת רסל על מערכת המשפט משל הייתה אויב שיש להסתער עליו ולהכניעו למעשה למרבה הציניות הוגה התוכנית מכנים אותה תוכנית לתיקון מערכת המשפט ואני אומרת זו תוכנית לריסוק מערכת המשפט היא מיועדת להנחית מכה אנושה על עצמאותה והתלותה של הרשות השופטת ולהפוך אותה לרשות שותקת מסקנה זו עולה הן מן הדרך שבה בחר השר להציג את תוכניתו והן מתוכנה וממהותה לא ניתן להבין אחרת את מסיבת העיתונאים הדרמטית שאותה בחר השר לכנס ימים ספורים בלבד לאחר כניסתו לתפקיד בה הציג לראשונה את תוכניתו כפי שציינתי לא אחת העצמאות ואי התלות השיפוטית הן נשמת אפו של בית המשפט ובלעדיהן לאהבת לא יוכלו שופטי ישראל למלא את תפקידם כמשרתי הציבור וכנאמניו\n"
          ]
        }
      ]
    },
    {
      "cell_type": "code",
      "source": [
        "reference = ground_truth_norm\n",
        "hypothesis = whisper_v3_output_norm\n",
        "error = wer(reference, hypothesis)\n",
        "error_percentage = \"{:.0%}\".format(error)\n",
        "print(error_percentage)"
      ],
      "metadata": {
        "colab": {
          "base_uri": "https://localhost:8080/"
        },
        "id": "kwOxsSWi_7NT",
        "outputId": "2ced90b5-9bca-4937-abd6-08969e7fdd74"
      },
      "execution_count": 21,
      "outputs": [
        {
          "output_type": "stream",
          "name": "stdout",
          "text": [
            "5%\n"
          ]
        }
      ]
    }
  ]
}