{
  "nbformat": 4,
  "nbformat_minor": 0,
  "metadata": {
    "colab": {
      "provenance": [],
      "machine_shape": "hm",
      "gpuType": "T4",
      "include_colab_link": true
    },
    "kernelspec": {
      "name": "python3",
      "display_name": "Python 3"
    },
    "language_info": {
      "name": "python"
    },
    "accelerator": "GPU"
  },
  "cells": [
    {
      "cell_type": "markdown",
      "metadata": {
        "id": "view-in-github",
        "colab_type": "text"
      },
      "source": [
        "<a href=\"https://colab.research.google.com/github/Sourasky-DHLAB/Whisper/blob/main/speech_brain_amharic.ipynb\" target=\"_parent\"><img src=\"https://colab.research.google.com/assets/colab-badge.svg\" alt=\"Open In Colab\"/></a>"
      ]
    },
    {
      "cell_type": "code",
      "execution_count": null,
      "metadata": {
        "id": "jwCrloaoDub8"
      },
      "outputs": [],
      "source": [
        "!pip install pydub speechbrain transformers"
      ]
    },
    {
      "cell_type": "code",
      "source": [
        "import os\n",
        "from pydub import AudioSegment\n",
        "from speechbrain.inference.ASR import EncoderASR"
      ],
      "metadata": {
        "id": "1FL-KtYJDvdK"
      },
      "execution_count": null,
      "outputs": []
    },
    {
      "cell_type": "code",
      "source": [
        "from google.colab import drive\n",
        "drive.mount('/content/drive')"
      ],
      "metadata": {
        "id": "PMN14wxishrK"
      },
      "execution_count": null,
      "outputs": []
    },
    {
      "cell_type": "code",
      "source": [
        "# Path to your large audio file\n",
        "audio_path = \"/content/drive/MyDrive/Whisper/Audio/מפגש השלמה אשקלון קייס אביו חומר גלם.wav\"\n",
        "\n",
        "# Length of each chunk in milliseconds (e.g., 5 minutes)\n",
        "chunk_length_ms = 5 * 60 * 1000  # 5 minutes * 60 seconds * 1000 ms\n",
        "\n",
        "# Directory to save chunks\n",
        "output_dir = \"chunks\"\n",
        "if not os.path.exists(output_dir):\n",
        "    os.makedirs(output_dir)\n",
        "\n",
        "# Path to output transcription file\n",
        "transcription_output_path = \"full_transcription.txt\""
      ],
      "metadata": {
        "id": "DBb2mugeDxZt"
      },
      "execution_count": null,
      "outputs": []
    },
    {
      "cell_type": "code",
      "source": [
        "# Load the large audio file\n",
        "audio = AudioSegment.from_wav(audio_path)\n",
        "\n",
        "# Split into chunks\n",
        "chunk_files = []\n",
        "for i in range(0, len(audio), chunk_length_ms):\n",
        "    chunk = audio[i:i+chunk_length_ms]\n",
        "    chunk_filename = os.path.join(output_dir, f\"chunk_{i//chunk_length_ms}.wav\")\n",
        "    chunk.export(chunk_filename, format=\"wav\")\n",
        "    chunk_files.append(chunk_filename)\n",
        "\n",
        "print(f\"Created {len(chunk_files)} chunks.\")"
      ],
      "metadata": {
        "id": "OmNLZ6p2D1sM"
      },
      "execution_count": null,
      "outputs": []
    },
    {
      "cell_type": "code",
      "source": [
        "# Load the SpeechBrain ASR model, using GPU if available\n",
        "asr_model = EncoderASR.from_hparams(\n",
        "    source=\"speechbrain/asr-wav2vec2-dvoice-amharic\",\n",
        "    savedir=\"pretrained_models/asr-wav2vec2-dvoice-amharic\",\n",
        "    run_opts={\"device\":\"cuda\"}\n",
        ")"
      ],
      "metadata": {
        "id": "DSgZQQJaD2Y_"
      },
      "execution_count": null,
      "outputs": []
    },
    {
      "cell_type": "code",
      "source": [
        "all_transcriptions = []\n",
        "\n",
        "for chunk_file in chunk_files:\n",
        "    print(f\"Transcribing {chunk_file}...\")\n",
        "    transcription = asr_model.transcribe_file(chunk_file)\n",
        "    print(f\"Transcription of {chunk_file}:\", transcription)\n",
        "    all_transcriptions.append(transcription)\n",
        "\n",
        "print(\"All chunks transcribed.\")"
      ],
      "metadata": {
        "id": "Sai_e9vmD4Ze"
      },
      "execution_count": null,
      "outputs": []
    },
    {
      "cell_type": "code",
      "source": [
        "# Combine all chunk transcriptions\n",
        "full_transcription = \"\\n\".join(all_transcriptions)\n",
        "\n",
        "# Save to a text file\n",
        "with open(transcription_output_path, \"w\", encoding=\"utf-8\") as f:\n",
        "    f.write(full_transcription)\n",
        "\n",
        "print(f\"Full transcription saved to {transcription_output_path}\")"
      ],
      "metadata": {
        "id": "8yTQnNqXD6oG"
      },
      "execution_count": null,
      "outputs": []
    },
    {
      "cell_type": "code",
      "source": [
        "# Display the first 500 characters of the transcription\n",
        "print(full_transcription[:500])"
      ],
      "metadata": {
        "id": "baK8x9XpD-YR"
      },
      "execution_count": null,
      "outputs": []
    },
    {
      "cell_type": "code",
      "source": [
        "# Define the full path for the output file in Google Drive\n",
        "transcription_output_path = \"/content/drive/MyDrive/Whisper/Transcriptions/full_transcription.txt\"\n",
        "\n",
        "# Create the directory if it doesn't exist\n",
        "os.makedirs(os.path.dirname(transcription_output_path), exist_ok=True)\n",
        "\n",
        "# Save all transcriptions to the text file\n",
        "with open(transcription_output_path, \"w\", encoding=\"utf-8\") as f:\n",
        "    for i, transcription in enumerate(all_transcriptions):\n",
        "        f.write(f\"--- Transcription of chunk {i} ---\\n\")\n",
        "        f.write(transcription + \"\\n\\n\")\n",
        "\n",
        "print(f\"Transcription saved to {transcription_output_path}\")\n"
      ],
      "metadata": {
        "id": "muuIKuC7pZDh"
      },
      "execution_count": null,
      "outputs": []
    }
  ]
}