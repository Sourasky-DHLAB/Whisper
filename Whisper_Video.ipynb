{
  "cells": [
    {
      "cell_type": "markdown",
      "metadata": {
        "id": "view-in-github",
        "colab_type": "text"
      },
      "source": [
        "<a href=\"https://colab.research.google.com/github/Sourasky-DHLAB/Whisper/blob/main/Whisper_Video.ipynb\" target=\"_parent\"><img src=\"https://colab.research.google.com/assets/colab-badge.svg\" alt=\"Open In Colab\"/></a>"
      ]
    },
    {
      "cell_type": "markdown",
      "metadata": {
        "id": "oQpkmckW3kIi"
      },
      "source": [
        "<div style=\"direction:rtl\" dir=\"rtl\">\n",
        "    <img src=\"https://drive.google.com/uc?export=view&amp;id=15xQaGVrJej6UIPjfAB-QVWXLWVChPJSt\"><br>\n",
        "<div style=\"direction:rtl\" dir=\"rtl\">\n",
        "  <p style=\"text-align: right; direction: rtl; float: right;\">    נכתב על ידי <a href=\"mailto:odedzarchia@tauex.tau.ac.il\">עודד זרחיה</a> | <a href=\"https://github.com/Sourasky-DHLAB\">Github</a><br>\n",
        "    <a href=\"https://cenlib.tau.ac.il/\">הספרייה המרכזית ע\"ש סוראסקי</a> | <a href=\"https://tau.ac.il/\">אוניברסיטת תל אביב</a>\n",
        "</div></p>"
      ]
    },
    {
      "cell_type": "markdown",
      "metadata": {
        "id": "TsYo7x7KhucD"
      },
      "source": [
        "<h1><strong><div style=\"direction:rtl\" dir=\"rtl\">1. תמלול קבצי וידאו באמצעות Whisper </div></strong></h1>\n",
        "<div style=\"direction:rtl\" dir=\"rtl\">\n",
        "  <p style=\"text-align: right; direction: rtl; float: right;\"><a href=\"https://openai.com/blog/whisper/\">Whisper</a> הוא מודל לזיהוי דיבור מבית <a href=\"https://https://openai.com/\">OpenAI</a> הזמין לציבור הרחב בקוד פתוח. מודל זה אומן על יותר מ-680 אלף שעות של שיחות באנגלית ובשפות רבות אחרות – בהן גם עברית וערבית. מחברת זו תדריך אתכם בתמלול קטעי וידאו באמצעות Whisper. תהליך זה מורכב משלושה שלבים מרכזיים:</p>\n",
        "<ol style=\"float:right;\">\n",
        "<li>חילוץ שכבת האודיו מקובץ הוידאו.</li>\n",
        "<li>תמלול שכבת האודיו.</li>\n",
        "<li>בדיקת איכות (אופציונלי).</li>\n",
        "</ol>\n",
        "<p style=\"text-align: right; direction: rtl; float: right;\">מחברת זו תדריך אתכם בתמלול קטעי אודיו באמצעות Whisper. תוכלו להשתמש במחברת כפי שהיא כדי לאחסן את קבצי התמליל ב-Google Drive.<br>\n",
        "לתשומת לבכם - השימוש במחברת זו ובמודל של Whisper חופשי לחלוטין וללא שום עלות. בנוסף, אין הגבלה על אורך קטעי הוידאו/אודיו שניתן לתמלל באמצעות Whisper.\n",
        "</p>\n",
        "</div>\n"
      ]
    },
    {
      "cell_type": "markdown",
      "metadata": {
        "id": "5jTJEI2WX8g8"
      },
      "source": [
        "<h1><strong><div style=\"direction:rtl\" dir=\"rtl\">2. בדוק את סוג המעבד הגרפי (GPU) </div></strong></h1>\n",
        "<div style=\"direction:rtl\" dir=\"rtl\">\n",
        "  <p style=\"text-align: right; direction: rtl; float: right;\">סוג <a href=\"https://https://he.wikipedia.org/wiki/%D7%9E%D7%A2%D7%91%D7%93_%D7%92%D7%A8%D7%A4%D7%99\">המעבד הגרפי</a> <strong>(GPU - Graphics Processing Unit)</strong> שאתם מקבלים ב-Google Colab מגדיר את המהירות שבה קטעי האודיו יתומללו. ככל שמספר <a href=\"https://https://he.wikipedia.org/wiki/FLOPS\">הפלופס</a> <strong>(FLOPS - Floating Point Operations Per Second, פעולות נקודות צפות לשנייה)</strong> גבוה יותר, כך התמלול מהיר יותר. יחד עם זאת, גם המעבד הגרפי החלש ביותר ב-Colab מסוגל להריץ כל מודל של Whisper. יש לוודא כי בחרתם ב-GPU כמאיץ חומרה עבור מחברת זו (Runtime → Change runtime type → Hardware accelerator).</p>\n",
        "</div>\n",
        "\n",
        "<table>\n",
        "  <thead>\n",
        "    <tr>\n",
        "      <th>GPU</th>\n",
        "      <th>GPU RAM</th>\n",
        "      <th>FP32 teraFLOPS</th>\n",
        "      <th>Availability</th>\n",
        "    </tr>\n",
        "  </thead>\n",
        "  <tbody>\n",
        "    <tr>\n",
        "      <td>T4</td>\n",
        "      <td>16 GB</td>\n",
        "      <td>8.1</td>\n",
        "      <td>Free</td>\n",
        "    </tr>\n",
        "    <tr>\n",
        "      <td>P100</td>\n",
        "      <td>16 GB</td>\n",
        "      <td>10.6</td>\n",
        "      <td>Colab Pro</td>\n",
        "    </tr>\n",
        "    <tr>\n",
        "      <td>V100</td>\n",
        "      <td>16 GB</td>\n",
        "      <td>15.7</td>\n",
        "      <td>Colab Pro (Rare)</td>\n",
        "    </tr>\n",
        "  </tbody>\n",
        "</table>\n",
        "\n",
        "\n",
        "<div style=\"direction:rtl\" dir=\"rtl\">\n",
        "  <p style=\"text-align: right; direction: rtl; float: right;\">\n",
        "הריצו את התא הבא כדי לוודא את סוג המעבד הגרפי שהוקצה עבור מחברת זו. אפסו את ה-runtime של המחברת אם ברצונכם לקבל מעבד גרפי אחר (Runtime → Restart runtime).</p>"
      ]
    },
    {
      "cell_type": "code",
      "execution_count": null,
      "metadata": {
        "id": "ygyW5Wjd2Xqz"
      },
      "outputs": [],
      "source": [
        "# check gpu type\n",
        "!nvidia-smi -L\n",
        "!nvidia-smi"
      ]
    },
    {
      "cell_type": "markdown",
      "metadata": {
        "id": "pgXqU0Fs1310"
      },
      "source": [
        "<h1 id=\"-div-style-direction-rtl-dir-rtl-11-div-\"><strong><div style=\"direction:rtl\" dir=\"rtl\">3. התקנת ספריות </div></strong></h1>\n",
        "<div style=\"direction:rtl\" dir=\"rtl\">\n",
        "  <p style=\"text-align: right; direction: rtl; float: right;\">הריצו את התא הבא כדי להתקין את הספריות הנחוצות לפעולת התמלול:</p>\n",
        "\n",
        "<ol style=\"float:right;\">\n",
        "<li>Whisper</li>\n",
        "<li>Moviepy - באמצעות ספריית jiwer.</li>\n",
        "</ol>\n",
        "\n",
        "<p style=\"text-align: right; direction: rtl; float: right;\">הפלט המתקבל מוצג באחוזים ומצביע על אחוז המילים השגויות בקובץ התמלול, וזאת בהשוואה לקובץ המקור. כלומר, במידה ואחוז השגיאות עומד על כ-3%, אזי מתוך 100 מילים יש 3 מילים שגויות.</p>"
      ]
    },
    {
      "cell_type": "code",
      "execution_count": null,
      "metadata": {
        "id": "xP_lbfCa2gzx"
      },
      "outputs": [],
      "source": [
        "!pip install git+https://github.com/openai/whisper.git \n",
        "!pip install moviepy\n",
        "!pip3 install imageio==2.4.1\n",
        "!pip install jiwer"
      ]
    },
    {
      "cell_type": "markdown",
      "metadata": {
        "id": "aG9xCsNbjNUR"
      },
      "source": [
        "# **<div style=\"direction:rtl\" dir=\"rtl\">4. ייבוא ספריות </div>**\n",
        "<div style=\"direction:rtl\" dir=\"rtl\">\n",
        "\n",
        "הריצו את התא הבא כדי לייבא את הספריות הנדרשות."
      ]
    },
    {
      "cell_type": "code",
      "execution_count": null,
      "metadata": {
        "id": "CODmLFMC2_Q0"
      },
      "outputs": [],
      "source": [
        "import whisper\n",
        "import moviepy.editor\n",
        "from jiwer import wer\n",
        "import os"
      ]
    },
    {
      "cell_type": "markdown",
      "metadata": {
        "id": "s976fYrHf7QA"
      },
      "source": [
        "# **<div style=\"direction:rtl\" dir=\"rtl\">5. חיבור ל-Google Drive </div>**\n",
        "<div style=\"direction:rtl\" dir=\"rtl\">\n",
        "\n",
        "הריצו את התא הבא כדי להתחבר ל-Google Drive האישי שלכם. כדי לראות את הקבצים שלכם פתחו את סייר הקבצים בתפריט השמאלי."
      ]
    },
    {
      "cell_type": "code",
      "execution_count": null,
      "metadata": {
        "colab": {
          "base_uri": "https://localhost:8080/"
        },
        "id": "8EnzjKLvyzcf",
        "outputId": "5353ea36-df21-4b75-b7ba-9005d04b97ff"
      },
      "outputs": [
        {
          "name": "stdout",
          "output_type": "stream",
          "text": [
            "Mounted at /content/gdrive/\n"
          ]
        }
      ],
      "source": [
        "from google.colab import drive\n",
        "drive.mount('/content/gdrive/', force_remount=True)"
      ]
    },
    {
      "cell_type": "markdown",
      "metadata": {
        "id": "NiWkMVjtAY8N"
      },
      "source": [
        "# **<div style=\"direction:rtl\" dir=\"rtl\">6. הגדרת תיקיות </div>**\n",
        "<div style=\"direction:rtl\" dir=\"rtl\">\n",
        "\n",
        "הריצו את התא הבא כדי להגדיר את מיקום קבצי הוידאו, האודיו והתמליל:\n",
        "1. קבצי וידאו - מחברת זו מניחה כי קבצי הוידאו לתמלול נמצאים ב-Google Drive תחת תיקיית `Whisper/Video`. ניתן לשנות הגדרה זו במשתנה `video_folder`.\n",
        "2. קבצי אודיו - מחברת זו מניחה כי קבצי האודיו לתמלול נמצאים ב-Google Drive תחת תיקיית `Whisper/Audio`. ניתן לשנות הגדרה זו במשתנה `audio_folder`.\n",
        "2. קבצי תמליל - מחברת זו מניחה כי קבצי הטקסט של התמלול יישמרו ב-Google Drive תחת תיקיית `Whisper/Transcriptions`. ניתן לשנות הגדרה זו במשתנה `transcription_folder`. במידה ואינה קיימת, תיקייה זו תיווצר באופן אוטומטי לאחר הרצת התא.\n"
      ]
    },
    {
      "cell_type": "code",
      "execution_count": null,
      "metadata": {
        "id": "eibSP4quA2U2"
      },
      "outputs": [],
      "source": [
        "# Assuming the video files are in a folder called \"Video\" under \"Whisper\"\n",
        "video_folder = \"/content/drive/MyDrive/Whisper/Video/\"\n",
        "\n",
        "# Assuming the audio files are in a folder called \"Audio\" under \"Whisper\"\n",
        "audio_folder = \"/content/drive/MyDrive/Whisper/Audio/\"\n",
        "\n",
        "# Assuming the text files will be placed in a folder called \"Transcriptions\" under \"Whisper\"\n",
        "transcription_folder = \"/content/drive/MyDrive/Whisper/Transcriptions/\"\n",
        "\n",
        "# Create \"Transcriptions\" folder if does not exist\n",
        "if not os.path.exists(transcription_folder):\n",
        "  os.makedirs(transcription_folder)"
      ]
    },
    {
      "cell_type": "markdown",
      "metadata": {
        "id": "HxNrm8eNmCDd"
      },
      "source": [
        "# **<div style=\"direction:rtl\" dir=\"rtl\">7. טעינת וידאו עם moviepy </div>**\n",
        "<div style=\"direction:rtl\" dir=\"rtl\">\n",
        "\n",
        "טענו קובץ וידאו מ-Google Drive באמצעות moviepy. שנו את הנתיב תחת משתנה `video` כדי לטעון את הקובץ שלכם (אתרו את הקובץ בסייר הקבצים, לחצו על הכפתור הימני בעכבר ← Copy path)."
      ]
    },
    {
      "cell_type": "code",
      "execution_count": null,
      "metadata": {
        "id": "1Qzqa-hQ38aF"
      },
      "outputs": [],
      "source": [
        "video = moviepy.editor.VideoFileClip(\"/content/drive/MyDrive/Whisper/Video/netanyahu_liar_son_of_liar.mp4\")"
      ]
    },
    {
      "cell_type": "markdown",
      "metadata": {
        "id": "s_4HY_I1mU1k"
      },
      "source": [
        "# **<div style=\"direction:rtl\" dir=\"rtl\">8. חילוץ שכבת אודיו </div>**\n",
        "<div style=\"direction:rtl\" dir=\"rtl\">\n",
        "\n",
        "הריצו את התא הבא כדי לחלץ את שכבת האודיו מקובץ הוידאו שלכם באמצעות moviepy וכדי לשמור אותה כקובץ נפרד ב-Google Drive שלכם. הקפידו לשנות את שם הקובץ בהתאם. "
      ]
    },
    {
      "cell_type": "code",
      "execution_count": null,
      "metadata": {
        "colab": {
          "base_uri": "https://localhost:8080/"
        },
        "id": "4fs0IJtU4Cd6",
        "outputId": "57a05953-2b66-4268-f8e7-9168a65552df"
      },
      "outputs": [
        {
          "name": "stdout",
          "output_type": "stream",
          "text": [
            "[MoviePy] Writing audio in /content/drive/MyDrive/Whisper/Audio/netanyahu_liar_son_of_liar.mp3\n"
          ]
        },
        {
          "name": "stderr",
          "output_type": "stream",
          "text": [
            "100%|██████████| 1883/1883 [00:03<00:00, 626.23it/s]"
          ]
        },
        {
          "name": "stdout",
          "output_type": "stream",
          "text": [
            "[MoviePy] Done.\n"
          ]
        },
        {
          "name": "stderr",
          "output_type": "stream",
          "text": [
            "\n"
          ]
        }
      ],
      "source": [
        "audio = video.audio\n",
        "audio.write_audiofile(\"/content/drive/MyDrive/Whisper/Audio/netanyahu_liar_son_of_liar.mp3\")"
      ]
    },
    {
      "cell_type": "markdown",
      "metadata": {
        "id": "ByC-bZusEZ3_"
      },
      "source": [
        "# **<div style=\"direction:rtl\" dir=\"rtl\">9. טעינת מודל התמלול </div>**\n",
        "<div style=\"direction:rtl\" dir=\"rtl\">\n",
        "\n",
        "הריצו את התא הבא כדי לטעון את מודל התמלול המתאים.\n",
        "יושם לב כי אנו משתמשים במודל הגדול (**large**), המדויק ביותר בשפה העברית. <br>\n",
        "ישנם חמישה מודלים, ארבעה עם גרסאות באנגלית בלבד, המציעים פשרות שונות בין מהירות לדיוק. בטבלה להלן מוצגים שמות המודלים הזמינים יחד עם דרישות הזיכרון והמהירות היחסית שלהם:\n",
        "</div>\n",
        "\n",
        "|  Size  | Parameters | English-only model | Multilingual model | Required VRAM | Relative speed |\n",
        "|:------:|:----------:|:------------------:|:------------------:|:-------------:|:--------------:|\n",
        "|  tiny  |    39 M    |     `tiny.en`      |       `tiny`       |     ~1 GB     |      ~32x      |\n",
        "|  base  |    74 M    |     `base.en`      |       `base`       |     ~1 GB     |      ~16x      |\n",
        "| small  |   244 M    |     `small.en`     |      `small`       |     ~2 GB     |      ~6x       |\n",
        "| medium |   769 M    |    `medium.en`     |      `medium`      |     ~5 GB     |      ~2x       |\n",
        "| large  |   2870 M   |        N/A         |      `large`       |    ~10 GB     |       1x       |\n",
        "\n",
        "<div style=\"direction:rtl\" dir=\"rtl\"><br>\n",
        "\n",
        "במידה וברצונכם להתשמש במודל המדויק ביותר לעברית (**large**) עבור קבצים מרובים, מומלץ להריץ את המחברת בסביבה עם משאבי מחשוב מובטחים כדוגמת Google Colab Pro. "
      ]
    },
    {
      "cell_type": "code",
      "execution_count": null,
      "metadata": {
        "colab": {
          "base_uri": "https://localhost:8080/"
        },
        "id": "3MFLfA5bEs-j",
        "outputId": "aa79140b-41c5-4df2-c09a-3d7a16a62436"
      },
      "outputs": [
        {
          "name": "stderr",
          "output_type": "stream",
          "text": [
            "100%|█████████████████████████████████████| 2.87G/2.87G [00:32<00:00, 95.8MiB/s]\n"
          ]
        },
        {
          "name": "stdout",
          "output_type": "stream",
          "text": [
            "\u001b[1m Model loaded successfully\n"
          ]
        }
      ],
      "source": [
        "# load whisper model\n",
        "model = whisper.load_model(\"large\")\n",
        "print(f\"\\033[1m Model loaded successfully\")"
      ]
    },
    {
      "cell_type": "markdown",
      "metadata": {
        "id": "H6yLPOZoE6fd"
      },
      "source": [
        "# **<div style=\"direction:rtl\" dir=\"rtl\">10. קביעת שפה לתמלול </div>**\n",
        "<div style=\"direction:rtl\" dir=\"rtl\">\n",
        "\n",
        "הריצו את התא הבא כדי להגדיר את שפת התמלול כעברית. כדי להחליף את השפה שנו את ערך המשתנה `lang`.\n",
        "<br>\n",
        "ניתן להדפיס את רשימת השפות הנתמכת על ידי הרצת הפקודה`print(whisper.tokenizer.LANGUAGES)`בתא נפרד. \n"
      ]
    },
    {
      "cell_type": "code",
      "execution_count": null,
      "metadata": {
        "id": "iFNHCmxHFD_E"
      },
      "outputs": [],
      "source": [
        "lang = 'he'"
      ]
    },
    {
      "cell_type": "markdown",
      "metadata": {
        "id": "FXn6PYvKnkue"
      },
      "source": [
        "# **<div style=\"direction:rtl\" dir=\"rtl\">11. תמלול </div>**\n",
        "<div style=\"direction:rtl\" dir=\"rtl\">\n",
        "\n",
        "הריצו את התא הבא כדי לתמלל את קובץ האודיו בתיקיית Whisper/Audio. הקפידו לשנות את שם הקובץ."
      ]
    },
    {
      "cell_type": "code",
      "execution_count": null,
      "metadata": {
        "colab": {
          "base_uri": "https://localhost:8080/"
        },
        "id": "6GA_c_GN4hye",
        "outputId": "f4e17579-0f07-4816-daf9-c5e2d53cc380"
      },
      "outputs": [
        {
          "name": "stderr",
          "output_type": "stream",
          "text": [
            "100%|██████████| 8536/8536 [00:30<00:00, 277.03frames/s]"
          ]
        },
        {
          "name": "stdout",
          "output_type": "stream",
          "text": [
            "\u001b[1m--- Transcription finished in  32.942219257354736 seconds ---\n"
          ]
        },
        {
          "name": "stderr",
          "output_type": "stream",
          "text": [
            "\n"
          ]
        }
      ],
      "source": [
        "# set timer\n",
        "import time\n",
        "start_time = time.time()\n",
        "result = model.transcribe(\"/content/drive/MyDrive/Whisper/Audio/netanyahu_liar_son_of_liar.mp3\", verbose = False, language = lang)\n",
        "print(f\"\\033[1m--- Transcription finished in  %s seconds ---\" % (time.time() - start_time))"
      ]
    },
    {
      "cell_type": "markdown",
      "metadata": {
        "id": "wipGaWwzntPT"
      },
      "source": [
        "# **<div style=\"direction:rtl\" dir=\"rtl\">12. שמירת התמלול </div>**\n",
        "<div style=\"direction:rtl\" dir=\"rtl\">\n",
        "\n",
        "הריצו את התא הבא כדי לשמור את התמלול ב-Google Drive שלכם כקובץ טקסט."
      ]
    },
    {
      "cell_type": "code",
      "execution_count": null,
      "metadata": {
        "colab": {
          "base_uri": "https://localhost:8080/"
        },
        "id": "30kYO2zGnb_v",
        "outputId": "f611ffdc-45b9-41d9-9adf-7c61c143d710"
      },
      "outputs": [
        {
          "name": "stdout",
          "output_type": "stream",
          "text": [
            " אני מאמין שמערכת משפט חזקה ועצמאית היא זו שמאפשרת את קיומם של כל המוסדות האחרים לדמוקרטיה. אבל אני מבקש שתראו לי רודנות אחת, חברה לא דמוקרטית אחת, שבה קיימת מערכת משפט חזקה ועצמאית. אין דבר כזה. בכל מקום שבו אין מערכת משפט חזקה ועצמאית, הזכויות אינן יכולות להיות מוגנות. למעשה, ההבדל בין המדינות שבהן יש זכויות על הנייר ובין מדינות שבהן יש זכויות בפועל, ההבדל הזה הוא מערכת משפט חזקה ועצמאית. זו הסיבה שאני עושה, ואמשיך לעשות כל שביכולתי, כדי לשמור על מערכת משפט חזקה ועצמאית. רק בחודשים האחרונים גנזתי כל חוק שאיים לפגוע בעצמאות המערכת מהניסיון לקיים שימויים לשופטים בכנסת, דרך הגבלת עתירות לבית המשפט ועד לשינוי ירכב הוועדה לבחירת שוטים. אני אמשיך לפעול כך. ובכל פעם שיגיע לשולחני חוק שעלול לפגוע בעצמאות בתי המשפט בישראל, אנחנו נוריד אותו.\n"
          ]
        }
      ],
      "source": [
        "with open('/content/drive/MyDrive/Whisper/Transcriptions/netanyahu_liar_son_of_liar.txt', 'w') as f:\n",
        "    f.write(result[\"text\"])\n",
        "print(result[\"text\"])"
      ]
    },
    {
      "cell_type": "markdown",
      "metadata": {
        "id": "Fu4T6I4unZOA"
      },
      "source": [
        "# **<div style=\"direction:rtl\" dir=\"rtl\">13. בדיקת WER (אופציונלי) </div>**\n",
        "<div style=\"direction:rtl\" dir=\"rtl\">\n",
        "\n",
        "הרצת התאים הבאים תאפשר לכם להעריך את הדיוק של התמלול של Whisper במספר שלבים, וזאת במידה ויש ברשותכם את קובץ התמלול המקורי:\n",
        "\n",
        "\n",
        "\n",
        "1.   נירמול פלט התמלול של Whisper וקובץ התמלול המקורי ([Ground Truth](https://https://en.wikipedia.org/wiki/Ground_truth)) - הסרת סימני פיסוק, רווחים מיותרים, קפיטליזציה וכו'.\n",
        "2.   השוואה בין שני הקבצים וחישוב אחוז השגיאות בהתאם למדד [Word Error Rate](https://https://en.wikipedia.org/wiki/Word_error_rate) - באמצעות ספריית jiwer.\n",
        "\n",
        "הפלט המתקבל מוצג באחוזים ומצביע על אחוז המילים השגויות בקובץ התמלול, וזאת בהשוואה לקובץ המקור. כלומר, במידה ואחוז השגיאות עומד על כשלושה אחוזים, אזי מתוך 100 מילים יש 3 מילים שגויות."
      ]
    },
    {
      "cell_type": "code",
      "execution_count": null,
      "metadata": {
        "colab": {
          "base_uri": "https://localhost:8080/"
        },
        "id": "hZH75qr1eQe-",
        "outputId": "69a61503-8071-4d65-bfdc-e9943cb6c95f"
      },
      "outputs": [
        {
          "name": "stdout",
          "output_type": "stream",
          "text": [
            " אני מאמין שמערכת משפט חזקה ועצמאית היא זו שמאפשרת את קיומם של כל המוסדות האחרים לדמוקרטיה אבל אני מבקש שתראו לי רודנות אחת חברה לא דמוקרטית אחת שבה קיימת מערכת משפט חזקה ועצמאית אין דבר כזה בכל מקום שבו אין מערכת משפט חזקה ועצמאית הזכויות אינן יכולות להיות מוגנות למעשה ההבדל בין המדינות שבהן יש זכויות על הנייר ובין מדינות שבהן יש זכויות בפועל ההבדל הזה הוא מערכת משפט חזקה ועצמאית זו הסיבה שאני עושה ואמשיך לעשות כל שביכולתי כדי לשמור על מערכת משפט חזקה ועצמאית רק בחודשים האחרונים גנזתי כל חוק שאיים לפגוע בעצמאות המערכת מהניסיון לקיים שימויים לשופטים בכנסת דרך הגבלת עתירות לבית המשפט ועד לשינוי ירכב הוועדה לבחירת שוטים אני אמשיך לפעול כך ובכל פעם שיגיע לשולחני חוק שעלול לפגוע בעצמאות בתי המשפט בישראל אנחנו נוריד אותו\n"
          ]
        }
      ],
      "source": [
        "# normalize result\n",
        "import string\n",
        "heb_transcription_norm = open('/content/drive/MyDrive/Whisper/Transcriptions/netanyahu_liar_son_of_liar.txt', 'r').read().lower().translate(str.maketrans('', '', string.punctuation))\n",
        "print(heb_transcription_norm)"
      ]
    },
    {
      "cell_type": "code",
      "execution_count": null,
      "metadata": {
        "colab": {
          "base_uri": "https://localhost:8080/"
        },
        "id": "JiJrffps20B0",
        "outputId": "2fb1b83e-a7f8-410e-bde5-12f305880e84"
      },
      "outputs": [
        {
          "name": "stdout",
          "output_type": "stream",
          "text": [
            "אני מאמין שמערכת משפט חזקה ועצמאית היא זו שמאפשרת את קיומם של כל המוסדות האחרים בדמוקרטיה אבל אני מבקש שתראו לי רודנות אחת חברה לא דמוקרטית אחת שבה קיימת מערכת משפט חזקה ועצמאית אין דבר כזה בכל מקום שבו אין מערכת משפט חזקה ועצמאית הזכויות אינן יכולות להיות מוגנות למעשה ההבדל בין המדינות שבהן יש זכויות על הנייר ובין מדינות שבהן יש זכויות בפועל ההבדל הזה הוא מערכת משפט חזקה ועצמאית וזוהי הסיבה שאני עושה ואמשיך לעשות כל שביכולתי כדי לשמור על מערכת משפט חזקה ועצמאית רק בחודשים האחרונים גנזתי כל חוק שאיים לפגוע בעצמאות המערכת מהניסיון לקיים שימועים לשופטים בכנסת דרך הגבלת עתירות לבית המשפט ועד לשינוי הרכב הוועדה לבחירת שוטים אני אמשיך לפעול כך ובכל פעם שיגיע לשולחני חוק שעלול לפגוע בעצמאות בתי המשפט בישראל אנחנו נוריד אותו\n"
          ]
        }
      ],
      "source": [
        "# normalize ground truth\n",
        "heb_ground_truth_norm = open('/content/drive/MyDrive/Whisper/GT/netanyahu_ground_truth.txt', 'r').read().lower().strip().translate(str.maketrans('', '', string.punctuation))\n",
        "print(heb_ground_truth_norm)"
      ]
    },
    {
      "cell_type": "code",
      "execution_count": null,
      "metadata": {
        "colab": {
          "base_uri": "https://localhost:8080/"
        },
        "id": "kFc5CTcPd_hM",
        "outputId": "ea40d6d5-f22a-4ceb-ed4f-e97f511eeb78"
      },
      "outputs": [
        {
          "name": "stdout",
          "output_type": "stream",
          "text": [
            "3%\n"
          ]
        }
      ],
      "source": [
        "# calculate WER\n",
        "ground_truth = heb_ground_truth_norm\n",
        "hypothesis = heb_transcription_norm\n",
        "error = wer(ground_truth, hypothesis)\n",
        "error_percentage = \"{:.0%}\".format(error)\n",
        "print(error_percentage)"
      ]
    }
  ],
  "metadata": {
    "accelerator": "GPU",
    "colab": {
      "provenance": [],
      "mount_file_id": "1gu-tBa8VigYzEvAAxFvi3ae94L3cMO24",
      "authorship_tag": "ABX9TyPw0Aks7T8gJENrdCQF5tUD",
      "include_colab_link": true
    },
    "gpuClass": "standard",
    "kernelspec": {
      "display_name": "Python 3",
      "name": "python3"
    },
    "language_info": {
      "name": "python"
    }
  },
  "nbformat": 4,
  "nbformat_minor": 0
}