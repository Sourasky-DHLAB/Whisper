{
  "nbformat": 4,
  "nbformat_minor": 0,
  "metadata": {
    "colab": {
      "provenance": [],
      "machine_shape": "hm",
      "gpuClass": "premium",
      "authorship_tag": "ABX9TyPM5iQGwY4qN9pCc1rsnxgf",
      "include_colab_link": true
    },
    "kernelspec": {
      "name": "python3",
      "display_name": "Python 3"
    },
    "language_info": {
      "name": "python"
    },
    "accelerator": "GPU",
    "gpuClass": "premium"
  },
  "cells": [
    {
      "cell_type": "markdown",
      "metadata": {
        "id": "view-in-github",
        "colab_type": "text"
      },
      "source": [
        "<a href=\"https://colab.research.google.com/github/Sourasky-DHLAB/Whisper/blob/main/Colab/Whisper_from_Youtube.ipynb\" target=\"_parent\"><img src=\"https://colab.research.google.com/assets/colab-badge.svg\" alt=\"Open In Colab\"/></a>"
      ]
    },
    {
      "cell_type": "markdown",
      "source": [
        "<div style=\"direction:rtl\" dir=\"rtl\">\n",
        "    <img src=\"http://drive.google.com/uc?export=view&id=1FnLVIqEV1Tt5rCEOIk5OxihO6xdZgTMe\"><br>\n",
        "<div style=\"direction:rtl\" dir=\"rtl\">\n",
        "  <p style=\"text-align: right; direction: rtl; float: right;\">    נכתב על ידי <a href=\"mailto:odedzarchia@tauex.tau.ac.il\">עודד זרחיה</a> | <a href=\"https://github.com/Sourasky-DHLAB\">Github</a><br>\n",
        "    <a href=\"https://cenlib.tau.ac.il/\">הספרייה המרכזית ע\"ש סוראסקי</a> | <a href=\"https://tau.ac.il/\">אוניברסיטת תל אביב</a>\n",
        "</div></p>"
      ],
      "metadata": {
        "id": "ptD9_PQkIJAi"
      }
    },
    {
      "cell_type": "markdown",
      "source": [
        "<div dir=\"rtl\">\n",
        "<h1><strong>1. הורדה ותמלול סרטוני Youtube עם yt-dlp ו-Whisper</strong></h1>\n",
        "<div dir=\"rtl\" style=\"direction: rtl;\">\n",
        "<p style=\"text-align: right; direction: rtl; float: right;\"><a href=\"https://openai.com/blog/whisper/\"> Whisper </a>הוא מודל לזיהוי דיבור מבית <a href=\"https://openai.com/\">OpenAI</a> הזמין לציבור הרחב בקוד פתוח. מודל זה אומן על יותר מ-680 אלף שעות של שיחות באנגלית ובשפות רבות אחרות &ndash; בהן גם עברית וערבית.<br /> מחברת זו תדריך אתכם בתמלול קטעי וידאו ואודיו מ-Yotube באמצעות Whisper ו-yt-dlp. תוכלו להשתמש במחברת כפי שהיא כדי לאחסן את הקבצים שהורדתם מ-Youtube ואת קבצי התמליל ב-Google Drive.<br /> לתשומת לבכם - השימוש במחברת זו ובמודל של Whisper חופשי לחלוטין וללא שום עלות. בנוסף, אין הגבלה על אורך קטעי הוידאו/אודיו שניתן לתמלל באמצעות Whisper.</p>\n",
        "</div>"
      ],
      "metadata": {
        "id": "CCDaZcJ9IPi7"
      }
    },
    {
      "cell_type": "markdown",
      "source": [
        "<h1><strong><div style=\"direction:rtl\" dir=\"rtl\">2. בדוק את סוג המעבד הגרפי (GPU) </div></strong></h1>\n",
        "<div style=\"direction:rtl\" dir=\"rtl\">\n",
        "  <p style=\"text-align: right; direction: rtl; float: right;\">סוג <a href=\"https://https://he.wikipedia.org/wiki/%D7%9E%D7%A2%D7%91%D7%93_%D7%92%D7%A8%D7%A4%D7%99\">המעבד הגרפי</a> <strong>(GPU - Graphics Processing Unit)</strong> שאתם מקבלים ב-Google Colab מגדיר את המהירות שבה קטעי האודיו יתומללו. ככל שמספר <a href=\"https://https://he.wikipedia.org/wiki/FLOPS\">הפלופס</a> <strong>(FLOPS - Floating Point Operations Per Second, פעולות נקודות צפות לשנייה)</strong> גבוה יותר, כך התמלול מהיר יותר. יחד עם זאת, גם המעבד הגרפי החלש ביותר ב-Colab מסוגל להריץ כל מודל של Whisper. יש לוודא כי בחרתם ב-GPU כמאיץ חומרה עבור מחברת זו (Runtime → Change runtime type → Hardware accelerator).</p>\n",
        "</div>\n",
        "\n",
        "<table>\n",
        "  <thead>\n",
        "    <tr>\n",
        "      <th>GPU</th>\n",
        "      <th>GPU RAM</th>\n",
        "      <th>FP32 teraFLOPS</th>\n",
        "      <th>Availability</th>\n",
        "    </tr>\n",
        "  </thead>\n",
        "  <tbody>\n",
        "    <tr>\n",
        "      <td>T4</td>\n",
        "      <td>16 GB</td>\n",
        "      <td>8.1</td>\n",
        "      <td>Free</td>\n",
        "    </tr>\n",
        "    <tr>\n",
        "      <td>P100</td>\n",
        "      <td>16 GB</td>\n",
        "      <td>10.6</td>\n",
        "      <td>Colab Pro</td>\n",
        "    </tr>\n",
        "    <tr>\n",
        "      <td>V100</td>\n",
        "      <td>16 GB</td>\n",
        "      <td>15.7</td>\n",
        "      <td>Colab Pro (Rare)</td>\n",
        "    </tr>\n",
        "  </tbody>\n",
        "</table>\n",
        "\n",
        "\n",
        "<div style=\"direction:rtl\" dir=\"rtl\">\n",
        "  <p style=\"text-align: right; direction: rtl; float: right;\">\n",
        "הריצו את התא הבא כדי לוודא את סוג המעבד הגרפי שהוקצה עבור מחברת זו. אפסו את ה-runtime של המחברת אם ברצונכם לקבל מעבד גרפי אחר (Runtime → Restart runtime).</p>"
      ],
      "metadata": {
        "id": "gATO0XqBJL7w"
      }
    },
    {
      "cell_type": "code",
      "source": [
        "# check gpu type\n",
        "!nvidia-smi -L\n",
        "!nvidia-smi"
      ],
      "metadata": {
        "id": "l7n-ZUab8u55"
      },
      "execution_count": null,
      "outputs": []
    },
    {
      "cell_type": "markdown",
      "source": [
        "<h1 id=\"-div-style-direction-rtl-dir-rtl-11-div-\"><strong><div style=\"direction:rtl\" dir=\"rtl\">3. התקנת ספריות </div></strong></h1>\n",
        "<div style=\"direction:rtl; float: right;\" dir=\"rtl\">\n",
        "  <p style=\"text-align: right; direction: rtl;\">הריצו את התא הבא כדי להתקין את הספריות הנחוצות לפעולת התמלול:</p>\n",
        "\n",
        "  <ol style=\"list-style: decimal; margin: 40; padding: 0;\">\n",
        "<li><a href=\"https://https://github.com/openai/whisper\">whisper</a> - ספריית התמלול.</li>\n",
        "<li><a href=\"https://pypi.org/project/yt-dlp//\">yt-dlp</a> - ספריית פייתון עבור הורדת סרטוני Youtube.</li>\n",
        "<li><a href=\"https://https://pypi.org/project/jiwer/\">jiwer</a> - ספרייה פייתון עבור בדיקת איכות.</li>\n",
        "  </ol>\n",
        "  "
      ],
      "metadata": {
        "id": "K4rf_JwoJkpL"
      }
    },
    {
      "cell_type": "code",
      "execution_count": null,
      "metadata": {
        "id": "3H_DRpXQ8W2T"
      },
      "outputs": [],
      "source": [
        "# install libraries\n",
        "!pip install -U yt-dlp\n",
        "!pip install git+https://github.com/openai/whisper.git\n",
        "!pip install jiwer"
      ]
    },
    {
      "cell_type": "markdown",
      "source": [
        "<div style=\"direction:rtl\" dir=\"rtl\">\n",
        "  <h1><strong>4. ייבוא ספריות </strong></h1>\n",
        "  <div style=\"direction:rtl\" dir=\"rtl\">\n",
        "  <p style=\"text-align: right; direction: rtl; float: right;\">הריצו את התא הבא כדי לייבא את הספריות הנדרשות.</p>\n",
        "</div>"
      ],
      "metadata": {
        "id": "AKhash-OK7VC"
      }
    },
    {
      "cell_type": "code",
      "source": [
        "# import libraries\n",
        "import whisper\n",
        "from whisper.utils import get_writer\n",
        "import os\n",
        "import string\n",
        "import yt_dlp\n",
        "from jiwer import wer\n",
        "import subprocess\n",
        "import json"
      ],
      "metadata": {
        "id": "dKL8bn3D8598"
      },
      "execution_count": null,
      "outputs": []
    },
    {
      "cell_type": "markdown",
      "source": [
        "<h1><strong><div style=\"direction:rtl\" dir=\"rtl\">5. חיבור ל-Google Drive </div></strong></h1>\n",
        "<div style=\"direction:rtl\" dir=\"rtl\">\n",
        "  <p style=\"text-align: right; direction: rtl; float: right;\">הריצו את התא הבא כדי להתחבר ל-Google Drive האישי שלכם. כדי לראות את הקבצים שלכם פתחו את סייר הקבצים בתפריט השמאלי.</p></div>"
      ],
      "metadata": {
        "id": "N48fnffULDn2"
      }
    },
    {
      "cell_type": "code",
      "source": [
        "# Load all the audio file paths in a Google Drive folder\n",
        "from google.colab import drive\n",
        "drive.mount(\"/content/drive\", force_remount=True) # This will prompt for authorization."
      ],
      "metadata": {
        "id": "Ad4QZRdO-Svq"
      },
      "execution_count": null,
      "outputs": []
    },
    {
      "cell_type": "markdown",
      "source": [
        "<h1 dir=\"rtl\"><strong>6. הגדרת תיקיות </strong></h1>\n",
        "<div style=\"direction:rtl\" dir=\"rtl\">\n",
        "  <p style=\"text-align: right; direction: rtl; float: right;\">הריצו את התא הבא כדי להגדיר את מיקום קבצי הוידאו והתמליל:<br>\n",
        "    <ol style=\"float:right;\">\n",
        "      <li>קבצי וידאו - מחברת זו מניחה כי קבצי הוידאו לתמלול יורדו מ-Yotube אל Google Drive תחת תיקיית <code>Whisper/Video/</code>. ניתן לשנות הגדרה זו במשתנה <code>video_folder_path</code>.\n",
        "      <li>קבצי תמליל - מחברת זו מניחה כי קבצי הטקסט של התמלול יישמרו ב-Google Drive תחת תיקיית <code>Whisper/Transcriptions/</code>. ניתן לשנות הגדרה זו במשתנה <code>transcription_folder_path</code>. במידה ואינה קיימת, תיקייה זו תיווצר באופן אוטומטי לאחר הרצת התא.</li>\n",
        "    </ol>\n",
        "  </p>\n",
        "</div>"
      ],
      "metadata": {
        "id": "EHu8nlLSLq_3"
      }
    },
    {
      "cell_type": "code",
      "source": [
        "# set download folder to \"Video\" under \"Whisper\"\n",
        "video_folder_path = \"/content/drive/MyDrive/Whisper/Video/\"\n",
        "\n",
        "# set transcription folder to \"Transcriptions\" under \"Whisper\"\n",
        "transcription_folder_path = \"/content/drive/MyDrive/Whisper/Transcriptions/\"\n",
        "\n",
        "# Create \"Transcriptions\" folder if does not exist\n",
        "if not os.path.exists(transcription_folder_path):\n",
        "  os.makedirs(transcription_folder_path)"
      ],
      "metadata": {
        "id": "PEedtFyX99LO"
      },
      "execution_count": null,
      "outputs": []
    },
    {
      "cell_type": "markdown",
      "source": [
        "<h1><strong><div style=\"direction:rtl\" dir=\"rtl\">7. הגדרת כתובת ה-URL של סרטון ה-Yotube </div></strong></h1>\n",
        "<div style=\"direction:rtl\" dir=\"rtl\">\n",
        "  <p style=\"text-align: right; direction: rtl; float: right;\">כתובת קטע הוידאו להורדה מוגדרת תחת משתנה <code>url</code>. העתיקו את כתובת הסרטון שברצונכם   ולהוריד ,הדביקו אותה בין הגרשיים והריצו את התא הבא.</p></div>"
      ],
      "metadata": {
        "id": "f_UYYJ95N0Xc"
      }
    },
    {
      "cell_type": "code",
      "source": [
        "url = 'https://youtu.be/dQw4w9WgXcQ'"
      ],
      "metadata": {
        "id": "g3Be5FONO7qR"
      },
      "execution_count": null,
      "outputs": []
    },
    {
      "cell_type": "markdown",
      "source": [
        "<h1><strong><div style=\"direction:rtl\" dir=\"rtl\">8.הדפסת metadata עבור הסרטון</div></strong></h1>\n",
        "<div style=\"direction:rtl\" dir=\"rtl\">\n",
        "  <p style=\"text-align: right; direction: rtl; float: right;\">הריצו את התא הבא כדי להדפיס על המסך את שדות ה-metadata של סרטון ה-youtube שבחרתם להוריד. כך תוכלו לוודא כי בחרתם את הסרטון הנכון.</p></div>"
      ],
      "metadata": {
        "id": "yGw5sdk0QBQG"
      }
    },
    {
      "cell_type": "code",
      "source": [
        "command = ['yt-dlp', '--dump-json', url]\n",
        "result = subprocess.run(command, capture_output=True, text=True)\n",
        "output = result.stdout.strip()\n",
        "\n",
        "# Parse the JSON output\n",
        "data = json.loads(output)\n",
        "title = data['title']\n",
        "# Print the values\n",
        "for value in data.values():\n",
        "    print(value)"
      ],
      "metadata": {
        "id": "XxUoLz9D9Y1d"
      },
      "execution_count": null,
      "outputs": []
    },
    {
      "cell_type": "markdown",
      "source": [
        "<h1><strong><div style=\"direction:rtl\" dir=\"rtl\">9. הורדת הסרטון מ-Youtube</div></strong></h1>\n",
        "<div style=\"direction:rtl\" dir=\"rtl\">\n",
        "  <p style=\"text-align: right; direction: rtl; float: right;\">\n",
        "  הרצת התא הבא תוריד את הסרטון שהגדרנו אל תיקיית <code>Whisper/Video/</code> ב-Google Drive. יושם לב כי חלק ניכר מן הסרטונים ב-Yotube זמינים לצפייה <a href =\"https://he.wikipedia.org/wiki/%D7%A8%D7%96%D7%95%D7%9C%D7%95%D7%A6%D7%99%D7%94\">ברזולוציות</a> שונות (720p, 1080p וכולי). הקוד בתא זה יוריד לתיקייה את הסרטון באיכות הטובה ביותר האפשרית. בנוסף, תא זה ממזג את שכבת האודיו ושכבת הוידאו של הסרטון."
      ],
      "metadata": {
        "id": "fTz8xi3DS5W-"
      }
    },
    {
      "cell_type": "code",
      "source": [
        "output_file = video_folder_path + title + \".mp4\"\n",
        "command = ['yt-dlp', '--format', 'bestvideo[height<=1080][ext=mp4]+bestaudio[ext=m4a]/best[ext=mp4]/best', '--output', output_file, '--progress', url]\n",
        "\n",
        "# Use subprocess.PIPE to capture both stdout and stderr\n",
        "result = subprocess.run(command, capture_output=True, text=True)\n",
        "# Print progress\n",
        "print(result.stdout)\n",
        "# Check if an error occurred\n",
        "if result.returncode != 0:\n",
        "    print(\"An error occurred.\")"
      ],
      "metadata": {
        "id": "ap14WKkpSj61"
      },
      "execution_count": null,
      "outputs": []
    },
    {
      "cell_type": "markdown",
      "source": [
        "<h1><strong><div style=\"direction:rtl\" dir=\"rtl\">10. טעינת הסרטונים לתמלול </div></h1></strong>\n",
        "<div style=\"direction:rtl\" dir=\"rtl\">\n",
        "  <p style=\"text-align: right; direction: rtl; float: right;\">\n",
        "הריצו את התא הבא כדי לטעון את סרטוני הוידאו הנמצאים בתיקיית <code>Whisper/Video/</code> לתוך משתנה מסוג <a href=\"https://he.wikipedia.org/wiki/%D7%A8%D7%A9%D7%99%D7%9E%D7%94_(%D7%9E%D7%91%D7%A0%D7%94_%D7%A0%D7%AA%D7%95%D7%A0%D7%99%D7%9D)\">רשימה</a> (list). הפלט יציג את שמות וכמות הקבצים לתמלול.</p>"
      ],
      "metadata": {
        "id": "Uc-m3eCQe0i2"
      }
    },
    {
      "cell_type": "code",
      "source": [
        "# Get a list of all the files in video folder\n",
        "video_files = []\n",
        "for file in os.listdir(video_folder_path):\n",
        "    video_files.append(video_folder_path + file)\n",
        "for p in video_files:\n",
        "    print(p)\n",
        "print(f\"\\033[1m There are {len(video_files)} video files to transcribe\")"
      ],
      "metadata": {
        "id": "5bwZzquT_Eie"
      },
      "execution_count": null,
      "outputs": []
    },
    {
      "cell_type": "markdown",
      "source": [
        "<h1 id=\"-div-style-direction-rtl-dir-rtl-8-div-\"><strong><div style=\"direction:rtl\" dir=\"rtl\">11. טעינת מודל התמלול </div></strong></h1>\n",
        "<div style=\"direction:rtl\" dir=\"rtl\">\n",
        "  <p style=\"text-align: right; direction: rtl; float: right;\">הריצו את התא הבא כדי לטעון את מודל התמלול המתאים. יושם לב כי אנו משתמשים במודל הבינוני עבור השפה האנגלית (<strong>medium.en</strong>). <br> ישנם חמישה מודלים, ארבעה עם גרסאות באנגלית בלבד, המציעים פשרות שונות בין מהירות לדיוק. יושם לב כי פעולת התמלול צורכת משאבי מחשוב מרובים. לפיכך, אם ברצונכם להשתמש במודל הגדול (<strong>large</strong>) עבור קבצים מרובים, מומלץ להריץ את המחברת בסביבה עם משאבי מחשוב מובטחים כדוגמת <a href=\"https://colab.research.google.com/signup\">Google Colab Pro</a>. עבור תמלול באנגלית בלבד, מודלי ה-en. נוטים לתפקד טוב יותר. <br>בטבלה שלהלן מוצגים שמות המודלים הזמינים יחד עם דרישות הזיכרון והמהירות היחסית שלהם:\n",
        "</div>\n",
        "\n",
        "<table>\n",
        "<thead>\n",
        "<tr>\n",
        "<th style=\"text-align:center\">Size</th>\n",
        "<th style=\"text-align:center\">Parameters</th>\n",
        "<th style=\"text-align:center\">English-only model</th>\n",
        "<th style=\"text-align:center\">Multilingual model</th>\n",
        "<th style=\"text-align:center\">Required VRAM</th>\n",
        "<th style=\"text-align:center\">Relative speed</th>\n",
        "</tr>\n",
        "</thead>\n",
        "<tbody>\n",
        "<tr>\n",
        "<td style=\"text-align:center\">tiny</td>\n",
        "<td style=\"text-align:center\">39 M</td>\n",
        "<td style=\"text-align:center\"><code>tiny.en</code></td>\n",
        "<td style=\"text-align:center\"><code>tiny</code></td>\n",
        "<td style=\"text-align:center\">~1 GB</td>\n",
        "<td style=\"text-align:center\">~32x</td>\n",
        "</tr>\n",
        "<tr>\n",
        "<td style=\"text-align:center\">base</td>\n",
        "<td style=\"text-align:center\">74 M</td>\n",
        "<td style=\"text-align:center\"><code>base.en</code></td>\n",
        "<td style=\"text-align:center\"><code>base</code></td>\n",
        "<td style=\"text-align:center\">~1 GB</td>\n",
        "<td style=\"text-align:center\">~16x</td>\n",
        "</tr>\n",
        "<tr>\n",
        "<td style=\"text-align:center\">small</td>\n",
        "<td style=\"text-align:center\">244 M</td>\n",
        "<td style=\"text-align:center\"><code>small.en</code></td>\n",
        "<td style=\"text-align:center\"><code>small</code></td>\n",
        "<td style=\"text-align:center\">~2 GB</td>\n",
        "<td style=\"text-align:center\">~6x</td>\n",
        "</tr>\n",
        "<tr>\n",
        "<td style=\"text-align:center\">medium</td>\n",
        "<td style=\"text-align:center\">769 M</td>\n",
        "<td style=\"text-align:center\"><code>medium.en</code></td>\n",
        "<td style=\"text-align:center\"><code>medium</code></td>\n",
        "<td style=\"text-align:center\">~5 GB</td>\n",
        "<td style=\"text-align:center\">~2x</td>\n",
        "</tr>\n",
        "<tr>\n",
        "<td style=\"text-align:center\">large</td>\n",
        "<td style=\"text-align:center\">1550 M</td>\n",
        "<td style=\"text-align:center\">N/A</td>\n",
        "<td style=\"text-align:center\"><code>large</code></td>\n",
        "<td style=\"text-align:center\">~10 GB</td>\n",
        "<td style=\"text-align:center\">1x</td>\n",
        "</tr>\n",
        "</tbody>\n",
        "</table>\n",
        "<p><div style=\"direction:rtl\" dir=\"rtl\"><br></p>"
      ],
      "metadata": {
        "id": "g8Ffym3MeAqx"
      }
    },
    {
      "cell_type": "code",
      "source": [
        "# load whisper model\n",
        "model = whisper.load_model(\"medium.en\")\n",
        "print(f\"\\033[1m Model loaded successfully\")"
      ],
      "metadata": {
        "id": "ITo6MuEe_XWN"
      },
      "execution_count": null,
      "outputs": []
    },
    {
      "cell_type": "markdown",
      "source": [
        "<h1 id=\"-div-style-direction-rtl-dir-rtl-9-div-\"><strong><div style=\"direction:rtl\" dir=\"rtl\">12. קביעת שפה לתמלול וסוג הפלט</div></strong></h1>\n",
        "<div style=\"direction:rtl\" dir=\"rtl\">\n",
        " <p style=\"text-align: right; direction: rtl; float: right;\">הריצו את התא הבא כדי לקבוע שני משתנים:\n",
        "<ol style=\"float:right;\">\n",
        "  <li><code>lang</code> - הגדרת שפת התמלול. <code>en</code> משמעו אנגלית. ניתן להדפיס את רשימת השפות הנתמכת על ידי הרצת הפקודה <code>print(whisper.tokenizer.LANGUAGES)</code> בתא נפרד.</li>\n",
        "  <li><code>output_format</code> - הגדרת סוג הפלט. Whisper תומך בהפקת הפלטים הבאים:\n",
        "    <ul>\n",
        "      <li><code>txt</code> - קובץ טקסט עם מעברי שורות, ניתן לפתיחה בכל מעבד תמלילים.</li>\n",
        "      <li><code>srt/vtt</code>- קבצי כתוביות המכילים טקסט וחתימות זמן.</li>\n",
        "      <li><code>tsv</code>- קובץ טקסט מופרד בטאבים עם חלוקה לסגמנטים. ניתן לפתיחה כגיליון אלקטרוני.</li>\n",
        "      <li><code>json</code>- מבנה מידע המורכב מזוגות של מפתח-ערך.</li>\n",
        "    </ul><br>\n",
        "    החליפו את ערך המשתנה בהתאם לסוג הפלט שברצונכם לקבל. ניתן להפיק את כל סוגי הפלטים באמצעות קביעת הערך <code>all</code>.</p>\n",
        "  </li>\n",
        "</ol>\n",
        "</div>"
      ],
      "metadata": {
        "id": "vRBKlGgTfFZk"
      }
    },
    {
      "cell_type": "code",
      "source": [
        "lang = 'en'\n",
        "output_format = 'all'"
      ],
      "metadata": {
        "id": "fDFZuXT9_bva"
      },
      "execution_count": null,
      "outputs": []
    },
    {
      "cell_type": "markdown",
      "source": [
        "<h1 id=\"-div-style-direction-rtl-dir-rtl-10-div-\"><strong><div style=\"direction:rtl\" dir=\"rtl\">13. תמלול </div></strong></h1>\n",
        "<div style=\"direction:rtl\" dir=\"rtl\">\n",
        "  <p style=\"text-align: right; direction: rtl; float: right;\">\n",
        "הריצו את התא הבא כדי לתמלל את קבצי הוידאו בתיקיית <code>Whisper/Video/</code>.\n",
        "קבצי הפלט יישמרו בתיקיית <code>Whisper/Transcriptions/</code> עם שם זהה לקבצי הוידאו אך עם סיומת שונה, וזאתם בהתאם לפרמטר ה-<code>output_format</code> שהגדרתם. </p>"
      ],
      "metadata": {
        "id": "QvcZ6vr2fc-G"
      }
    },
    {
      "cell_type": "code",
      "source": [
        "# set timer\n",
        "import time\n",
        "start_time = time.time()\n",
        "# transcribe video files in list\n",
        "for p in video_files:\n",
        "  result = model.transcribe(p, verbose = False, language = lang) # to translate add \"task = 'transalte'\"\n",
        "  options = {\n",
        "        \"max_line_width\": None,\n",
        "        \"max_line_count\": None,\n",
        "        \"highlight_words\": False\n",
        "    }\n",
        "  # use get_writer method to output files\n",
        "  output_file = get_writer(output_format, transcription_folder_path)\n",
        "  output_file(result, p[:-4], options=options)\n",
        "  print(p)\n",
        "print(f\"\\033[1m--- Transcribed {len(video_files)} video files in %s seconds ---\" % (time.time() - start_time))"
      ],
      "metadata": {
        "id": "jlE7m9vm_fJt"
      },
      "execution_count": null,
      "outputs": []
    },
    {
      "cell_type": "markdown",
      "source": [
        "<h1 id=\"-div-style-direction-rtl-dir-rtl-11-div-\"><strong><div style=\"direction:rtl\" dir=\"rtl\">14. בדיקת איכות (אופציונלי) </div></strong></h1>\n",
        "<div style=\"direction:rtl\" dir=\"rtl\">\n",
        "\n",
        "<p style=\"text-align: right; direction: rtl; float: right;\">הרצת התאים הבאים תאפשר לכם להעריך את הדיוק של התמלול שהפקתם באמצעות Whisper. בדיקה זו מתבצעת במספר שלבים, ומצריכה את קובץ התמלול המקורי (<a href=\"https://https://en.wikipedia.org/wiki/Ground_truth\">Ground Truth</a>): </p>\n",
        "<ol>\n",
        "<li>נירמול פלט התמלול של Whisper וקובץ התמלול המקורי  - הסרת סימני פיסוק, רווחים מיותרים, קפיטליזציה וכולי. הנתיב של הקובץ שהפקתם באמצעות Whisper מוגדר במשתנה מוגדר במשתנה <code>whisper_output</code>. הנתיב של קובץ התמלול המקורי מוגדר במשתנה <code>ground_truth</code>.</li>\n",
        "<li>השוואה בין שני הקבצים וחישוב אחוז השגיאות בהתאם למדד <a href=\"https://https://en.wikipedia.org/wiki/Word_error_rate\">Word Error Rate</a> - באמצעות ספריית jiwer.</li>\n",
        "</ol>\n",
        "<p style=\"text-align: right; direction: rtl; float: right;\">הפלט המתקבל מוצג באחוזים ומצביע על אחוז המילים השגויות בקובץ התמלול, וזאת בהשוואה לקובץ המקור. כלומר, במידה ואחוז השגיאות עומד על כ-3%, אזי מתוך 100 מילים יש 3 מילים שגויות.</p>"
      ],
      "metadata": {
        "id": "At59nVkHgelo"
      }
    },
    {
      "cell_type": "code",
      "source": [
        "# normalize whisper output\n",
        "whisper_output = '/content/drive/MyDrive/Whisper/Transcriptions/Rick Astley - Never Gonna Give You Up (Official Music Video).txt'\n",
        "whisper_output_norm = open(whisper_output, 'r').read().lower().translate(str.maketrans('', '', string.punctuation)).replace('\\n', ' ')\n",
        "print(whisper_output_norm)"
      ],
      "metadata": {
        "id": "2S2IpycgA1oz"
      },
      "execution_count": null,
      "outputs": []
    },
    {
      "cell_type": "code",
      "source": [
        "# normalize ground truth\n",
        "ground_truth = '/content/drive/MyDrive/Whisper/GT/Astley_GT.txt'\n",
        "ground_truth_norm = open(ground_truth, 'r').read().lower().translate(str.maketrans('', '', string.punctuation)).replace('\\n', ' ')\n",
        "print(ground_truth_norm)"
      ],
      "metadata": {
        "id": "Z2n6hJTbA3JT"
      },
      "execution_count": null,
      "outputs": []
    },
    {
      "cell_type": "code",
      "source": [
        "# calculate WER\n",
        "reference = ground_truth_norm\n",
        "hypothesis = whisper_output_norm\n",
        "error = wer(reference, hypothesis)\n",
        "error_percentage = \"{:.0%}\".format(error)\n",
        "print(error_percentage)"
      ],
      "metadata": {
        "id": "AvkcpQPCA44j"
      },
      "execution_count": null,
      "outputs": []
    }
  ]
}