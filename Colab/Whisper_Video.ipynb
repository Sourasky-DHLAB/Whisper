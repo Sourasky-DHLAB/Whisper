{
  "cells": [
    {
      "cell_type": "markdown",
      "metadata": {
        "id": "view-in-github",
        "colab_type": "text"
      },
      "source": [
        "<a href=\"https://colab.research.google.com/github/Sourasky-DHLAB/Whisper/blob/main/Colab/Whisper_Video.ipynb\" target=\"_parent\"><img src=\"https://colab.research.google.com/assets/colab-badge.svg\" alt=\"Open In Colab\"/></a>"
      ]
    },
    {
      "cell_type": "markdown",
      "metadata": {
        "id": "oQpkmckW3kIi"
      },
      "source": [
        "<div style=\"direction:rtl\" dir=\"rtl\">\n",
        "    <img src=\"https://drive.google.com/uc?export=view&amp;id=15xQaGVrJej6UIPjfAB-QVWXLWVChPJSt\"><br>\n",
        "<div style=\"direction:rtl\" dir=\"rtl\">\n",
        "  <p style=\"text-align: right; direction: rtl; float: right;\">    נכתב על ידי <a href=\"mailto:odedzarchia@tauex.tau.ac.il\">עודד זרחיה</a> | <a href=\"https://github.com/Sourasky-DHLAB\">Github</a><br>\n",
        "    <a href=\"https://cenlib.tau.ac.il/\">הספרייה המרכזית ע\"ש סוראסקי</a> | <a href=\"https://tau.ac.il/\">אוניברסיטת תל אביב</a>\n",
        "</div></p>"
      ]
    },
    {
      "cell_type": "markdown",
      "metadata": {
        "id": "TsYo7x7KhucD"
      },
      "source": [
        "<h1><strong><div style=\"direction:rtl\" dir=\"rtl\">1. תמלול קבצי וידאו באמצעות Whisper </div></strong></h1>\n",
        "<div style=\"direction:rtl\" dir=\"rtl\">\n",
        "  <p style=\"text-align: right; direction: rtl; float: right;\"><a href=\"https://openai.com/blog/whisper/\">Whisper</a> הוא מודל לזיהוי דיבור מבית <a href=\"https://https://openai.com/\">OpenAI</a> הזמין לציבור הרחב בקוד פתוח. מודל זה אומן על יותר מ-680 אלף שעות של שיחות באנגלית ובשפות רבות אחרות – בהן גם עברית וערבית. מחברת זו תדריך אתכם בתמלול קטעי וידאו באמצעות Whisper. תהליך זה מורכב משלושה שלבים מרכזיים:</p>\n",
        "<ol style=\"float:right;\">\n",
        "<li>חילוץ שכבת האודיו מקובץ הוידאו.</li>\n",
        "<li>תמלול שכבת האודיו.</li>\n",
        "<li>בדיקת איכות (אופציונלי).</li>\n",
        "</ol>\n",
        "<p style=\"text-align: right; direction: rtl; float: right;\">מחברת זו תדריך אתכם בתמלול קטעי אודיו באמצעות Whisper. תוכלו להשתמש במחברת כפי שהיא כדי לאחסן את קבצי התמליל ב-Google Drive.<br>\n",
        "לתשומת לבכם - השימוש במחברת זו ובמודל של Whisper חופשי לחלוטין וללא שום עלות. בנוסף, אין הגבלה על אורך קטעי הוידאו/אודיו שניתן לתמלל באמצעות Whisper.\n",
        "</p>\n",
        "</div>\n"
      ]
    },
    {
      "cell_type": "markdown",
      "metadata": {
        "id": "5jTJEI2WX8g8"
      },
      "source": [
        "<h1><strong><div style=\"direction:rtl\" dir=\"rtl\">2. בדוק את סוג המעבד הגרפי (GPU) </div></strong></h1>\n",
        "<div style=\"direction:rtl\" dir=\"rtl\">\n",
        "  <p style=\"text-align: right; direction: rtl; float: right;\">סוג <a href=\"https://https://he.wikipedia.org/wiki/%D7%9E%D7%A2%D7%91%D7%93_%D7%92%D7%A8%D7%A4%D7%99\">המעבד הגרפי</a> <strong>(GPU - Graphics Processing Unit)</strong> שאתם מקבלים ב-Google Colab מגדיר את המהירות שבה קטעי האודיו יתומללו. ככל שמספר <a href=\"https://https://he.wikipedia.org/wiki/FLOPS\">הפלופס</a> <strong>(FLOPS - Floating Point Operations Per Second, פעולות נקודות צפות לשנייה)</strong> גבוה יותר, כך התמלול מהיר יותר. יחד עם זאת, גם המעבד הגרפי החלש ביותר ב-Colab מסוגל להריץ כל מודל של Whisper. יש לוודא כי בחרתם ב-GPU כמאיץ חומרה עבור מחברת זו (Runtime → Change runtime type → Hardware accelerator).</p>\n",
        "</div>\n",
        "\n",
        "<table>\n",
        "  <thead>\n",
        "    <tr>\n",
        "      <th>GPU</th>\n",
        "      <th>GPU RAM</th>\n",
        "      <th>FP32 teraFLOPS</th>\n",
        "      <th>Availability</th>\n",
        "    </tr>\n",
        "  </thead>\n",
        "  <tbody>\n",
        "    <tr>\n",
        "      <td>T4</td>\n",
        "      <td>16 GB</td>\n",
        "      <td>8.1</td>\n",
        "      <td>Free</td>\n",
        "    </tr>\n",
        "    <tr>\n",
        "      <td>P100</td>\n",
        "      <td>16 GB</td>\n",
        "      <td>10.6</td>\n",
        "      <td>Colab Pro</td>\n",
        "    </tr>\n",
        "    <tr>\n",
        "      <td>V100</td>\n",
        "      <td>16 GB</td>\n",
        "      <td>15.7</td>\n",
        "      <td>Colab Pro (Rare)</td>\n",
        "    </tr>\n",
        "  </tbody>\n",
        "</table>\n",
        "\n",
        "\n",
        "<div style=\"direction:rtl\" dir=\"rtl\">\n",
        "  <p style=\"text-align: right; direction: rtl; float: right;\">\n",
        "הריצו את התא הבא כדי לוודא את סוג המעבד הגרפי שהוקצה עבור מחברת זו. אפסו את ה-runtime של המחברת אם ברצונכם לקבל מעבד גרפי אחר (Runtime → Restart runtime).</p>"
      ]
    },
    {
      "cell_type": "code",
      "execution_count": null,
      "metadata": {
        "id": "ygyW5Wjd2Xqz"
      },
      "outputs": [],
      "source": [
        "# check gpu type\n",
        "!nvidia-smi -L\n",
        "!nvidia-smi"
      ]
    },
    {
      "cell_type": "markdown",
      "metadata": {
        "id": "pgXqU0Fs1310"
      },
      "source": [
        "<h1 id=\"-div-style-direction-rtl-dir-rtl-11-div-\"><strong><div style=\"direction:rtl\" dir=\"rtl\">3. התקנת ספריות </div></strong></h1>\n",
        "<div style=\"direction:rtl; float: right;\" dir=\"rtl\">\n",
        "  <p style=\"text-align: right; direction: rtl;\">הריצו את התא הבא כדי להתקין את הספריות הנחוצות לפעולת התמלול:</p>\n",
        "\n",
        "  <ol style=\"list-style: decimal; margin: 40; padding: 0;\">\n",
        "<li><a href=\"https://https://github.com/openai/whisper\">whisper</a> (עבור תמלול)</li>\n",
        "<li><a href=\"https://https://pypi.org/project/moviepy/\">moviepy</a> (עבור חילוץ אודיו)</li>\n",
        "<li><a href=\"https://https://pypi.org/project/imageio/\">imageio</a> (נדרש עבור moviepy)</li>\n",
        "<li><a href=\"https://https://pypi.org/project/jiwer/\">jiwer</a> (עבור בדיקת WER)</li>\n",
        "  </ol>"
      ]
    },
    {
      "cell_type": "code",
      "execution_count": null,
      "metadata": {
        "id": "xP_lbfCa2gzx"
      },
      "outputs": [],
      "source": [
        "!pip install git+https://github.com/openai/whisper.git \n",
        "!pip install moviepy\n",
        "!pip3 install imageio==2.4.1\n",
        "!pip install jiwer"
      ]
    },
    {
      "cell_type": "markdown",
      "metadata": {
        "id": "aG9xCsNbjNUR"
      },
      "source": [
        "<div style=\"direction:rtl\" dir=\"rtl\">\n",
        "  <h1><strong>4. ייבוא ספריות </strong></h1>\n",
        "  <div style=\"direction:rtl\" dir=\"rtl\">\n",
        "  <p style=\"text-align: right; direction: rtl; float: right;\">הריצו את התא הבא כדי לייבא את הספריות הנדרשות עבור פעולת התמלול.</p>\n",
        "</div>"
      ]
    },
    {
      "cell_type": "code",
      "execution_count": null,
      "metadata": {
        "id": "CODmLFMC2_Q0"
      },
      "outputs": [],
      "source": [
        "import whisper\n",
        "import moviepy.editor\n",
        "from jiwer import wer\n",
        "import os"
      ]
    },
    {
      "cell_type": "markdown",
      "metadata": {
        "id": "s976fYrHf7QA"
      },
      "source": [
        "<h1><strong><div style=\"direction:rtl\" dir=\"rtl\">5. חיבור ל-Google Drive </div></strong></h1>\n",
        "<div style=\"direction:rtl\" dir=\"rtl\">\n",
        "  <p style=\"text-align: right; direction: rtl; float: right;\">הריצו את התא הבא כדי להתחבר ל-Google Drive האישי שלכם. כדי לראות את הקבצים שלכם פתחו את סייר הקבצים בתפריט השמאלי.</p></div>"
      ]
    },
    {
      "cell_type": "code",
      "execution_count": null,
      "metadata": {
        "colab": {
          "base_uri": "https://localhost:8080/"
        },
        "id": "8EnzjKLvyzcf",
        "outputId": "5353ea36-df21-4b75-b7ba-9005d04b97ff"
      },
      "outputs": [
        {
          "name": "stdout",
          "output_type": "stream",
          "text": [
            "Mounted at /content/gdrive/\n"
          ]
        }
      ],
      "source": [
        "from google.colab import drive\n",
        "drive.mount('/content/gdrive/', force_remount=True)"
      ]
    },
    {
      "cell_type": "markdown",
      "metadata": {
        "id": "NiWkMVjtAY8N"
      },
      "source": [
        "<h1 dir=\"rtl\"><strong>6. הגדרת תיקיות </strong></h1>\n",
        "<div style=\"direction:rtl\" dir=\"rtl\">\n",
        "  <p style=\"text-align: right; direction: rtl; float: right;\">הריצו את התא הבא כדי להגדיר את מיקום קבצי האודיו והתמליל:<br>\n",
        "    <ol style=\"float:right;\">\n",
        "      <li>קבצי וידאו - מחברת זו מניחה כי קבצי האודיו לתמלול נמצאים ב-Google Drive תחת תיקיית <code>Whisper/Video</code>. ניתן לשנות הגדרה זו במשתנה <code>video_folder</code>.</li>\n",
        "            <li>קבצי tushu - מחברת זו מניחה כי קבצי האודיו לתמלול נמצאים ב-Google Drive תחת תיקיית <code>Whisper/Audio</code>. ניתן לשנות הגדרה זו במשתנה <code>audio_folder</code>.</li>\n",
        "      <li>קבצי תמליל - מחברת זו מניחה כי קבצי הטקסט של התמלול יישמרו ב-Google Drive תחת תיקיית <code>Whisper/Transcriptions</code>. ניתן לשנות הגדרה זו במשתנה <code>transcription_folder</code>. במידה ואינה קיימת, תיקייה זו תיווצר באופן אוטומטי לאחר הרצת התא.</li>\n",
        "    </ol>\n",
        "  </p>\n",
        "</div>"
      ]
    },
    {
      "cell_type": "code",
      "execution_count": null,
      "metadata": {
        "id": "eibSP4quA2U2"
      },
      "outputs": [],
      "source": [
        "# Assuming the video files are in a folder called \"Video\" under \"Whisper\"\n",
        "video_folder = \"/content/drive/MyDrive/Whisper/Video/\"\n",
        "\n",
        "# Assuming the audio files are in a folder called \"Audio\" under \"Whisper\"\n",
        "audio_folder = \"/content/drive/MyDrive/Whisper/Audio/\"\n",
        "\n",
        "# Assuming the text files will be placed in a folder called \"Transcriptions\" under \"Whisper\"\n",
        "transcription_folder = \"/content/drive/MyDrive/Whisper/Transcriptions/\"\n",
        "\n",
        "# Create \"Transcriptions\" folder if does not exist\n",
        "if not os.path.exists(transcription_folder):\n",
        "  os.makedirs(transcription_folder)"
      ]
    },
    {
      "cell_type": "markdown",
      "metadata": {
        "id": "HxNrm8eNmCDd"
      },
      "source": [
        "<h1><strong><div style=\"direction:rtl\" dir=\"rtl\">7. טעינת וידאו עם moviepy </div></strong></h1>\n",
        "<div style=\"direction:rtl\" dir=\"rtl\">\n",
        "  <p style=\"text-align: right; direction: rtl; float: right;\">\n",
        "\n",
        "טענו קובץ וידאו מ-Google Drive באמצעות moviepy. שנו את הנתיב תחת משתנה `video` כדי לטעון את הקובץ שלכם (אתרו את הקובץ בסייר הקבצים, לחצו על הכפתור הימני בעכבר ← Copy path).</p></div>"
      ]
    },
    {
      "cell_type": "code",
      "execution_count": null,
      "metadata": {
        "id": "1Qzqa-hQ38aF"
      },
      "outputs": [],
      "source": [
        "video = moviepy.editor.VideoFileClip(\"/content/drive/MyDrive/Whisper/Video/netanyahu_liar_son_of_liar.mp4\")"
      ]
    },
    {
      "cell_type": "markdown",
      "metadata": {
        "id": "s_4HY_I1mU1k"
      },
      "source": [
        "<h1><strong><div style=\"direction:rtl\" dir=\"rtl\">8. חילוץ שכבת אודיו </div></strong></h1>\n",
        "<div style=\"direction:rtl\" dir=\"rtl\">\n",
        "  <p style=\"text-align: right; direction: rtl; float: right;\">\n",
        "\n",
        "הריצו את התא הבא כדי לחלץ את שכבת האודיו מקובץ הוידאו שלכם באמצעות moviepy וכדי לשמור אותה כקובץ נפרד ב-Google Drive שלכם. הקפידו לשנות את שם הקובץ בהתאם. "
      ]
    },
    {
      "cell_type": "code",
      "execution_count": null,
      "metadata": {
        "id": "4fs0IJtU4Cd6"
      },
      "outputs": [],
      "source": [
        "audio = video.audio\n",
        "audio.write_audiofile(\"/content/drive/MyDrive/Whisper/Audio/netanyahu_liar_son_of_liar.mp3\")"
      ]
    },
    {
      "cell_type": "markdown",
      "metadata": {
        "id": "ByC-bZusEZ3_"
      },
      "source": [
        "<h1 id=\"-div-style-direction-rtl-dir-rtl-8-div-\"><strong><div style=\"direction:rtl\" dir=\"rtl\">9. טעינת מודל התמלול </div></strong></h1>\n",
        "<div style=\"direction:rtl\" dir=\"rtl\">\n",
        "  <p style=\"text-align: right; direction: rtl; float: right;\">הריצו את התא הבא כדי לטעון את מודל התמלול המתאים. יושם לב כי אנו משתמשים במודל הגדול (<strong>large</strong>), המדויק ביותר עבור השפה העברית. <br> ישנם חמישה מודלים, ארבעה עם גרסאות באנגלית בלבד, המציעים פשרות שונות בין מהירות לדיוק. יושם לב כי פעולת התמלול צורכת משאבי מחשוב מרובים. לפיכך, אם ברצונכם להשתמש במודל הגדול עבור קבצים מרובים, מומלץ להריץ את המחברת בסביבה עם משאבי מחשוב מובטחים כדוגמת <a href=\"https://colab.research.google.com/signup\">Google Colab Pro</a>. עבור תמלול באנגלית בלבד, מודלי ה-en. נוטים לתפקד טוב יותר. <br>בטבלה שלהלן מוצגים שמות המודלים הזמינים יחד עם דרישות הזיכרון והמהירות היחסית שלהם:\n",
        "</div>\n",
        "\n",
        "<table>\n",
        "<thead>\n",
        "<tr>\n",
        "<th style=\"text-align:center\">Size</th>\n",
        "<th style=\"text-align:center\">Parameters</th>\n",
        "<th style=\"text-align:center\">English-only model</th>\n",
        "<th style=\"text-align:center\">Multilingual model</th>\n",
        "<th style=\"text-align:center\">Required VRAM</th>\n",
        "<th style=\"text-align:center\">Relative speed</th>\n",
        "</tr>\n",
        "</thead>\n",
        "<tbody>\n",
        "<tr>\n",
        "<td style=\"text-align:center\">tiny</td>\n",
        "<td style=\"text-align:center\">39 M</td>\n",
        "<td style=\"text-align:center\"><code>tiny.en</code></td>\n",
        "<td style=\"text-align:center\"><code>tiny</code></td>\n",
        "<td style=\"text-align:center\">~1 GB</td>\n",
        "<td style=\"text-align:center\">~32x</td>\n",
        "</tr>\n",
        "<tr>\n",
        "<td style=\"text-align:center\">base</td>\n",
        "<td style=\"text-align:center\">74 M</td>\n",
        "<td style=\"text-align:center\"><code>base.en</code></td>\n",
        "<td style=\"text-align:center\"><code>base</code></td>\n",
        "<td style=\"text-align:center\">~1 GB</td>\n",
        "<td style=\"text-align:center\">~16x</td>\n",
        "</tr>\n",
        "<tr>\n",
        "<td style=\"text-align:center\">small</td>\n",
        "<td style=\"text-align:center\">244 M</td>\n",
        "<td style=\"text-align:center\"><code>small.en</code></td>\n",
        "<td style=\"text-align:center\"><code>small</code></td>\n",
        "<td style=\"text-align:center\">~2 GB</td>\n",
        "<td style=\"text-align:center\">~6x</td>\n",
        "</tr>\n",
        "<tr>\n",
        "<td style=\"text-align:center\">medium</td>\n",
        "<td style=\"text-align:center\">769 M</td>\n",
        "<td style=\"text-align:center\"><code>medium.en</code></td>\n",
        "<td style=\"text-align:center\"><code>medium</code></td>\n",
        "<td style=\"text-align:center\">~5 GB</td>\n",
        "<td style=\"text-align:center\">~2x</td>\n",
        "</tr>\n",
        "<tr>\n",
        "<td style=\"text-align:center\">large</td>\n",
        "<td style=\"text-align:center\">2870 M</td>\n",
        "<td style=\"text-align:center\">N/A</td>\n",
        "<td style=\"text-align:center\"><code>large</code></td>\n",
        "<td style=\"text-align:center\">~10 GB</td>\n",
        "<td style=\"text-align:center\">1x</td>\n",
        "</tr>\n",
        "</tbody>\n",
        "</table>\n",
        "<p><div style=\"direction:rtl\" dir=\"rtl\"><br></p>"
      ]
    },
    {
      "cell_type": "code",
      "execution_count": null,
      "metadata": {
        "id": "3MFLfA5bEs-j"
      },
      "outputs": [],
      "source": [
        "# load whisper model\n",
        "model = whisper.load_model(\"large\")\n",
        "print(f\"\\033[1m Model loaded successfully\")"
      ]
    },
    {
      "cell_type": "markdown",
      "metadata": {
        "id": "H6yLPOZoE6fd"
      },
      "source": [
        "<h1 id=\"-div-style-direction-rtl-dir-rtl-9-div-\"><strong><div style=\"direction:rtl\" dir=\"rtl\">10. קביעת שפה לתמלול וסוג הפלט</div></strong></h1>\n",
        "<div style=\"direction:rtl\" dir=\"rtl\">\n",
        " <p style=\"text-align: right; direction: rtl; float: right;\">הריצו את התא הבא כדי לקבוע שני משתנים:\n",
        "<ol style=\"float:right;\">\n",
        "  <li><code>lang</code> - הגדרת שפת התמלול. <code>he</code> משמעו עברית. ניתן להדפיס את רשימת השפות הנתמכת על ידי הרצת הפקודה <code>print(whisper.tokenizer.LANGUAGES)</code> בתא נפרד.</li>\n",
        "  <li><code>output_format</code> - הגדרת סוג הפלט. Whisper תומך בהפקת הפלטים הבאים:\n",
        "    <ul>\n",
        "      <li><code>txt</code> - קובץ טקסט עם מעברי שורות, ניתן לפתיחה בכל מעבד תמלילים.</li>\n",
        "      <li><code>srt/vtt</code>- קבצי כתוביות המכילים טקסט וחתימות זמן.</li>\n",
        "      <li><code>tsv</code>- קובץ טקסט מופרד בטאבים עם חלוקה לסגמנטים. ניתן לפתיחה כגיליון אלקטרוני.</li>\n",
        "      <li><code>json</code>- מבנה מידע המורכב מזוגות של מפתח-ערך.</li>\n",
        "    </ul><br>\n",
        "    החליפו את ערך המשתנה בהתאם לסוג הפלט שברצונכם לקבל. ניתן להפיק את כל סוגי הפלטים באמצעות קביעת הערך <code>all</code>.</p>\n",
        "  </li>\n",
        "</ol>\n",
        "</div>"
      ]
    },
    {
      "cell_type": "code",
      "execution_count": null,
      "metadata": {
        "id": "iFNHCmxHFD_E"
      },
      "outputs": [],
      "source": [
        "lang = 'he'\n",
        "output_format = 'txt'"
      ]
    },
    {
      "cell_type": "markdown",
      "metadata": {
        "id": "FXn6PYvKnkue"
      },
      "source": [
        "<h1 id=\"-div-style-direction-rtl-dir-rtl-8-div-\"><strong><div style=\"direction:rtl\" dir=\"rtl\">11. תמלול </div></strong></h1>\n",
        "<div style=\"direction:rtl\" dir=\"rtl\">\n",
        "  <p style=\"text-align: right; direction: rtl; float: right;\"\n",
        "\n",
        "הריצו את התא הבא כדי לתמלל את קובץ האודיו בתיקיית Whisper/Audio. הקפידו לשנות את שם הקובץ."
      ]
    },
    {
      "cell_type": "code",
      "execution_count": null,
      "metadata": {
        "id": "6GA_c_GN4hye"
      },
      "outputs": [],
      "source": [
        "# set timer\n",
        "import time\n",
        "start_time = time.time()\n",
        "result = model.transcribe(\"/content/drive/MyDrive/Whisper/Audio/netanyahu_liar_son_of_liar.mp3\", verbose = False, language = lang)\n",
        "print(f\"\\033[1m--- Transcription finished in  %s seconds ---\" % (time.time() - start_time))"
      ]
    },
    {
      "cell_type": "markdown",
      "metadata": {
        "id": "Fu4T6I4unZOA"
      },
      "source": [
        "<h1 id=\"-div-style-direction-rtl-dir-rtl-11-div-\"><strong><div style=\"direction:rtl\" dir=\"rtl\">11. בדיקת איכות (אופציונלי) </div></strong></h1>\n",
        "<div style=\"direction:rtl\" dir=\"rtl\">\n",
        "\n",
        "<p style=\"text-align: right; direction: rtl; float: right;\">הרצת התאים הבאים תאפשר לכם להעריך את הדיוק של התמלול שהפקתם באמצעות Whisper. בדיקה זו מתבצעת במספר שלבים, ומצריכה את קובץ התמלול המקורי (<a href=\"https://https://en.wikipedia.org/wiki/Ground_truth\">Ground Truth</a>): </p>\n",
        "<ol>\n",
        "<li>נירמול פלט התמלול של Whisper וקובץ התמלול המקורי  - הסרת סימני פיסוק, רווחים מיותרים, קפיטליזציה וכו&#39;. הנתיב של הקובץ שהפקתם באמצעות Whisper מוגדר במשתנה מוגדר במשתנה <code>whisper_output</code>. הנתיב של קובץ התמלול המקורי מוגדר במשתנה <code>ground_truth</code>.</li>\n",
        "<li>השוואה בין שני הקבצים וחישוב אחוז השגיאות בהתאם למדד <a href=\"https://https://en.wikipedia.org/wiki/Word_error_rate\">Word Error Rate</a> - באמצעות ספריית jiwer.</li>\n",
        "</ol>\n",
        "<p style=\"text-align: right; direction: rtl; float: right;\">הפלט המתקבל מוצג באחוזים ומצביע על אחוז המילים השגויות בקובץ התמלול, וזאת בהשוואה לקובץ המקור. כלומר, במידה ואחוז השגיאות עומד על כ-3%, אזי מתוך 100 מילים יש 3 מילים שגויות.</p>"
      ]
    },
    {
      "cell_type": "code",
      "execution_count": null,
      "metadata": {
        "id": "kFc5CTcPd_hM"
      },
      "outputs": [],
      "source": [
        "# normalize whisper output\n",
        "whisper_output = '/content/drive/MyDrive/Whisper/Transcriptions/Copy of Snyder.txt'\n",
        "whisper_output_norm = open(whisper_output, 'r').read().lower().translate(str.maketrans('', '', string.punctuation)).replace('\\n', ' ')\n",
        "print(whisper_output_norm)"
      ]
    },
    {
      "cell_type": "code",
      "source": [
        "# normalize ground truth\n",
        "ground_truth = '/content/drive/MyDrive/Whisper/GT/Snyder_GT.txt'\n",
        "ground_truth_norm = open(ground_truth, 'r').read().lower().translate(str.maketrans('', '', string.punctuation)).replace('\\n', ' ')\n",
        "print(ground_truth_norm)"
      ],
      "metadata": {
        "id": "D_BJYWmLMRR-"
      },
      "execution_count": null,
      "outputs": []
    },
    {
      "cell_type": "code",
      "source": [
        "# calculate WER\n",
        "reference = ground_truth_norm\n",
        "hypothesis = whisper_output_norm\n",
        "error = wer(reference, hypothesis)\n",
        "error_percentage = \"{:.0%}\".format(error)\n",
        "print(error_percentage)"
      ],
      "metadata": {
        "id": "HOtvt3FxMTK1"
      },
      "execution_count": null,
      "outputs": []
    }
  ],
  "metadata": {
    "accelerator": "GPU",
    "colab": {
      "provenance": [],
      "mount_file_id": "1gu-tBa8VigYzEvAAxFvi3ae94L3cMO24",
      "authorship_tag": "ABX9TyO7EX05HhNE0AsJSe6sZbLb",
      "include_colab_link": true
    },
    "gpuClass": "standard",
    "kernelspec": {
      "display_name": "Python 3",
      "name": "python3"
    },
    "language_info": {
      "name": "python"
    }
  },
  "nbformat": 4,
  "nbformat_minor": 0
}