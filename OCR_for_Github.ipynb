{
  "cells": [
    {
      "cell_type": "markdown",
      "metadata": {
        "id": "view-in-github",
        "colab_type": "text"
      },
      "source": [
        "<a href=\"https://colab.research.google.com/github/Sourasky-DHLAB/Whisper/blob/main/OCR_for_Github.ipynb\" target=\"_parent\"><img src=\"https://colab.research.google.com/assets/colab-badge.svg\" alt=\"Open In Colab\"/></a>"
      ]
    },
    {
      "cell_type": "markdown",
      "id": "7cbc2ee6",
      "metadata": {
        "direction": "rtl",
        "id": "7cbc2ee6"
      },
      "source": [
        "<div style=\"direction:rtl\" dir=\"rtl\">\n",
        "    <img src=\"https://drive.google.com/uc?export=view&amp;id=15xQaGVrJej6UIPjfAB-QVWXLWVChPJSt\"><br></div>\n",
        "<div style=\"direction:rtl\" dir=\"rtl\">\n",
        "  <p style=\"text-align: right; direction: rtl; float: right;\"> \n",
        "נוצר על ידי <a href=\"http://hannahlangstonjacobs.com/\">חנה ג&#39;ייקובס</a> עבור ה-<a href=\"https://nkelber.github.io/tapi2021/book/intro.html\">2021 Text Analysis Pedagogy Institute</a><br>\n",
        "עובד על ידי  <a href=\"http://nkelber.com\">נתן קלבר</a> תחת רשיון <a href=\"https://creativecommons.org/licenses/by/4.0/\">Creative Commons CC BY License</a><br>\n",
        "עובד ותורגם לעברית על ידי  עודד זרחיה תחת רשיון <a href=\"https://creativecommons.org/licenses/by/4.0/\">Creative Commons CC BY License</a><br>\n",
        "לשאלות/הערות/שיפורים, שלח דוא&quot;ל ל-<a href=\"mailto:odedzarchia@tauex.tau.ac.il\">odedzarchia@tauex.tau.ac.il</a></p></div>"
      ]
    },
    {
      "cell_type": "markdown",
      "id": "aba8aa01",
      "metadata": {
        "id": "aba8aa01"
      },
      "source": [
        "<div dir=\"rtl\">\n",
        "<h1><strong>1. יסודות זיהוי תווים אופטי</strong></h1>\n",
        "<div style=\"direction:rtl\" dir=\"rtl\">\n",
        " <p style=\"text-align: right; direction: rtl; float: right;\">מחברת זו תדריך אתכם כיצד להפוך תמונות ו/או מסמכי PDF לקבצי תמליל פשוט (plaintext) באמצעות מנוע Tesseract לזיהוי תווים אופטי. בתום מחברת זו תוכלו:\n",
        "<ol style=\"float:right;\">\n",
        "  <li>להגדיר מהו <code>OCR</code>.</li>\n",
        "  <li>להסביר את החשיבות של OCR לקריאה וניתוח של טקסטים בעזרת מחשב.</li>\n",
        "  <li>לבצע פעולות OCR בסיסיות בעזרת פייתון (Python), Tesseract, ומחברות Jupyter</li>\n",
        "  </li>\n",
        "</ol></p></div>"
      ]
    },
    {
      "cell_type": "markdown",
      "id": "d7a97cb0",
      "metadata": {
        "direction": "rtl",
        "id": "d7a97cb0"
      },
      "source": [
        "<div dir=\"rtl\">\n",
        "<h1><strong>2. מהו זיהוי תווים אופטי? למה הוא חשוב?</strong></h1>\n",
        "<div style=\"direction:rtl\" dir=\"rtl\">\n",
        " <p style=\"text-align: right; direction: rtl; float: right;\">\n",
        "על מנת לחקור טקסט בכלים חישוביים או בכלי עיבוד שפה טבעית (NLP), עלינו לוודא שהטקסט שלנו יהיה בפורמט קריא למכונה, כגון תמליל פשוט (plaintext). בדרך כלל, משמעות הדבר הינה המרת קובץ תמונה (למשל קובץ המסתיים ב-jpg. או png.) לקובץ טקסט רגיל (txt.). הטקסט ניתן לקריאה במכונה אם, למשל, אנו מסוגלים לבחור או להעתיק ולהדביק את התווים המרכיבים אותו (copy+paste).<br><br>\n",
        "ניתן להמחיש את ההבדל באמצעות תמונה דיגיטלית של העמוד הראשון מן המהדורה המודפסת של תל אביב (אלטנוילנד) מאת בנימין זאב הרצל:<br><br>\n",
        "<img src=\"https://i.ibb.co/3vPrw8F/Herzel.jpg\" alt=\"An image of the print edition of Tel Aviv by Herzel\" style=\"display: block; margin-right: auto; margin-left: auto\";><br><br>\n",
        "וזאת לעומת <a href=\"https://benyehuda.org/read/7260/read\">גרסת הטקסט שנמצאת בפרויקט בן יהודה</a>. בעוד שאדם יכול לקרוא את הטקסט של התמונה הדיגיטלית, מחשב אינו מסוגל להבין את התווים הבודדים המרכיבים את המילים ואת המילים המרכיבות את הטקסט. בנוסף, לא ניתן להעתיק ולהדביק את הטקסט מן התמונה הדיגיטלית ולערוך אותו ביישומים אחרים כדוגמת מעבד תמלילים.<br><br>\n",
        "<img src=\"https://i.ibb.co/BrJkS1w/drink.png\" style=\"display: block; margin-right: auto; margin-left: auto\"; alt=\"תמונה מפוקסלת של המילה &quot;המשתה&quot;\"><br><br>\n",
        "למרות שאנו עשויים לראות את התמונה למעלה בתור המילה <code>המשתה</code>, המחשב מבין את האמור לעיל כסדרה של ריבועים, <strong>פיקסלים</strong>, המכילים מידע לגבי צבע הפיקסל - <em>לא</em> איזה תו להציג. כדי שהמחשב יוכל להתייחס לטקסט זה <em>כטקסט</em>, עלינו להמיר את התמונה למספרים בינאריים באופן הבא:\n",
        "<code>10111010100 10111011110 10111101001 10111101010 10111010100</code>\n",
        "את המספרים הללו המחשב יציג לקוראים אנושיים כמילה <code>המשתה</code>. לאחר מכן נוכל להשתמש במחשב כדי לחפש מופעים של מילה זו, לנתח את תדירותה, דפוסי הופעתה, צירופים (קולוקציה) וכו&#39;. אנו יכולים גם לבקש מהמחשב לקרוא את המילים הללו וכל מילה אחרת בעמוד בקול אם נצטרך לשמוע אותן במקום לצפות בהן על מסך.&#x202b;\n",
        "</p></div>"
      ]
    },
    {
      "cell_type": "markdown",
      "id": "e2db9fc1",
      "metadata": {
        "direction": "rtl",
        "id": "e2db9fc1"
      },
      "source": [
        "<div dir=\"rtl\">\n",
        "<h1><strong>2. מהו זיהוי תווים אופטי?</strong></h1>\n",
        "<div style=\"direction:rtl\" dir=\"rtl\">\n",
        " <p style=\"text-align: right; direction: rtl; float: right;\">\n",
        "זיהוי תווים אופטי, או OCR בלעז (Optical Character Recognition), היא טכנולוגיה להמרת תמונה, טקסט מודפס וכתב יד שנסרקו על ידי סורק, למסמך תמליל ממוחשב.\n",
        "באופן יותר ספציפי:<br>\n",
        "<blockquote>\n",
        "&quot;שלב מרכזי בתהליך הדיגיטציה של טקסטים, שבו הקובץ הסרוק מפוענח כדי שהמחשב יזהה כהלכה את התווים המופיעים בו (אותיות, מספרים, סימני פיסוק  וכו&#39;). ללא פענוח, הסימנים על המסך - שאנחנו, בני האדם, מזהים בנקל כתווים ספציפיים - יוותרו סתומים לגמרי עבור המחשב (זו הסיבה לכך שקובץ טקסט סרוק שלא עבר פענוח אינו מאפשר חיפוש של מילה או מחרוזת ידועה, ואילו קובץ טקסט שעבר פענוח מאפשר חיפוש כזה). שלב זה נעשה באמצעות תוכנה ייעודית המפענחת אוטומטית את התווים, לעתים גם באמצעות שיטות של למידת מכונה, המלווה בבקרה אנושית, חלקית או מלאה.&quot; - (<a href=\"https://sheilta.apps.openu.ac.il/pls/dlamdal/lamda.perut?p_katalog=108375049\">אופיר מינץ-מנור, איתי מרינברג-מיליקובסקי, &quot;מחקר חישובי במדעי הרוח - אסופת מאמרים&quot;</a>).</blockquote><br>\n",
        "<blockquote>&quot;כדי שאפשר יהיה לנתח טקסט בכלים חישוביים, עליו להיות מפוענח כראוי באמצעות שימוש בתוכנות מסחריות או פתוחות לשימוש, בהן כאלה\n",
        "המתמחות בשפות מסוימות (למשל בעברית ובערבית) ואף בפענוח כתב יד (אתגר מורכב הרבה יותר מפענוח של טקסט מודפס). תוכנות כאלה מבוססות כיום על שילוב של מילונים,\n",
        "רשימות מילים ושיטות מתקדמות של למידת מכונה, בצד בקרה אנושית של חוקר או חוקרת. רמת הדיוק של הפענוח תלויה לא רק בתוכנה וביכולותיה, אלא גם באיכות ההדפסה המקורית והסריקה הראשונית: בטקסט שהודפס באיכות גבוהה ונסרק כהלכה, ללא עיוותים, רמת הדיוק של הפענוח בשפות רבות תהיה בדרך כלל גבוהה ביותר.&quot; - (<a href=\"https://sheilta.apps.openu.ac.il/pls/dlamdal/lamda.perut?p_katalog=108375049\">אופיר מינץ-מנור, איתי מרינברג-מיליקובסקי, &quot;מחקר חישובי במדעי הרוח - אסופת מאמרים&quot;</a>). \n",
        "</blockquote>\n",
        "</p></div>"
      ]
    },
    {
      "cell_type": "markdown",
      "id": "782cbeef",
      "metadata": {
        "direction": "rtl",
        "id": "782cbeef"
      },
      "source": [
        "<div dir=\"rtl\">\n",
        "<h1><strong>3. כלי OCR</strong></h1>\n",
        "<div style=\"direction:rtl\" dir=\"rtl\">\n",
        " <p style=\"text-align: right; direction: rtl; float: right;\">\n",
        "גרסאות מתקדמות של Adobe Acrobat מכילות אפשרויות לביצוע זיהוי תווים אופטי. ה-OCR של Acrobat נועד לעזור למשתמשים לערוך קבצי PDF סרוקים או כאלו שנוצרו על ידי אחרים. בנוסף, תכונה זו של Acrobat משמשת לייצוא קבצי טקסט ניתנים לעריכה (MS-Word), או להקראה בקול של הטקסט בתוך קובץ ה-PDF.\n",
        "<h3 id=\"-ocr\"><strong>שיקולים מרכזיים בבחירת כלי OCR</strong></h3>\n",
        "<ul>\n",
        "<li><a href=\"#proprietary-or-open\">תוכנה מסחרית או פתוחה לשימוש?</a></li>\n",
        "<li><a href=\"#gui-or-script\">מבוססת ממשק משתמש (GUI) או סקריפט?</a></li>\n",
        "<li><a href=\"#file-types\">סוגי קבצים נתמכים?</a></li>\n",
        "<li><a href=\"#languages\">שפות נתמכות?</a></li>\n",
        "<li><a href=\"#print-scripts\">סוגי כתב (script) נתמכים?</a></li>\n",
        "<li><a href=\"#preprocessing\">תכונות עִבּוּד קְדָם (preprocessing)?</a></li>\n",
        "<li><a href=\"#accuracy\">הערכת דיוק ושגיאות?</a></li>\n",
        "</ul></p></div>\n",
        "<div style=\"direction:rtl\" dir=\"rtl\">\n",
        " <p style=\"text-align: right; direction: rtl; float: right;\">\n",
        "ייתכנו, כמובן, שאלות נוספות שתצטרכו להוסיף לרשימה זו, אבל נקודות אלו יסייעו לכם להתחיל. כמו כן, ייתכן שתרצו לסדר את השאלות הללו בצורה אחרת, וזאת בהתאם לסדרי העדיפויות של הפרויקט.</p></div>"
      ]
    },
    {
      "cell_type": "markdown",
      "id": "5700ef66",
      "metadata": {
        "direction": "rtl",
        "id": "5700ef66"
      },
      "source": [
        "<div dir=\"rtl\"><h4 id=\"id-proprietary-or-open\"><b>3.1.1 תוכנה מסחרית או פתוחה לשימוש?</b><a id=\"proprietary-or-open\"></a></h4></div>\n",
        "<div style=\"direction:rtl\" dir=\"rtl\">\n",
        " <p style=\"text-align: right; direction: rtl; float: right;\">\n",
        "תוכנה מסחרית, כלומר האם עליך לרכוש רשיון? עליך להכיר את המשאבים העומדים לרשותך או להם אתה זקוק לפני התחלת הפרויקט. ייתכן כי תחליט לעבוד עם תוכנה מסחרית מובילה כדוגמת <a href=\"https://pdf.abbyy.com/pricing/\">ABBYY FineReader</a>, אשר כוללת ממשק משתמש גרפי ואפשרויות עיבוד תמונה מתקדמות. במידה וכן, עליך לרכוש את התוכנה במחיר של כמה מאות דולרים. אפשרות נוספת העומדת לרשותך היא להשתמש בתוכנה זו <a href=\"https://cenlib.tau.ac.il/Digital-Humanities/?tab=1\">במעבדה למדעי הרוח הדיגיטליים בספרייה המרכזית ע&quot;ש סוראסקי</a>, המציעה עמדה אחת עם התוכנה ברישוי מלא. במידה ואין ברשותך את התקציב או שאין ברצונך לעבוד מן המעבדה, ייתכן כי תרצה לעבוד עם תוכנה פתוחה לשימוש.\n",
        "אף על פי <em>שתוכנה  חופשית</em> (<em>free software</em>) אינה זהה בהכרח לתוכנת <em>קוד פתוח</em> (<a href=\"https://he.wikipedia.org/wiki/%D7%A7%D7%95%D7%93_%D7%A4%D7%AA%D7%95%D7%97\">open source</a>), תוכנת קוד פתוח היא בדרך כלל חופשית לשימוש. <strong>בעולמות התוכנה, המושג &quot;קוד פתוח&quot; מציין תוכנה שקוד המקור שלה נגיש לצפייה וחופשי לשימוש, לעריכה ולהפצה מחודשת לכל.</strong> במידה ותרצה גישה לקוד כדי להבין טוב יותר את תהליך ה-OCR, ייתכן ותעדיף להשתמש בכלי OCR בקוד פתוח. \n",
        "</p></div>"
      ]
    },
    {
      "cell_type": "markdown",
      "id": "c408d121",
      "metadata": {
        "direction": "rtl",
        "id": "c408d121"
      },
      "source": [
        "<div dir=\"rtl\"><h4 id=\"gui-or-script\"><b>3.1.2  מבוססת ממשק משתמש (GUI) או סקריפט?</b><a id=\"gui-or-script\"></a></h4></div>\n",
        "<div style=\"direction:rtl\" dir=\"rtl\">\n",
        " <p style=\"text-align: right; direction: rtl; float: right;\">\n",
        "במידה ואתם עובדים על פרויקט באופן עצמאי ואין לכם ניסיון בכתיבת קוד (תכנות), ייתכן כי מערכת בעלת ממשק משתמש גרפי המאפשרת לבצע פעולות בקלות של לחיצת כפתור הינה האופציה המועדפת  עבורכם, בייחוד אם עסקינן בקבוצה מצומצמת של מסמכים המודפסים בגופנים מודרנים.\n",
        "מצד שני, ייתכן שתרצו ללמוד מעט קוד, בייחוד אם הפרוייקט שלכם מכיל מספר לא מבוטל של מסמכים ו/או מסמכים בעלי מאפיינים חריגים (גופנים, שפה, פריסת עמודים וכו'). במידה וכן, לימוד כיצד להפעיל OCR עם פייתון (Python) מהווה הזדמנות מצויינת. גם אם אתם משתפים פעולה עם מתכנת שייכתוב את רוב הקוד עבור פרויקט ה-OCR, ייתכן שתרצו ללמוד כמה מן המושגים והשלבים הבסיסיים מאחורי תהליך ה-OCR, וזאת כדי להבטיח שתהיה לכם הבנה טובה של שלב זה של הפרויקט."
      ]
    },
    {
      "cell_type": "markdown",
      "id": "1564ddfc",
      "metadata": {
        "direction": "rtl",
        "id": "1564ddfc"
      },
      "source": [
        "<div dir=\"rtl\"><h4 id=\"file-types\"><b>3.1.3  סוגי קבצים נתמכים?</b><a id=\"file-types\"></a></h4></div>\n",
        "<div style=\"direction:rtl\" dir=\"rtl\">\n",
        " <p style=\"text-align: right; direction: rtl; float: right;\">\n",
        "האם כלי ה-OCR עובד רק עם קבצי PDF, או שביכולתו לעבוד עם קבצי תמונה? עם אילו סוגים של קבצים אתם עובדים? שאלות אלו אמנם נשמעות שוליות, אך אם אתם עובדים עם קבצי תמונה, ורכשתם רשיון עבור תוכנת OCR שעובדת רק עם קבצי PDF, לא תוכלו לבצע OCR מבלי להמיר את קבצי התמונה ל-PDF באמצעות כלי נוסף; ייתכן שתהליך המרה זה אף יפגום באיכות הטקסט הסרוק."
      ]
    },
    {
      "cell_type": "markdown",
      "id": "ff050a9e",
      "metadata": {
        "direction": "rtl",
        "id": "ff050a9e"
      },
      "source": [
        "<div dir=\"rtl\"><h4 id=\"languages\"><b>3.1.4  שפות נתמכות?</b><a id=\"languages\"></a></h4></div>\n",
        "<div style=\"direction:rtl\" dir=\"rtl\">\n",
        " <p style=\"text-align: right; direction: rtl; float: right;\">\n",
        "במידה והטקסטים עליהם אתם עובדים אינם באנגלית, בידקו באילו שפות תומכת תוכנת ה-OCR. כיום, רוב תוכנות ה-OCR תומכות במספר רב של שפות, אולם לא כל השפות מזוהות באותה רמה של דיוק."
      ]
    },
    {
      "cell_type": "markdown",
      "id": "ff029d42",
      "metadata": {
        "direction": "rtl",
        "id": "ff029d42"
      },
      "source": [
        "<div dir=\"rtl\"><h4 id=\"print-scripts\"><b>3.1.5   סוגי כתב (script) נתמכים?</b><a id=\"print-scripts\"></a></h4></div>\n",
        "<div style=\"direction:rtl\" dir=\"rtl\">\n",
        " <p style=\"text-align: right; direction: rtl; float: right;\">\n",
        "במידה ואתם עובדים עם מסמכים הכתובים בכתב (script) שאינו נפוץ כיום (כתב גותי, כתב סורי וכו&#39;), ייתכן ותאלצו לחפש כלים ספציפיים שיוכלו לסייע לכם, אפילו אם אתם עובדים עם <a href=\"https://www.nli.org.il/he/newspapers/tlgrf/1890/05/16/01/?&amp;srpos=3&amp;e=------189-he-20--1--img-txIN%7ctxTI--------------1\">עיתונים מסוף המאה התשע-עשרה וראשית המאה העשרים שאינם בשפה האנגלית</a>.</p>"
      ]
    },
    {
      "cell_type": "markdown",
      "id": "aef28833",
      "metadata": {
        "direction": "rtl",
        "id": "aef28833"
      },
      "source": [
        "<div dir=\"rtl\"><h4 id=\"preprocessing\"><b>3.1.6   תכונות עִבּוּד קְדָם (preprocessing)?</b><a id=\"preprocessing\"></a></h4></div>\n",
        "<div style=\"direction:rtl\" dir=\"rtl\">\n",
        " <p style=\"text-align: right; direction: rtl; float: right;\">עיבוד קדם הוא <b>מכלול של תהליכי שיפור תמונה הכוללים שיטות שמטרתן לתקן פגמים בתמונה לפני ביצוע OCR.</b> פגמים בתמונה יכולים להיות שונים ומגוונים, וכוללים רעשי רקע, עיוותים גיאומטריים,  הטיה של התמונה, דהייה של הכתב וכו'. בעוד שחלק מכלי ה-OCR מציעים ארגז כלים מסוים לעבוד קדם של תמונות, ייתכן כי תזדקקו לפעולת עבוד קדם ספציפית שתצריך שימוש בכלי אחר."
      ]
    },
    {
      "cell_type": "markdown",
      "id": "533c26da",
      "metadata": {
        "direction": "rtl",
        "id": "533c26da"
      },
      "source": [
        "<div dir=\"rtl\"><h4 id=\"accuracy\"><b>3.1.7   הערכת דיוק ושגיאות?</b><a id=\"accuracy\"></a></h4></div>\n",
        "<div style=\"direction:rtl\" dir=\"rtl\">\n",
        " <p style=\"text-align: right; direction: rtl; float: right;\">עיבוד קדם הוא <b>מכלול של תהליכי שיפור תמונה הכוללים שיטות שמטרתן לתקן פגמים בתמונה לפני ביצוע OCR.</b> פגמים בתמונה יכולים להיות שונים ומגוונים, וכוללים רעשי רקע, עיוותים גיאומטריים,  הטיה של התמונה, דהייה של הכתב וכו'. בעוד שחלק מכלי ה-OCR מציעים ארגז כלים מסוים לעבוד קדם של תמונות, ייתכן כי תזדקקו לפעולת עבוד קדם ספציפית שתצריך שימוש בכלי אחר.\n"
      ]
    },
    {
      "cell_type": "markdown",
      "id": "4aeae3ed",
      "metadata": {
        "direction": "rtl",
        "id": "4aeae3ed"
      },
      "source": [
        "<div dir=\"rtl\">\n",
        "<h1><strong>3. כלי OCR נפוצים</strong></h1>\n",
        "<div style=\"direction:rtl\" dir=\"rtl\">\n",
        " <p style=\"text-align: right; direction: rtl; float: right;\"><a href=\"https://pdf.abbyy.com/\"><b>ABBYY Fine Reader</a></b><br>\n",
        "תוכנה מסחרית מובילה לזיהוי תווים אופטי. התוכנה תומכת במעל ל-200 שפות, כולל עברית וערבית (<a href=\"https://help.abbyy.com/en-us/finereader/15/user_guide/supportedlanguages/\">הרשימה המלאה כאן</a>). לתוכנה זו מממשק משתמש גרפי (GUI) הכולל יכולות עבוד קדם תמונה מתקדמות, והיא אף כוללת אפשרות לאימון זיהוי תווים ויצירת תבניות שפה חדשות על ידי המשתמש. בדומה ל- ABBYY ,Tesseract תומכת בפורמטים רבים של קבצים. יחד עם זאת, ABBYY הינה תוכנה מסחרית - לפיכך עליכם לרכוש אותה או להשתמש בזו הנמצאת במעבדה למדעי הרוח הדיגיטליים.<br>\n",
        "<b><a href=\"https://acrobat.adobe.com/us/en/acrobat.html\">Adobe Acrobat Pro</a><br></b>\n",
        "הגרסאות המסחריות של קורא קבצי ה-PDF הנפוץ מאפשרות להמיר קבצי PDF למסמכים חפישים בקלות וביעילות. התוכנה תומכות ב-42 בשפות (<a href=\"https://cenlib.tau.ac.il/sites/cenlib.tau.ac.il/files/media_server/sourasky/hagay_test/DH/adobe_langs.PNG\">הרשימה המלאה כאן)</a>. עם סיום תהליך זיהוי התווים האופטי על מסמך המקור מתאפשרת עריכתו ושמירתו בפורמטים אחרים. במעבדה למדעי הרוח הדיגיטליים קיימות שתי עמדות עם רישוי מלא ל-Adobe Acrobat Pro 2017.<br>\n",
        "<b><a href=\"https://aws.amazon.com/textract/resources/?blog-posts-cards.sort-by=item.additionalFields.createdDate&amp;blog-posts-cards.sort-order=desc\">Amazon Textract</a></b></h4>\n",
        "<p>בדומה ל-Pytesseract, כלי זה של אמזון פועל בסביבת פייתון. יחד עם זאת, זהו כלי מסחרי בעל קוד קנייני. כלומר, Textract הוא &quot;קופסה שחורה&quot;, ואין באפשרותנו לדעת מה קורה מאחורי הקלעים כאשר אנו משתמשים בו. למתחילים, אמזון מציעה התנסות חינמית (עד 1,000 דפים), ומאפשרת להריץ את קוד ה- Textract שלכם בסביבת הענן של אמזון. במידה ואתם מוכנים ללמוד מעט תכנות או שאתם עובדים עם מתכנת, עלויות השימוש בכלי זה נמוכות משמעותית מרישיון ל-ABBYY.<br>\n",
        "<a href=\"https://cloud.google.com/vision/docs\"><b>Google Cloud Vision</a></b>\n",
        "<p>בדומה לאמזון, Cloud Vision API (ממשק תכנות יישומים) של גוגל אף הוא כלי מסחרי בעל קוד קנייני, דורש ידע בתכנות וניתן להשתמש בו בענן. ניתן להשתמש בכלי זה גם לביצוע משימות ראייה ממוחשבת כגון זיהוי פנים. גם כלי זה הוא &quot;קופסה שחורה&quot;, וייתכן שלא נוכל להסביר תוצאות בלתי צפויות שיתקבלו לאחר תהליך ה-OCR.<br>\n",
        "<a href=\"https://tesseract-ocr.github.io/tessdoc/Home.html\"><b>Tesseract</a></b>\n",
        "<p>מנוע OCR (אוסף של אלגוריתמים ונתוני אימון) שפותח במקור על ידי חברת היולט-פקרד (HP) ומתוחזק כעת על ידי חברת גוגל. Tesseract הוא כלי קוד פתוח שתומך בשפות רבות ובסוגי כתב שונים. בנוסף, מנוע זה מציע אפשרויות שונות להתאמה אישית של פלט ה-OCR. היכולת להוסיף נתוני אימון משלך אף היא מהווה יתרון, אם כי זהו תהליך עתיר משאבים. מתכנתים ניצלו את היותה של Tesseract תוכנה בקוד פתוח, ויצרו מספר כלים המבוססים על מנוע זה (חלקם עם ממשק משתמש).<br>\n",
        "<a href=\"https://pypi.org/project/pytesseract/\"><b>Pytesseract</a></b></h4>\n",
        "<p>Pytesseract (או Python-tesseract) הוא כלי OCR רב עוצמה שנוצר עבור שפת התכנות פייתון על בסיס Tesseract OCR. כלי זה מסוגל לעבוד עם פורמטים רבים של קבצים ושפות (אנושיות), ובדומה  ל-Tesseract, הוא מבוסס קוד פתוח. הואיל ו-Pytesseract הוא חלק מסביבה תכנותית גדולה יותר, ניתן לשלב אותו עם מגוון חבילות פייתון אחרות כדי לבצע משימות רבות ושונות. יתר על כן, פייתון הינה שפת תכנות פופולרית, בייחוד עבור מתכנתים מתחילים, מה שמאפשר למשתמשים לעבור במהירות מהיסודות של השפה לעבודה עם Pytesseract.</p></div>\n"
      ]
    },
    {
      "cell_type": "markdown",
      "id": "8b92a026",
      "metadata": {
        "direction": "rtl",
        "id": "8b92a026"
      },
      "source": [
        "## מבוא ל-Tesseract\n",
        "\n",
        "[Tesseract](https://github.com/tesseract-ocr/tesseract) פותח במקור על ידי חברת היולט-פקרד (HP) בין השנים 1994-1985. HP הפכה אותו לקוד פתוח בשנת 2005. גוגל המשיכה את הפיתוח בין השנים 2018-2006. זהו עדיין כלי קוד פתוח בעל [פורום משתמשים פעיל](https://groups.google.com/g/tesseract-ocr?pli=1).\n",
        "\n",
        "מנוע זה תומך במעל ל-100 שפות, כולל עברית וערבית ([הרשימה המלאה כאן](https://tesseract-ocr.github.io/tessdoc/Data-Files-in-different-versions.html)), וניתן להריצו בממשק שורת הפקודה של מערכות הפעלה מסוג Windows, MacOS, ו-Linux. את הפלט המתקבל ניתן לשמור בפורמטים שונים. בנוסף, קיימים מספר [ממשקי משתמש גרפיים](https://tesseract-ocr.github.io/tessdoc/User-Projects-%E2%80%93-3rdParty.html) (צד שלישי).\n",
        "\n",
        "הגרסה האחרונה, Tesseract 5.0, [משלבת בתוכה LSTM (Long Short-Term Memory)](https://en.wikipedia.org/wiki/Long_short-term_memory), רשת נוירונים מלאכותית חוזרת. LSTM הוא קבוצה של אלגוריתמים שמחשבים יכולים להפעיל כדי לעבד כמות גדולה של נתונים, \"לזכור\" את הנתונים האלה ולהחיל את מה שהם \"למדו\" מהנתונים האלה על נתונים אחרים תוך כדי עיבודם.\n",
        "\n",
        "PyTesseract  מוגדר כ\"מעטפת\" (“wrapper”) ל-Tesseract. בפשטות, מעטפת זו מאפשרת לשלב את Tesseract בקלות בשפת פייתון. כלומר, אם אתם כבר עובדים בסביבת פייתון, אין צורך לעזוב אותה כדי לבנות סל נתונים. ניתן אף לשלב את PyTesseract בתוך אפליקציית פייתון ו/או בסיס הקוד שבו אתם מתכננים לבצע שימוש חוזר."
      ]
    },
    {
      "cell_type": "markdown",
      "id": "2e1697b1",
      "metadata": {
        "direction": "rtl",
        "id": "2e1697b1"
      },
      "source": [
        "### קבצי קלט\n",
        "\n",
        "על מנת לבצע OCR על קורפוס טקסטואלי, אנו זקוקים לדברים הבאים:\n",
        "\n",
        "- **תיקיית קבצים** אחת המכילה את כל קבצי הקורפוס. אם הקורפוס קטן מספיק (למשל ספר אחד), זה יכול להיות אפילו קובץ בודד (למשל pdf.).\n",
        "\n",
        "- על כל קבצי הקורפוס להיות **בפורמט זהה**.\n",
        "\n",
        "- הפורמט הנבחר מחייב **תִּפְעוּלִיּוּת בֵּינִית** (interoperability). כלומר, עליו להיות נגיש לתוכנות ומערכות הפעלה מסוגים שונים.\n",
        "\n",
        "- במסגרת התרגיל שלנו עם פייתון ו-Tesseract, על הקבצים להיות **תמונות**; כלומר כל קובץ יתאים לדף אחד (חד צדדי) של ספר או מסמך.\n",
        "\n",
        "![First page of the Kahan Commission report](https://i.ibb.co/Pgm9dDH/Beirut1.jpg)\n",
        "\n",
        "\n",
        "כדי לשמור על הסדר של קבצי התמונה, כדאי ליצור מבנה קבצים שבו כל ספר/מסמך נמצא בתיקייה ייעודית. אזי, כל תיקיה של ספר/מסמך תכיל סדרה של תמונות ממוספרות עבור כל עמוד. "
      ]
    },
    {
      "cell_type": "markdown",
      "id": "b501f694",
      "metadata": {
        "direction": "rtl",
        "id": "b501f694"
      },
      "source": [
        "### קבצי פלט\n",
        "\n",
        "עבור כל תיקיית קבצים (בין אם jpg, .png. או pdf.), ניצור קובץ טקסט פשוט (txt.) המכיל את הטקסט המלא. פורמט קובץ הטקסט הפשוט הינו יציב וניתן לקריאה במחשב, כלומר הוא יהיה מוכן לביצוע ניתוח חישובי ולאחסון במאגרים ובבסיסי נתונים."
      ]
    },
    {
      "cell_type": "markdown",
      "id": "3ce2f46b",
      "metadata": {
        "direction": "rtl",
        "id": "3ce2f46b"
      },
      "source": [
        "## יסודות PyTesseract\n",
        "\n",
        "כעת נתאר תהליך OCR בסיסי באמצעות PyTesseract. ספריית PyTesseract מותקנת כברירת מחדל ב-Constellate. כדי לבצע את תהליך ה-OCR מקומית במחשבכם האישי, עליכם להתקין את הן את Tesseract ([היוועצו בתיעוד המתאים למערכת ההפעלה שלכם](https://tesseract-ocr.github.io/tessdoc/Installation.html)), והן את PyTesseract, המעטפת לשימוש ב-Tesseract עם פייתון ([נסו עם](https://pypi.org/project/pytesseract/):`pip install pytesseract`).\n",
        "\n",
        "כאמור, Tesseract משתמש בנתוני אימון לזיהוי תווים. בתא הקוד הבא, נוריד את הנתונים הללו עבור השפה העברית. נתוני אימון עבור שפות נוספות זמינים ב-[Tesseract-OCR](https://github.com/tesseract-ocr/tessdata), ונדון בשימוש בשפות נוספות בהמשך."
      ]
    },
    {
      "cell_type": "code",
      "execution_count": null,
      "id": "cb759851",
      "metadata": {
        "direction": "ltr",
        "id": "cb759851",
        "outputId": "5179df25-bb46-4a56-bca3-d750fe93b3ff"
      },
      "outputs": [
        {
          "name": "stdout",
          "output_type": "stream",
          "text": [
            "--2022-12-06 13:57:49--  https://github.com/tesseract-ocr/tessdata/raw/main/heb.traineddata\n",
            "Resolving github.com (github.com)... 140.82.113.3\n",
            "Connecting to github.com (github.com)|140.82.113.3|:443... connected.\n",
            "HTTP request sent, awaiting response... 302 Found\n",
            "Location: https://raw.githubusercontent.com/tesseract-ocr/tessdata/main/heb.traineddata [following]\n",
            "--2022-12-06 13:57:49--  https://raw.githubusercontent.com/tesseract-ocr/tessdata/main/heb.traineddata\n",
            "Resolving raw.githubusercontent.com (raw.githubusercontent.com)... 185.199.110.133, 185.199.109.133, 185.199.111.133, ...\n",
            "Connecting to raw.githubusercontent.com (raw.githubusercontent.com)|185.199.110.133|:443... connected.\n",
            "HTTP request sent, awaiting response... 200 OK\n",
            "Length: 5413459 (5.2M) [application/octet-stream]\n",
            "Saving to: ‘heb.traineddata’\n",
            "\n",
            "heb.traineddata     100%[===================>]   5.16M  --.-KB/s    in 0.1s    \n",
            "\n",
            "2022-12-06 13:57:50 (49.9 MB/s) - ‘heb.traineddata’ saved [5413459/5413459]\n",
            "\n"
          ]
        }
      ],
      "source": [
        "# Install Tesseract training data in the Constellate Analytics Lab.\n",
        "# The exclamation runs the command as a terminal command.\n",
        "\n",
        "!wget https://github.com/tesseract-ocr/tessdata/raw/main/heb.traineddata\n",
        "!mv heb.traineddata /usr/share/tesseract-ocr/4.00/tessdata/heb.traineddata"
      ]
    },
    {
      "cell_type": "markdown",
      "id": "021ccb3c",
      "metadata": {
        "direction": "rtl",
        "id": "021ccb3c"
      },
      "source": [
        "לבסוף, נוריד שני קבצי תמונה בפורמט jpg. כדגומאות"
      ]
    },
    {
      "cell_type": "code",
      "execution_count": null,
      "id": "7e0f881f",
      "metadata": {
        "scrolled": false,
        "id": "7e0f881f"
      },
      "outputs": [],
      "source": [
        "# Download the Sample Page Images for this lesson\n",
        "# Change the list `download_urls` to bring in other documents\n",
        "\n",
        "import urllib.request\n",
        "download_urls = [\n",
        "    'https://i.ibb.co/0BQcSLK/Beirut1.jpg',\n",
        "    'https://i.ibb.co/Nx2pmFm/kahan-commission-en.jpg'\n",
        "]\n",
        "\n",
        "for url in download_urls:\n",
        "    urllib.request.urlretrieve(url, '/workspace/constellate-notebooks/data/' + url.rsplit('/', 1)[-1])"
      ]
    },
    {
      "cell_type": "markdown",
      "id": "0d9720fb",
      "metadata": {
        "direction": "rtl",
        "id": "0d9720fb"
      },
      "source": [
        "כעת נמיר לטקסט את אחד מקבצי ה-jpg. שלנו. דוגמה זו מגיעה מתוך דוח ועדת החקירה לאירועי סברה ושתילה אשר זמין (ללא OCR) [באתר ארכיון המדינה](https://www.archives.gov.il/archives/Archive/0b07170684ee7f45/File/0b07170688f14e2e)."
      ]
    },
    {
      "cell_type": "code",
      "execution_count": null,
      "id": "c7e6b985",
      "metadata": {
        "id": "c7e6b985",
        "outputId": "7e37d883-f770-4df3-c78d-c0376cadbcc4"
      },
      "outputs": [
        {
          "ename": "TesseractError",
          "evalue": "(1, 'Error opening data file /usr/share/tesseract-ocr/4.00/tessdata/heb.traineddata Please make sure the TESSDATA_PREFIX environment variable is set to your \"tessdata\" directory. Failed loading language \\'heb\\' Tesseract couldn\\'t load any languages! Could not initialize tesseract.')",
          "output_type": "error",
          "traceback": [
            "\u001b[0;31m---------------------------------------------------------------------------\u001b[0m",
            "\u001b[0;31mTesseractError\u001b[0m                            Traceback (most recent call last)",
            "Input \u001b[0;32mIn [2]\u001b[0m, in \u001b[0;36m<cell line: 9>\u001b[0;34m()\u001b[0m\n\u001b[1;32m      5\u001b[0m \u001b[38;5;28;01mimport\u001b[39;00m \u001b[38;5;21;01mpytesseract\u001b[39;00m\n\u001b[1;32m      7\u001b[0m \u001b[38;5;66;03m# Open a specific image file, convert the text in the image to computer-readable text (OCR),\u001b[39;00m\n\u001b[1;32m      8\u001b[0m \u001b[38;5;66;03m# and then print the results for us to see here.\u001b[39;00m\n\u001b[0;32m----> 9\u001b[0m \u001b[38;5;28mprint\u001b[39m(\u001b[43mpytesseract\u001b[49m\u001b[38;5;241;43m.\u001b[39;49m\u001b[43mimage_to_string\u001b[49m\u001b[43m(\u001b[49m\u001b[43mImage\u001b[49m\u001b[38;5;241;43m.\u001b[39;49m\u001b[43mopen\u001b[49m\u001b[43m(\u001b[49m\u001b[38;5;124;43m\"\u001b[39;49m\u001b[38;5;124;43m/workspace/constellate-notebooks/data/Beirut1.jpg\u001b[39;49m\u001b[38;5;124;43m\"\u001b[39;49m\u001b[43m)\u001b[49m\u001b[43m,\u001b[49m\u001b[43m \u001b[49m\u001b[43mlang\u001b[49m\u001b[38;5;241;43m=\u001b[39;49m\u001b[38;5;124;43m\"\u001b[39;49m\u001b[38;5;124;43mheb\u001b[39;49m\u001b[38;5;124;43m\"\u001b[39;49m\u001b[43m)\u001b[49m)\n",
            "File \u001b[0;32m/usr/local/lib/python3.8/site-packages/pytesseract/pytesseract.py:416\u001b[0m, in \u001b[0;36mimage_to_string\u001b[0;34m(image, lang, config, nice, output_type, timeout)\u001b[0m\n\u001b[1;32m    411\u001b[0m \u001b[38;5;124;03m\"\"\"\u001b[39;00m\n\u001b[1;32m    412\u001b[0m \u001b[38;5;124;03mReturns the result of a Tesseract OCR run on the provided image to string\u001b[39;00m\n\u001b[1;32m    413\u001b[0m \u001b[38;5;124;03m\"\"\"\u001b[39;00m\n\u001b[1;32m    414\u001b[0m args \u001b[38;5;241m=\u001b[39m [image, \u001b[38;5;124m'\u001b[39m\u001b[38;5;124mtxt\u001b[39m\u001b[38;5;124m'\u001b[39m, lang, config, nice, timeout]\n\u001b[0;32m--> 416\u001b[0m \u001b[38;5;28;01mreturn\u001b[39;00m \u001b[43m{\u001b[49m\n\u001b[1;32m    417\u001b[0m \u001b[43m    \u001b[49m\u001b[43mOutput\u001b[49m\u001b[38;5;241;43m.\u001b[39;49m\u001b[43mBYTES\u001b[49m\u001b[43m:\u001b[49m\u001b[43m \u001b[49m\u001b[38;5;28;43;01mlambda\u001b[39;49;00m\u001b[43m:\u001b[49m\u001b[43m \u001b[49m\u001b[43mrun_and_get_output\u001b[49m\u001b[43m(\u001b[49m\u001b[38;5;241;43m*\u001b[39;49m\u001b[43m(\u001b[49m\u001b[43margs\u001b[49m\u001b[43m \u001b[49m\u001b[38;5;241;43m+\u001b[39;49m\u001b[43m \u001b[49m\u001b[43m[\u001b[49m\u001b[38;5;28;43;01mTrue\u001b[39;49;00m\u001b[43m]\u001b[49m\u001b[43m)\u001b[49m\u001b[43m)\u001b[49m\u001b[43m,\u001b[49m\n\u001b[1;32m    418\u001b[0m \u001b[43m    \u001b[49m\u001b[43mOutput\u001b[49m\u001b[38;5;241;43m.\u001b[39;49m\u001b[43mDICT\u001b[49m\u001b[43m:\u001b[49m\u001b[43m \u001b[49m\u001b[38;5;28;43;01mlambda\u001b[39;49;00m\u001b[43m:\u001b[49m\u001b[43m \u001b[49m\u001b[43m{\u001b[49m\u001b[38;5;124;43m'\u001b[39;49m\u001b[38;5;124;43mtext\u001b[39;49m\u001b[38;5;124;43m'\u001b[39;49m\u001b[43m:\u001b[49m\u001b[43m \u001b[49m\u001b[43mrun_and_get_output\u001b[49m\u001b[43m(\u001b[49m\u001b[38;5;241;43m*\u001b[39;49m\u001b[43margs\u001b[49m\u001b[43m)\u001b[49m\u001b[43m}\u001b[49m\u001b[43m,\u001b[49m\n\u001b[1;32m    419\u001b[0m \u001b[43m    \u001b[49m\u001b[43mOutput\u001b[49m\u001b[38;5;241;43m.\u001b[39;49m\u001b[43mSTRING\u001b[49m\u001b[43m:\u001b[49m\u001b[43m \u001b[49m\u001b[38;5;28;43;01mlambda\u001b[39;49;00m\u001b[43m:\u001b[49m\u001b[43m \u001b[49m\u001b[43mrun_and_get_output\u001b[49m\u001b[43m(\u001b[49m\u001b[38;5;241;43m*\u001b[39;49m\u001b[43margs\u001b[49m\u001b[43m)\u001b[49m\u001b[43m,\u001b[49m\n\u001b[1;32m    420\u001b[0m \u001b[43m\u001b[49m\u001b[43m}\u001b[49m\u001b[43m[\u001b[49m\u001b[43moutput_type\u001b[49m\u001b[43m]\u001b[49m\u001b[43m(\u001b[49m\u001b[43m)\u001b[49m\n",
            "File \u001b[0;32m/usr/local/lib/python3.8/site-packages/pytesseract/pytesseract.py:419\u001b[0m, in \u001b[0;36mimage_to_string.<locals>.<lambda>\u001b[0;34m()\u001b[0m\n\u001b[1;32m    411\u001b[0m \u001b[38;5;124;03m\"\"\"\u001b[39;00m\n\u001b[1;32m    412\u001b[0m \u001b[38;5;124;03mReturns the result of a Tesseract OCR run on the provided image to string\u001b[39;00m\n\u001b[1;32m    413\u001b[0m \u001b[38;5;124;03m\"\"\"\u001b[39;00m\n\u001b[1;32m    414\u001b[0m args \u001b[38;5;241m=\u001b[39m [image, \u001b[38;5;124m'\u001b[39m\u001b[38;5;124mtxt\u001b[39m\u001b[38;5;124m'\u001b[39m, lang, config, nice, timeout]\n\u001b[1;32m    416\u001b[0m \u001b[38;5;28;01mreturn\u001b[39;00m {\n\u001b[1;32m    417\u001b[0m     Output\u001b[38;5;241m.\u001b[39mBYTES: \u001b[38;5;28;01mlambda\u001b[39;00m: run_and_get_output(\u001b[38;5;241m*\u001b[39m(args \u001b[38;5;241m+\u001b[39m [\u001b[38;5;28;01mTrue\u001b[39;00m])),\n\u001b[1;32m    418\u001b[0m     Output\u001b[38;5;241m.\u001b[39mDICT: \u001b[38;5;28;01mlambda\u001b[39;00m: {\u001b[38;5;124m'\u001b[39m\u001b[38;5;124mtext\u001b[39m\u001b[38;5;124m'\u001b[39m: run_and_get_output(\u001b[38;5;241m*\u001b[39margs)},\n\u001b[0;32m--> 419\u001b[0m     Output\u001b[38;5;241m.\u001b[39mSTRING: \u001b[38;5;28;01mlambda\u001b[39;00m: \u001b[43mrun_and_get_output\u001b[49m\u001b[43m(\u001b[49m\u001b[38;5;241;43m*\u001b[39;49m\u001b[43margs\u001b[49m\u001b[43m)\u001b[49m,\n\u001b[1;32m    420\u001b[0m }[output_type]()\n",
            "File \u001b[0;32m/usr/local/lib/python3.8/site-packages/pytesseract/pytesseract.py:286\u001b[0m, in \u001b[0;36mrun_and_get_output\u001b[0;34m(image, extension, lang, config, nice, timeout, return_bytes)\u001b[0m\n\u001b[1;32m    275\u001b[0m \u001b[38;5;28;01mwith\u001b[39;00m save(image) \u001b[38;5;28;01mas\u001b[39;00m (temp_name, input_filename):\n\u001b[1;32m    276\u001b[0m     kwargs \u001b[38;5;241m=\u001b[39m {\n\u001b[1;32m    277\u001b[0m         \u001b[38;5;124m'\u001b[39m\u001b[38;5;124minput_filename\u001b[39m\u001b[38;5;124m'\u001b[39m: input_filename,\n\u001b[1;32m    278\u001b[0m         \u001b[38;5;124m'\u001b[39m\u001b[38;5;124moutput_filename_base\u001b[39m\u001b[38;5;124m'\u001b[39m: temp_name,\n\u001b[0;32m   (...)\u001b[0m\n\u001b[1;32m    283\u001b[0m         \u001b[38;5;124m'\u001b[39m\u001b[38;5;124mtimeout\u001b[39m\u001b[38;5;124m'\u001b[39m: timeout,\n\u001b[1;32m    284\u001b[0m     }\n\u001b[0;32m--> 286\u001b[0m     \u001b[43mrun_tesseract\u001b[49m\u001b[43m(\u001b[49m\u001b[38;5;241;43m*\u001b[39;49m\u001b[38;5;241;43m*\u001b[39;49m\u001b[43mkwargs\u001b[49m\u001b[43m)\u001b[49m\n\u001b[1;32m    287\u001b[0m     filename \u001b[38;5;241m=\u001b[39m kwargs[\u001b[38;5;124m'\u001b[39m\u001b[38;5;124moutput_filename_base\u001b[39m\u001b[38;5;124m'\u001b[39m] \u001b[38;5;241m+\u001b[39m extsep \u001b[38;5;241m+\u001b[39m extension\n\u001b[1;32m    288\u001b[0m     \u001b[38;5;28;01mwith\u001b[39;00m \u001b[38;5;28mopen\u001b[39m(filename, \u001b[38;5;124m'\u001b[39m\u001b[38;5;124mrb\u001b[39m\u001b[38;5;124m'\u001b[39m) \u001b[38;5;28;01mas\u001b[39;00m output_file:\n",
            "File \u001b[0;32m/usr/local/lib/python3.8/site-packages/pytesseract/pytesseract.py:262\u001b[0m, in \u001b[0;36mrun_tesseract\u001b[0;34m(input_filename, output_filename_base, extension, lang, config, nice, timeout)\u001b[0m\n\u001b[1;32m    260\u001b[0m \u001b[38;5;28;01mwith\u001b[39;00m timeout_manager(proc, timeout) \u001b[38;5;28;01mas\u001b[39;00m error_string:\n\u001b[1;32m    261\u001b[0m     \u001b[38;5;28;01mif\u001b[39;00m proc\u001b[38;5;241m.\u001b[39mreturncode:\n\u001b[0;32m--> 262\u001b[0m         \u001b[38;5;28;01mraise\u001b[39;00m TesseractError(proc\u001b[38;5;241m.\u001b[39mreturncode, get_errors(error_string))\n",
            "\u001b[0;31mTesseractError\u001b[0m: (1, 'Error opening data file /usr/share/tesseract-ocr/4.00/tessdata/heb.traineddata Please make sure the TESSDATA_PREFIX environment variable is set to your \"tessdata\" directory. Failed loading language \\'heb\\' Tesseract couldn\\'t load any languages! Could not initialize tesseract.')"
          ]
        }
      ],
      "source": [
        "# Import the Image module from the Pillow Library, which will help us access the image.\n",
        "from PIL import Image\n",
        "\n",
        "# Import the pytesseract library, which will run the OCR process.\n",
        "import pytesseract\n",
        "\n",
        "# Open a specific image file, convert the text in the image to computer-readable text (OCR),\n",
        "# and then print the results for us to see here.\n",
        "print(pytesseract.image_to_string(Image.open(\"/workspace/constellate-notebooks/data/Beirut1.jpg\"), lang=\"heb\"))"
      ]
    },
    {
      "cell_type": "markdown",
      "id": "41fa0271",
      "metadata": {
        "direction": "rtl",
        "id": "41fa0271"
      },
      "source": [
        "הבה נפרק את הקוד לעיל למרכיביו הבסיסיים:\n",
        "\n",
        "1. `(\"Image.open(\"/workspace/constellate-notebooks/data/Beirut1.jpg\"), lang=\"heb` - פתח את הקובץ `beirut.jpg` בתיקיית `data/`. קבע את השפה כעברית. הפונקציה `Image.open` מגיעה מספריית עיבוד התמונה של פייתון [(PIL: Python Imaging Library)](https://pillow.readthedocs.io/en/stable/index.html). \n",
        "\n",
        "\n",
        "2. `()pytesseract.image_to_string` - זהה תווים אלפא-נומריים בתמונה והמר אותם לטקסט קריא למחשב באמצעות הפונקצייה `image_to_string`.\n",
        "\n",
        "\n",
        "3. `()print` - הצג את פלט הטקסט."
      ]
    },
    {
      "cell_type": "markdown",
      "id": "f0aa9104",
      "metadata": {
        "direction": "rtl",
        "id": "f0aa9104"
      },
      "source": [
        "## אפשרויות Tesseract  \n",
        "\n",
        "Tesseract מציע שני סוגי מצבים (Modes) שבהם נוכל להשתמש כדי להתאים אישית את פלט ה-OCR:\n",
        "1. **OCR Engine Modes** או **OEMs** -  מצבי פעולה הקובעים את סוג האלגוריתם שבו משתמש Tesseract. \n",
        "2. **Page Segmentations Modes** או **PSMs** - קובע כיצד על Tesseract לקרוא את קבצי התמונה. כלומר, כיצד להפריד ולסדר את קטעי הטקסט בתוך קובץ התמונה.\n",
        "\n",
        "### OCR Engine Modes (OEMs)\n",
        "\n",
        "הפעילו את הפקודה הבאה כדי לצפות ברשימת האלגוריתמים הזמינים עבור Tesseract."
      ]
    },
    {
      "cell_type": "code",
      "execution_count": null,
      "id": "0d58f58a",
      "metadata": {
        "id": "0d58f58a",
        "outputId": "79584eb4-1e3d-41db-aff6-e55b4cd48fee"
      },
      "outputs": [
        {
          "name": "stdout",
          "output_type": "stream",
          "text": [
            "OCR Engine modes: (see https://github.com/tesseract-ocr/tesseract/wiki#linux)\r\n",
            "  0    Legacy engine only.\r\n",
            "  1    Neural nets LSTM engine only.\r\n",
            "  2    Legacy + LSTM engines.\r\n",
            "  3    Default, based on what is available.\r\n"
          ]
        }
      ],
      "source": [
        "# List the Tesseract OCR Engine Modes (OEMs)\n",
        "# Run a terminal command using an exclamation point\n",
        "!tesseract --help-oem"
      ]
    },
    {
      "cell_type": "markdown",
      "id": "bae225e3",
      "metadata": {
        "direction": "rtl",
        "id": "bae225e3"
      },
      "source": [
        "להלן הסבר מפורט יותר של מצבי הפעולה(OEMs) של Tesseract :\n",
        "\n",
        "- *0 - Legacy engine only.* - מצב פעולה זה מפעיל את אלגוריתם המקור של Tesseract.\n",
        "  \n",
        "- *1 - Neural nets LSTM engine only.* - מפעיל את אלגוריתם ה-LTSM בלבד.\n",
        "  \n",
        "- *2 - Legacy + LSTM engines* - גם אלגוריתם המקור וגם ה-LTSM מופעלים.\n",
        "\n",
        "- *3 - Default, based on what is available.* מצב הפעולה ייבחר על סמך על הקונפיגורציה (שפה, PSM) שהזנו. במידה ולא כלול מידע על הקונפיגרציה, Tesseract יופעל במצב זה כברירת מחדל. "
      ]
    },
    {
      "cell_type": "markdown",
      "id": "b8c9df7e",
      "metadata": {
        "direction": "rtl",
        "id": "b8c9df7e"
      },
      "source": [
        "___\n",
        "<h3 style=\"color:red; display:inline\">נסו זאת! &lt; / &gt; </h3>\n",
        "\n",
        "הפעל את הסקריפט הבא. החלף בין מצבי הפעולה של Tesseract באמצעות החלפת המספר בשורה הראשונה. \n",
        "___"
      ]
    },
    {
      "cell_type": "code",
      "execution_count": null,
      "id": "c240a0e7",
      "metadata": {
        "id": "c240a0e7"
      },
      "outputs": [],
      "source": [
        "# Change the OEM number below to try\n",
        "# running another OCR mode.\n",
        "# 3 is the default setting.\n",
        "custom_oem_config = r'--oem 0'\n",
        "\n",
        "# Open a specific image file, convert the text in the image to computer-readable text (OCR)\n",
        "# following the language and mode configuration we specify,\n",
        "# and then print the results for us to see here.\n",
        "print(pytesseract.image_to_string(Image.open(\"/workspace/constellate-notebooks/data/Beirut1.jpg\"), lang=\"heb\", config=custom_oem_config))"
      ]
    },
    {
      "cell_type": "markdown",
      "id": "65d3b4a6",
      "metadata": {
        "direction": "rtl",
        "id": "65d3b4a6"
      },
      "source": [
        "### Page Segmentation Modes (PSM)\n",
        "\n",
        "הפעילו את הפקודה הבאה כדי להציג את אפשרויות קריאת התמונה (PSMs) הזמינות עבור Tesseract."
      ]
    },
    {
      "cell_type": "code",
      "execution_count": null,
      "id": "541b00b3",
      "metadata": {
        "id": "541b00b3"
      },
      "outputs": [],
      "source": [
        "!tesseract --help-psm"
      ]
    },
    {
      "cell_type": "markdown",
      "id": "d5acf02f",
      "metadata": {
        "direction": "rtl",
        "id": "d5acf02f"
      },
      "source": [
        "כברירת מחדל (אפשרות 3), Tesseract לא ינסה לזהות את הכתב או את כיוון הטקסט. הוא ינסה לזהות מקטעים של טקסט ולהפרידם אחד מן השני.  "
      ]
    },
    {
      "cell_type": "code",
      "execution_count": null,
      "id": "b2725f81",
      "metadata": {
        "id": "b2725f81"
      },
      "outputs": [],
      "source": [
        "# Change the PSM number below to try\n",
        "# running another page segmentation mode.\n",
        "# 3 is the default setting.\n",
        "custom_psm_config = r'--psm 3'\n",
        "\n",
        "# Open a specific image file, convert the text in the image to computer-readable text (OCR)\n",
        "# following the language and mode configuration we specify,\n",
        "# and then print the results for us to see here.\n",
        "print(pytesseract.image_to_string(Image.open(\"/workspace/constellate-notebooks/data/IDF_TST.JPG\"), lang=\"heb\", config=custom_psm_config))"
      ]
    },
    {
      "cell_type": "markdown",
      "id": "80e630c5",
      "metadata": {
        "direction": "rtl",
        "id": "80e630c5"
      },
      "source": [
        "### שמירת מחרוזות OCR למסמכים (.txt, .html, .pdf, .tsv)\n",
        "\n",
        "בנוסף ל-txt, Tesseract יכול להמיר תמונות שעברו OCR ל-[hOCR או HTML](https://en.wikipedia.org/wiki/HOCR), קובץ PDF חפיש, וקובץ TSV.\n",
        "\n",
        "___\n",
        "<h3 style=\"color:red; display:inline\">נסו זאת! &lt; / &gt; </h3>\n",
        "\n",
        "הסקריפטים למטה מייצאים את הטקסט לפורמטים שונים של קבצים. נסו כל אחד ופעלו בהתאם להוראות המתקבלות.\n",
        "___"
      ]
    },
    {
      "cell_type": "code",
      "execution_count": null,
      "id": "f0ce3685",
      "metadata": {
        "id": "f0ce3685"
      },
      "outputs": [],
      "source": [
        "# Output to text file (.txt)\n",
        "# File location\n",
        "# You can change the filename in quotes below to OCR a different file.\n",
        "file = \"/workspace/constellate-notebooks/data/Beirut1.jpg\"\n",
        "\n",
        "# Open the file named above. \n",
        "# While it's open, do several things:\n",
        "with open(file, 'rb') as f:\n",
        "        \n",
        "    # Read the file using PIL's Image module.\n",
        "    img = Image.open(f)\n",
        "    \n",
        "    # Run OCR on the open file.\n",
        "    ocrText = pytesseract.image_to_string(img, lang=\"heb\")\n",
        "        \n",
        "# Get a file name--without the extension-- \n",
        "# to use when we name the output file.\n",
        "    \n",
        "fileName = file.rsplit('/', 1)[-1]\n",
        "fileName = fileName.rsplit('.', 1)[0]\n",
        "\n",
        "# The image file above will be closed before moving on to this line.\n",
        "# The OCR'ed text has been pulled from the image and stored in\n",
        "# a Python variable for us to continue to use.\n",
        "\n",
        "# Create and open a new text file, name it to match its input file,\n",
        "# declare its encoding to be UTF-8 so that it correctly outputs\n",
        "# non-ASCII characters.\n",
        "with open(f'/workspace/constellate-notebooks/data/{fileName}.txt', \"w\", encoding=\"utf-8\") as outFile:\n",
        "        \n",
        "    # and write the OCR'ed text to the file.\n",
        "    outFile.write(ocrText)\n",
        "\n",
        "# Display a message to let us know the file has been created\n",
        "# and the script successfully completed.\n",
        "print(fileName, \"text file successfully created.\")"
      ]
    },
    {
      "cell_type": "markdown",
      "id": "21a131f6",
      "metadata": {
        "direction": "rtl",
        "id": "21a131f6"
      },
      "source": [
        "כדי לפתוח קובץ זה, השתמשו בתפריט העליון כדי לגשת ל-**File** ובחר ב-**Open**. לאחר מכן תוכלו לבחור להציג, לערוך, לשנות או להוריד את הקובץ למחשבכם האישי."
      ]
    },
    {
      "cell_type": "code",
      "execution_count": null,
      "id": "c5592d99",
      "metadata": {
        "id": "c5592d99"
      },
      "outputs": [],
      "source": [
        "# Output to pdf file (.pdf)\n",
        "\n",
        "# File location\n",
        "# You can change the filename in quotes below to OCR a different file.\n",
        "file = \"/workspace/constellate-notebooks/data/Beirut1.jpg\"\n",
        "\n",
        "# Get a file name--without the extension-- \n",
        "# to use when we name the output file.\n",
        "fileName = file.rsplit('/', 1)[-1]\n",
        "fileName = fileName.rsplit('.', 1)[0]\n",
        "\n",
        "# Run OCR on an image file and save it as a PDF object (not file)\n",
        "# within Python.\n",
        "pdf = pytesseract.image_to_pdf_or_hocr(file, extension='pdf', lang=\"heb\")\n",
        "\n",
        "# Create a new empty pdf.\n",
        "with open(f'/workspace/constellate-notebooks/data/{fileName}.pdf', 'w+b') as f:\n",
        "    \n",
        "    # Save the PDF object to the new empty PDF file.\n",
        "    f.write(pdf)\n",
        "\n",
        "# Display a message to let us know the file has been created\n",
        "# and the script successfully completed.\n",
        "print(fileName, \"PDF successfully created.\")"
      ]
    },
    {
      "cell_type": "markdown",
      "id": "4efbb792",
      "metadata": {
        "direction": "rtl",
        "id": "4efbb792"
      },
      "source": [
        "כדי לפתוח קובץ זה, השתמשו בתפריט העליון כדי לגשת ל-**File** ובחר ב-**Open**. לאחר מכן תוכלו לבחור להציג, לערוך, לשנות או להוריד את הקובץ למחשבכם האישי."
      ]
    },
    {
      "cell_type": "code",
      "execution_count": null,
      "id": "b14990b6",
      "metadata": {
        "id": "b14990b6"
      },
      "outputs": [],
      "source": [
        "# Output to html file (.html)\n",
        "\n",
        "# File location\n",
        "# You can change the filename in quotes below to OCR a different file.\n",
        "file = \"/workspace/constellate-notebooks/data/Beirut1.jpg\"\n",
        "\n",
        "# Get a file name--without the extension-- \n",
        "# to use when we name the output file.\n",
        "fileName = file.rsplit('/', 1)[-1]\n",
        "fileName = fileName.rsplit('.', 1)[0]\n",
        "\n",
        "# Run OCR on an image file and save it as an HTML object (not file)\n",
        "# within Python.\n",
        "hocr = pytesseract.image_to_pdf_or_hocr(file, extension='hocr', lang='heb')\n",
        "\n",
        "# Create a new empty HTML file. Open it in \"w+b\" mode.\n",
        "# \"w+b\" is a mode that tells Python to write whatever\n",
        "# data we give to a file in binary mode--meaning that \n",
        "# it will not apply any encoding or try to translate\n",
        "# a non-ASCII character to an ASCII character.\n",
        "with open(f'/workspace/constellate-notebooks/data/{fileName}.html', 'w+b') as f:\n",
        "    \n",
        "    # Save the PDF object to the new empty PDF file.\n",
        "    f.write(hocr)\n",
        "\n",
        "# Display a message to let us know the file has been created\n",
        "# and the script successfully completed.\n",
        "print(fileName, \"HTML successfully created.\")"
      ]
    },
    {
      "cell_type": "markdown",
      "id": "579fe00a",
      "metadata": {
        "direction": "rtl",
        "id": "579fe00a"
      },
      "source": [
        "כדי לפתוח קובץ זה, השתמשו בתפריט העליון כדי לגשת ל-**File** ובחר ב-**Open**. לאחר מכן תוכלו לבחור להציג, לערוך, לשנות או להוריד את הקובץ למחשבכם האישי."
      ]
    }
  ],
  "metadata": {
    "direction": "ltr",
    "kernelspec": {
      "display_name": "Python 3",
      "language": "python",
      "name": "python3"
    },
    "language_info": {
      "codemirror_mode": {
        "name": "ipython",
        "version": 3
      },
      "file_extension": ".py",
      "mimetype": "text/x-python",
      "name": "python",
      "nbconvert_exporter": "python",
      "pygments_lexer": "ipython3",
      "version": "3.8.13"
    },
    "toc": {
      "base_numbering": 1,
      "nav_menu": {},
      "number_sections": true,
      "sideBar": true,
      "skip_h1_title": true,
      "title_cell": "Table of Contents",
      "title_sidebar": "Contents",
      "toc_cell": false,
      "toc_position": {
        "height": "calc(100% - 180px)",
        "left": "10px",
        "top": "150px",
        "width": "165px"
      },
      "toc_section_display": true,
      "toc_window_display": false
    },
    "colab": {
      "provenance": [],
      "include_colab_link": true
    }
  },
  "nbformat": 4,
  "nbformat_minor": 5
}